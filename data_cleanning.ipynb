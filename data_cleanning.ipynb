{
 "cells": [
  {
   "cell_type": "markdown",
   "metadata": {},
   "source": [
    "# Data Cleaning\n",
    "Clean the raw data collected from the scrapper and prepare the data ready for exploratory data analysis"
   ]
  },
  {
   "cell_type": "code",
   "execution_count": 5,
   "metadata": {},
   "outputs": [],
   "source": [
    "import pandas as pd\n",
    "import numpy as np\n",
    "import matplotlib.pyplot as plt\n",
    "\n",
    "df = pd.read_csv(\"autotrader_prices.csv\", parse_dates=[\"year\"])"
   ]
  },
  {
   "cell_type": "code",
   "execution_count": 6,
   "metadata": {},
   "outputs": [
    {
     "data": {
      "text/html": [
       "<div>\n",
       "<style scoped>\n",
       "    .dataframe tbody tr th:only-of-type {\n",
       "        vertical-align: middle;\n",
       "    }\n",
       "\n",
       "    .dataframe tbody tr th {\n",
       "        vertical-align: top;\n",
       "    }\n",
       "\n",
       "    .dataframe thead th {\n",
       "        text-align: right;\n",
       "    }\n",
       "</style>\n",
       "<table border=\"1\" class=\"dataframe\">\n",
       "  <thead>\n",
       "    <tr style=\"text-align: right;\">\n",
       "      <th></th>\n",
       "      <th>BHP</th>\n",
       "      <th>ULEZ</th>\n",
       "      <th>body</th>\n",
       "      <th>engine</th>\n",
       "      <th>fuel</th>\n",
       "      <th>link</th>\n",
       "      <th>mileage</th>\n",
       "      <th>name</th>\n",
       "      <th>owners</th>\n",
       "      <th>price</th>\n",
       "      <th>transmission</th>\n",
       "      <th>year</th>\n",
       "    </tr>\n",
       "  </thead>\n",
       "  <tbody>\n",
       "    <tr>\n",
       "      <th>0</th>\n",
       "      <td>108.0</td>\n",
       "      <td>ULEZ</td>\n",
       "      <td>Hatchback</td>\n",
       "      <td>1.6L</td>\n",
       "      <td>Diesel</td>\n",
       "      <td>https://www.autotrader.co.uk/car-details/20200...</td>\n",
       "      <td>82850</td>\n",
       "      <td>Audi A3 1.6 TDI SE 5d 109 BHP Nav Prep - Bluet...</td>\n",
       "      <td>NaN</td>\n",
       "      <td>£7,991</td>\n",
       "      <td>Manual</td>\n",
       "      <td>2015 (15 reg)</td>\n",
       "    </tr>\n",
       "    <tr>\n",
       "      <th>1</th>\n",
       "      <td>148.0</td>\n",
       "      <td>ULEZ</td>\n",
       "      <td>Hatchback</td>\n",
       "      <td>2.0L</td>\n",
       "      <td>Diesel</td>\n",
       "      <td>https://www.autotrader.co.uk/car-details/20201...</td>\n",
       "      <td>38627</td>\n",
       "      <td>Audi A3 2.0 TDI SE 5d 148 BHP, £20 YEAR ROAD T...</td>\n",
       "      <td>NaN</td>\n",
       "      <td>£10,980</td>\n",
       "      <td>Manual</td>\n",
       "      <td>2015 (65 reg)</td>\n",
       "    </tr>\n",
       "    <tr>\n",
       "      <th>2</th>\n",
       "      <td>108.0</td>\n",
       "      <td>ULEZ</td>\n",
       "      <td>Hatchback</td>\n",
       "      <td>1.6L</td>\n",
       "      <td>Diesel</td>\n",
       "      <td>https://www.autotrader.co.uk/car-details/20201...</td>\n",
       "      <td>84812</td>\n",
       "      <td>Audi A3 1.6 TDI 110 Sport 5dr Satellite Naviga...</td>\n",
       "      <td>NaN</td>\n",
       "      <td>£8,350</td>\n",
       "      <td>Manual</td>\n",
       "      <td>2015 (15 reg)</td>\n",
       "    </tr>\n",
       "    <tr>\n",
       "      <th>3</th>\n",
       "      <td>182.0</td>\n",
       "      <td>ULEZ</td>\n",
       "      <td>Hatchback</td>\n",
       "      <td>2.0L</td>\n",
       "      <td>Diesel</td>\n",
       "      <td>https://www.autotrader.co.uk/car-details/20200...</td>\n",
       "      <td>74413</td>\n",
       "      <td>Audi A3 2.0 TDI Sport Sportback S Tronic quatt...</td>\n",
       "      <td>NaN</td>\n",
       "      <td>£9,699</td>\n",
       "      <td>Automatic</td>\n",
       "      <td>2015 (15 reg)</td>\n",
       "    </tr>\n",
       "    <tr>\n",
       "      <th>4</th>\n",
       "      <td>108.0</td>\n",
       "      <td>ULEZ</td>\n",
       "      <td>Hatchback</td>\n",
       "      <td>1.6L</td>\n",
       "      <td>Diesel</td>\n",
       "      <td>https://www.autotrader.co.uk/car-details/20201...</td>\n",
       "      <td>59152</td>\n",
       "      <td>Audi A3 1.6 TDI SE Sportback 5dr</td>\n",
       "      <td>NaN</td>\n",
       "      <td>£8,990</td>\n",
       "      <td>Manual</td>\n",
       "      <td>2015 (15 reg)</td>\n",
       "    </tr>\n",
       "  </tbody>\n",
       "</table>\n",
       "</div>"
      ],
      "text/plain": [
       "     BHP  ULEZ       body engine    fuel  \\\n",
       "0  108.0  ULEZ  Hatchback   1.6L  Diesel   \n",
       "1  148.0  ULEZ  Hatchback   2.0L  Diesel   \n",
       "2  108.0  ULEZ  Hatchback   1.6L  Diesel   \n",
       "3  182.0  ULEZ  Hatchback   2.0L  Diesel   \n",
       "4  108.0  ULEZ  Hatchback   1.6L  Diesel   \n",
       "\n",
       "                                                link  mileage  \\\n",
       "0  https://www.autotrader.co.uk/car-details/20200...    82850   \n",
       "1  https://www.autotrader.co.uk/car-details/20201...    38627   \n",
       "2  https://www.autotrader.co.uk/car-details/20201...    84812   \n",
       "3  https://www.autotrader.co.uk/car-details/20200...    74413   \n",
       "4  https://www.autotrader.co.uk/car-details/20201...    59152   \n",
       "\n",
       "                                                name  owners    price  \\\n",
       "0  Audi A3 1.6 TDI SE 5d 109 BHP Nav Prep - Bluet...     NaN   £7,991   \n",
       "1  Audi A3 2.0 TDI SE 5d 148 BHP, £20 YEAR ROAD T...     NaN  £10,980   \n",
       "2  Audi A3 1.6 TDI 110 Sport 5dr Satellite Naviga...     NaN   £8,350   \n",
       "3  Audi A3 2.0 TDI Sport Sportback S Tronic quatt...     NaN   £9,699   \n",
       "4                   Audi A3 1.6 TDI SE Sportback 5dr     NaN   £8,990   \n",
       "\n",
       "  transmission           year  \n",
       "0       Manual  2015 (15 reg)  \n",
       "1       Manual  2015 (65 reg)  \n",
       "2       Manual  2015 (15 reg)  \n",
       "3    Automatic  2015 (15 reg)  \n",
       "4       Manual  2015 (15 reg)  "
      ]
     },
     "execution_count": 6,
     "metadata": {},
     "output_type": "execute_result"
    }
   ],
   "source": [
    "df.head()"
   ]
  },
  {
   "cell_type": "code",
   "execution_count": 7,
   "metadata": {},
   "outputs": [
    {
     "name": "stdout",
     "output_type": "stream",
     "text": [
      "<class 'pandas.core.frame.DataFrame'>\n",
      "RangeIndex: 626 entries, 0 to 625\n",
      "Data columns (total 12 columns):\n",
      "BHP             469 non-null float64\n",
      "ULEZ            617 non-null object\n",
      "body            626 non-null object\n",
      "engine          626 non-null object\n",
      "fuel            625 non-null object\n",
      "link            626 non-null object\n",
      "mileage         626 non-null int64\n",
      "name            626 non-null object\n",
      "owners          34 non-null float64\n",
      "price           626 non-null object\n",
      "transmission    626 non-null object\n",
      "year            626 non-null object\n",
      "dtypes: float64(2), int64(1), object(9)\n",
      "memory usage: 58.8+ KB\n"
     ]
    }
   ],
   "source": [
    "df.info()"
   ]
  },
  {
   "cell_type": "code",
   "execution_count": 8,
   "metadata": {},
   "outputs": [
    {
     "data": {
      "text/html": [
       "<div>\n",
       "<style scoped>\n",
       "    .dataframe tbody tr th:only-of-type {\n",
       "        vertical-align: middle;\n",
       "    }\n",
       "\n",
       "    .dataframe tbody tr th {\n",
       "        vertical-align: top;\n",
       "    }\n",
       "\n",
       "    .dataframe thead th {\n",
       "        text-align: right;\n",
       "    }\n",
       "</style>\n",
       "<table border=\"1\" class=\"dataframe\">\n",
       "  <thead>\n",
       "    <tr style=\"text-align: right;\">\n",
       "      <th></th>\n",
       "      <th>BHP</th>\n",
       "      <th>mileage</th>\n",
       "      <th>owners</th>\n",
       "    </tr>\n",
       "  </thead>\n",
       "  <tbody>\n",
       "    <tr>\n",
       "      <th>count</th>\n",
       "      <td>469.000000</td>\n",
       "      <td>626.000000</td>\n",
       "      <td>34.000000</td>\n",
       "    </tr>\n",
       "    <tr>\n",
       "      <th>mean</th>\n",
       "      <td>157.720682</td>\n",
       "      <td>27150.118211</td>\n",
       "      <td>2.264706</td>\n",
       "    </tr>\n",
       "    <tr>\n",
       "      <th>std</th>\n",
       "      <td>63.677983</td>\n",
       "      <td>18308.222440</td>\n",
       "      <td>0.567227</td>\n",
       "    </tr>\n",
       "    <tr>\n",
       "      <th>min</th>\n",
       "      <td>68.000000</td>\n",
       "      <td>10.000000</td>\n",
       "      <td>2.000000</td>\n",
       "    </tr>\n",
       "    <tr>\n",
       "      <th>25%</th>\n",
       "      <td>116.000000</td>\n",
       "      <td>14663.250000</td>\n",
       "      <td>2.000000</td>\n",
       "    </tr>\n",
       "    <tr>\n",
       "      <th>50%</th>\n",
       "      <td>148.000000</td>\n",
       "      <td>25153.500000</td>\n",
       "      <td>2.000000</td>\n",
       "    </tr>\n",
       "    <tr>\n",
       "      <th>75%</th>\n",
       "      <td>190.000000</td>\n",
       "      <td>35429.500000</td>\n",
       "      <td>2.000000</td>\n",
       "    </tr>\n",
       "    <tr>\n",
       "      <th>max</th>\n",
       "      <td>340.000000</td>\n",
       "      <td>124395.000000</td>\n",
       "      <td>4.000000</td>\n",
       "    </tr>\n",
       "  </tbody>\n",
       "</table>\n",
       "</div>"
      ],
      "text/plain": [
       "              BHP        mileage     owners\n",
       "count  469.000000     626.000000  34.000000\n",
       "mean   157.720682   27150.118211   2.264706\n",
       "std     63.677983   18308.222440   0.567227\n",
       "min     68.000000      10.000000   2.000000\n",
       "25%    116.000000   14663.250000   2.000000\n",
       "50%    148.000000   25153.500000   2.000000\n",
       "75%    190.000000   35429.500000   2.000000\n",
       "max    340.000000  124395.000000   4.000000"
      ]
     },
     "execution_count": 8,
     "metadata": {},
     "output_type": "execute_result"
    }
   ],
   "source": [
    "df.describe()"
   ]
  },
  {
   "cell_type": "code",
   "execution_count": 9,
   "metadata": {},
   "outputs": [
    {
     "data": {
      "text/plain": [
       "BHP             157\n",
       "ULEZ              9\n",
       "body              0\n",
       "engine            0\n",
       "fuel              1\n",
       "link              0\n",
       "mileage           0\n",
       "name              0\n",
       "owners          592\n",
       "price             0\n",
       "transmission      0\n",
       "year              0\n",
       "dtype: int64"
      ]
     },
     "execution_count": 9,
     "metadata": {},
     "output_type": "execute_result"
    }
   ],
   "source": [
    "df.isna().sum()"
   ]
  },
  {
   "cell_type": "markdown",
   "metadata": {},
   "source": [
    "## Data cleaning"
   ]
  },
  {
   "cell_type": "markdown",
   "metadata": {},
   "source": [
    "### Filling missing BHP\n",
    "Tried to first replace with median value, however, need to use **a more sensible way of filling up this feature**"
   ]
  },
  {
   "cell_type": "code",
   "execution_count": 10,
   "metadata": {},
   "outputs": [],
   "source": [
    "df_clean = df.copy()\n",
    "df_clean[\"BHP\"].fillna(df.BHP.median(), inplace=True)"
   ]
  },
  {
   "cell_type": "markdown",
   "metadata": {},
   "source": [
    "### Filling ULEZ compliance"
   ]
  },
  {
   "cell_type": "code",
   "execution_count": 11,
   "metadata": {},
   "outputs": [],
   "source": [
    "df_clean[\"ULEZ\"].fillna(\"Non-ULEZ\", inplace=True)"
   ]
  },
  {
   "cell_type": "markdown",
   "metadata": {},
   "source": [
    "### Engine size parsing\n",
    "Get rid of the Liter \"L\" and convert to float"
   ]
  },
  {
   "cell_type": "code",
   "execution_count": 12,
   "metadata": {},
   "outputs": [],
   "source": [
    "df_clean[\"engine\"] = df_clean[\"engine\"].apply(lambda x: float(x[:-1]))"
   ]
  },
  {
   "cell_type": "markdown",
   "metadata": {},
   "source": [
    "### Remove link"
   ]
  },
  {
   "cell_type": "code",
   "execution_count": 13,
   "metadata": {},
   "outputs": [],
   "source": [
    "df_clean.drop([\"link\"], axis=1, inplace=True)"
   ]
  },
  {
   "cell_type": "markdown",
   "metadata": {},
   "source": [
    "### Parsing name into multiple extra features"
   ]
  },
  {
   "cell_type": "code",
   "execution_count": 14,
   "metadata": {},
   "outputs": [],
   "source": [
    "df_clean[\"make\"] = df_clean[\"name\"].apply(lambda x:x.split()[0])\n",
    "df_clean[\"model\"] = df_clean[\"name\"].apply(lambda x:x.split()[1])"
   ]
  },
  {
   "cell_type": "code",
   "execution_count": 15,
   "metadata": {},
   "outputs": [
    {
     "data": {
      "text/plain": [
       "1    384\n",
       "0    242\n",
       "Name: se, dtype: int64"
      ]
     },
     "execution_count": 15,
     "metadata": {},
     "output_type": "execute_result"
    }
   ],
   "source": [
    "# diffentiate from \"ECO\", SE\", \"Sport\", \"M Sport\", \"Lux\", Nav/Satellite\", \"Bluetooth\",\n",
    "# \"Leather\", \"3-door\", \n",
    "df_clean[\"se\"] = df_clean[\"name\"].apply(lambda x: 1 if \"se\" in x.lower() else 0)\n",
    "df_clean[\"se\"].value_counts()"
   ]
  },
  {
   "cell_type": "code",
   "execution_count": 16,
   "metadata": {},
   "outputs": [
    {
     "data": {
      "text/plain": [
       "0    622\n",
       "1      4\n",
       "Name: eco, dtype: int64"
      ]
     },
     "execution_count": 16,
     "metadata": {},
     "output_type": "execute_result"
    }
   ],
   "source": [
    "# maybe too small/biased to be relevant\n",
    "df_clean[\"eco\"] = df_clean[\"name\"].apply(lambda x: 1 if \"eco\" in x.lower() else 0)\n",
    "df_clean[\"eco\"].value_counts()"
   ]
  },
  {
   "cell_type": "code",
   "execution_count": 17,
   "metadata": {},
   "outputs": [
    {
     "data": {
      "text/plain": [
       "1    380\n",
       "0    246\n",
       "Name: sport, dtype: int64"
      ]
     },
     "execution_count": 17,
     "metadata": {},
     "output_type": "execute_result"
    }
   ],
   "source": [
    "df_clean[\"sport\"] = df_clean[\"name\"].apply(lambda x: 1 if \"sport\" in x.lower() else 0)\n",
    "df_clean[\"sport\"].value_counts()"
   ]
  },
  {
   "cell_type": "code",
   "execution_count": 18,
   "metadata": {},
   "outputs": [
    {
     "data": {
      "text/plain": [
       "0    443\n",
       "1    183\n",
       "Name: m_sport, dtype: int64"
      ]
     },
     "execution_count": 18,
     "metadata": {},
     "output_type": "execute_result"
    }
   ],
   "source": [
    "df_clean[\"m_sport\"] = df_clean[\"name\"].apply(lambda x: 1 if \"m sport\" in x.lower() else 0)\n",
    "df_clean[\"m_sport\"].value_counts()"
   ]
  },
  {
   "cell_type": "code",
   "execution_count": 19,
   "metadata": {},
   "outputs": [
    {
     "data": {
      "text/plain": [
       "0    620\n",
       "1      6\n",
       "Name: lux, dtype: int64"
      ]
     },
     "execution_count": 19,
     "metadata": {},
     "output_type": "execute_result"
    }
   ],
   "source": [
    "# maybe too small/biased to be relevant\n",
    "df_clean[\"lux\"] = df_clean[\"name\"].apply(lambda x: 1 if \"lux\" in x.lower() else 0)\n",
    "df_clean[\"lux\"].value_counts()"
   ]
  },
  {
   "cell_type": "code",
   "execution_count": 20,
   "metadata": {},
   "outputs": [
    {
     "data": {
      "text/plain": [
       "0    522\n",
       "1    104\n",
       "Name: sat_nav, dtype: int64"
      ]
     },
     "execution_count": 20,
     "metadata": {},
     "output_type": "execute_result"
    }
   ],
   "source": [
    "df_clean[\"sat_nav\"] = df_clean[\"name\"].apply(lambda x: 1 if \"sat\" in x.lower() or \"nav\" in x.lower() else 0)\n",
    "df_clean[\"sat_nav\"].value_counts()"
   ]
  },
  {
   "cell_type": "code",
   "execution_count": 21,
   "metadata": {},
   "outputs": [
    {
     "data": {
      "text/plain": [
       "0    605\n",
       "1     21\n",
       "Name: bluetooth, dtype: int64"
      ]
     },
     "execution_count": 21,
     "metadata": {},
     "output_type": "execute_result"
    }
   ],
   "source": [
    "df_clean[\"bluetooth\"] = df_clean[\"name\"].apply(lambda x: 1 if \"bluetooth\" in x.lower() else 0)\n",
    "df_clean[\"bluetooth\"].value_counts()"
   ]
  },
  {
   "cell_type": "code",
   "execution_count": 22,
   "metadata": {},
   "outputs": [
    {
     "data": {
      "text/plain": [
       "0    605\n",
       "1     21\n",
       "Name: leather, dtype: int64"
      ]
     },
     "execution_count": 22,
     "metadata": {},
     "output_type": "execute_result"
    }
   ],
   "source": [
    "df_clean[\"leather\"] = df_clean[\"name\"].apply(lambda x: 1 if \"leather\" in x.lower() else 0)\n",
    "df_clean[\"leather\"].value_counts()"
   ]
  },
  {
   "cell_type": "code",
   "execution_count": 23,
   "metadata": {},
   "outputs": [
    {
     "data": {
      "text/plain": [
       "0    621\n",
       "1      5\n",
       "Name: three_door, dtype: int64"
      ]
     },
     "execution_count": 23,
     "metadata": {},
     "output_type": "execute_result"
    }
   ],
   "source": [
    "df_clean[\"three_door\"] = df_clean[\"name\"].apply(lambda x: 1 if \"3-door\" in x.lower() else 0)\n",
    "df_clean[\"three_door\"].value_counts()"
   ]
  },
  {
   "cell_type": "markdown",
   "metadata": {},
   "source": [
    "### Filling missing owners\n",
    "Fill missing values with median value"
   ]
  },
  {
   "cell_type": "code",
   "execution_count": 24,
   "metadata": {},
   "outputs": [],
   "source": [
    "df_clean[\"owners\"].fillna(df.owners.median(), inplace=True)"
   ]
  },
  {
   "cell_type": "markdown",
   "metadata": {},
   "source": [
    "### Parsing years"
   ]
  },
  {
   "cell_type": "code",
   "execution_count": 25,
   "metadata": {},
   "outputs": [],
   "source": [
    "df_clean[\"year_reg\"] = df_clean[\"year\"].apply(lambda x: x.split(\"(\")[1].replace(\")\",\"\"))\n",
    "df_clean[\"year\"] = df_clean[\"year\"].apply(lambda x: int(x.split(\"(\")[0]))"
   ]
  },
  {
   "cell_type": "markdown",
   "metadata": {},
   "source": [
    "### Parsing price"
   ]
  },
  {
   "cell_type": "code",
   "execution_count": 26,
   "metadata": {},
   "outputs": [],
   "source": [
    "df_clean[\"price\"] = df_clean[\"price\"].apply(lambda x: int(x.replace(\"£\",\"\").replace(\",\",\"\")))"
   ]
  },
  {
   "cell_type": "markdown",
   "metadata": {},
   "source": [
    "### Parsing fuel"
   ]
  },
  {
   "cell_type": "code",
   "execution_count": 27,
   "metadata": {},
   "outputs": [
    {
     "data": {
      "text/plain": [
       "618    Fiat\n",
       "Name: make, dtype: object"
      ]
     },
     "execution_count": 27,
     "metadata": {},
     "output_type": "execute_result"
    }
   ],
   "source": [
    "df_fuel = df_clean[df_clean.fuel.isna()]\n",
    "df_fuel.make"
   ]
  },
  {
   "cell_type": "code",
   "execution_count": 28,
   "metadata": {},
   "outputs": [
    {
     "data": {
      "text/plain": [
       "Petrol    65\n",
       "Name: fuel, dtype: int64"
      ]
     },
     "execution_count": 28,
     "metadata": {},
     "output_type": "execute_result"
    }
   ],
   "source": [
    "df_fuel = df_clean[df_clean.make == \"Fiat\"]\n",
    "df_fuel.fuel.value_counts()"
   ]
  },
  {
   "cell_type": "code",
   "execution_count": 29,
   "metadata": {},
   "outputs": [],
   "source": [
    "df_clean[\"fuel\"].fillna(\"Petrol\", inplace=True)"
   ]
  },
  {
   "cell_type": "markdown",
   "metadata": {},
   "source": [
    "### Check and save"
   ]
  },
  {
   "cell_type": "code",
   "execution_count": 30,
   "metadata": {},
   "outputs": [
    {
     "data": {
      "text/html": [
       "<div>\n",
       "<style scoped>\n",
       "    .dataframe tbody tr th:only-of-type {\n",
       "        vertical-align: middle;\n",
       "    }\n",
       "\n",
       "    .dataframe tbody tr th {\n",
       "        vertical-align: top;\n",
       "    }\n",
       "\n",
       "    .dataframe thead th {\n",
       "        text-align: right;\n",
       "    }\n",
       "</style>\n",
       "<table border=\"1\" class=\"dataframe\">\n",
       "  <thead>\n",
       "    <tr style=\"text-align: right;\">\n",
       "      <th></th>\n",
       "      <th>BHP</th>\n",
       "      <th>ULEZ</th>\n",
       "      <th>body</th>\n",
       "      <th>engine</th>\n",
       "      <th>fuel</th>\n",
       "      <th>mileage</th>\n",
       "      <th>name</th>\n",
       "      <th>owners</th>\n",
       "      <th>price</th>\n",
       "      <th>transmission</th>\n",
       "      <th>...</th>\n",
       "      <th>se</th>\n",
       "      <th>eco</th>\n",
       "      <th>sport</th>\n",
       "      <th>m_sport</th>\n",
       "      <th>lux</th>\n",
       "      <th>sat_nav</th>\n",
       "      <th>bluetooth</th>\n",
       "      <th>leather</th>\n",
       "      <th>three_door</th>\n",
       "      <th>year_reg</th>\n",
       "    </tr>\n",
       "  </thead>\n",
       "  <tbody>\n",
       "    <tr>\n",
       "      <th>0</th>\n",
       "      <td>108.0</td>\n",
       "      <td>ULEZ</td>\n",
       "      <td>Hatchback</td>\n",
       "      <td>1.6</td>\n",
       "      <td>Diesel</td>\n",
       "      <td>82850</td>\n",
       "      <td>Audi A3 1.6 TDI SE 5d 109 BHP Nav Prep - Bluet...</td>\n",
       "      <td>2.0</td>\n",
       "      <td>7991</td>\n",
       "      <td>Manual</td>\n",
       "      <td>...</td>\n",
       "      <td>1</td>\n",
       "      <td>0</td>\n",
       "      <td>0</td>\n",
       "      <td>0</td>\n",
       "      <td>0</td>\n",
       "      <td>1</td>\n",
       "      <td>1</td>\n",
       "      <td>0</td>\n",
       "      <td>0</td>\n",
       "      <td>15 reg</td>\n",
       "    </tr>\n",
       "    <tr>\n",
       "      <th>1</th>\n",
       "      <td>148.0</td>\n",
       "      <td>ULEZ</td>\n",
       "      <td>Hatchback</td>\n",
       "      <td>2.0</td>\n",
       "      <td>Diesel</td>\n",
       "      <td>38627</td>\n",
       "      <td>Audi A3 2.0 TDI SE 5d 148 BHP, £20 YEAR ROAD T...</td>\n",
       "      <td>2.0</td>\n",
       "      <td>10980</td>\n",
       "      <td>Manual</td>\n",
       "      <td>...</td>\n",
       "      <td>1</td>\n",
       "      <td>0</td>\n",
       "      <td>0</td>\n",
       "      <td>0</td>\n",
       "      <td>0</td>\n",
       "      <td>1</td>\n",
       "      <td>0</td>\n",
       "      <td>0</td>\n",
       "      <td>0</td>\n",
       "      <td>65 reg</td>\n",
       "    </tr>\n",
       "    <tr>\n",
       "      <th>2</th>\n",
       "      <td>108.0</td>\n",
       "      <td>ULEZ</td>\n",
       "      <td>Hatchback</td>\n",
       "      <td>1.6</td>\n",
       "      <td>Diesel</td>\n",
       "      <td>84812</td>\n",
       "      <td>Audi A3 1.6 TDI 110 Sport 5dr Satellite Naviga...</td>\n",
       "      <td>2.0</td>\n",
       "      <td>8350</td>\n",
       "      <td>Manual</td>\n",
       "      <td>...</td>\n",
       "      <td>0</td>\n",
       "      <td>0</td>\n",
       "      <td>1</td>\n",
       "      <td>0</td>\n",
       "      <td>0</td>\n",
       "      <td>1</td>\n",
       "      <td>0</td>\n",
       "      <td>0</td>\n",
       "      <td>0</td>\n",
       "      <td>15 reg</td>\n",
       "    </tr>\n",
       "    <tr>\n",
       "      <th>3</th>\n",
       "      <td>182.0</td>\n",
       "      <td>ULEZ</td>\n",
       "      <td>Hatchback</td>\n",
       "      <td>2.0</td>\n",
       "      <td>Diesel</td>\n",
       "      <td>74413</td>\n",
       "      <td>Audi A3 2.0 TDI Sport Sportback S Tronic quatt...</td>\n",
       "      <td>2.0</td>\n",
       "      <td>9699</td>\n",
       "      <td>Automatic</td>\n",
       "      <td>...</td>\n",
       "      <td>0</td>\n",
       "      <td>0</td>\n",
       "      <td>1</td>\n",
       "      <td>0</td>\n",
       "      <td>0</td>\n",
       "      <td>0</td>\n",
       "      <td>0</td>\n",
       "      <td>0</td>\n",
       "      <td>0</td>\n",
       "      <td>15 reg</td>\n",
       "    </tr>\n",
       "    <tr>\n",
       "      <th>4</th>\n",
       "      <td>108.0</td>\n",
       "      <td>ULEZ</td>\n",
       "      <td>Hatchback</td>\n",
       "      <td>1.6</td>\n",
       "      <td>Diesel</td>\n",
       "      <td>59152</td>\n",
       "      <td>Audi A3 1.6 TDI SE Sportback 5dr</td>\n",
       "      <td>2.0</td>\n",
       "      <td>8990</td>\n",
       "      <td>Manual</td>\n",
       "      <td>...</td>\n",
       "      <td>1</td>\n",
       "      <td>0</td>\n",
       "      <td>1</td>\n",
       "      <td>0</td>\n",
       "      <td>0</td>\n",
       "      <td>0</td>\n",
       "      <td>0</td>\n",
       "      <td>0</td>\n",
       "      <td>0</td>\n",
       "      <td>15 reg</td>\n",
       "    </tr>\n",
       "  </tbody>\n",
       "</table>\n",
       "<p>5 rows × 23 columns</p>\n",
       "</div>"
      ],
      "text/plain": [
       "     BHP  ULEZ       body  engine    fuel  mileage  \\\n",
       "0  108.0  ULEZ  Hatchback     1.6  Diesel    82850   \n",
       "1  148.0  ULEZ  Hatchback     2.0  Diesel    38627   \n",
       "2  108.0  ULEZ  Hatchback     1.6  Diesel    84812   \n",
       "3  182.0  ULEZ  Hatchback     2.0  Diesel    74413   \n",
       "4  108.0  ULEZ  Hatchback     1.6  Diesel    59152   \n",
       "\n",
       "                                                name  owners  price  \\\n",
       "0  Audi A3 1.6 TDI SE 5d 109 BHP Nav Prep - Bluet...     2.0   7991   \n",
       "1  Audi A3 2.0 TDI SE 5d 148 BHP, £20 YEAR ROAD T...     2.0  10980   \n",
       "2  Audi A3 1.6 TDI 110 Sport 5dr Satellite Naviga...     2.0   8350   \n",
       "3  Audi A3 2.0 TDI Sport Sportback S Tronic quatt...     2.0   9699   \n",
       "4                   Audi A3 1.6 TDI SE Sportback 5dr     2.0   8990   \n",
       "\n",
       "  transmission  ...  se eco sport  m_sport  lux  sat_nav  bluetooth  leather  \\\n",
       "0       Manual  ...   1   0     0        0    0        1          1        0   \n",
       "1       Manual  ...   1   0     0        0    0        1          0        0   \n",
       "2       Manual  ...   0   0     1        0    0        1          0        0   \n",
       "3    Automatic  ...   0   0     1        0    0        0          0        0   \n",
       "4       Manual  ...   1   0     1        0    0        0          0        0   \n",
       "\n",
       "   three_door  year_reg  \n",
       "0           0    15 reg  \n",
       "1           0    65 reg  \n",
       "2           0    15 reg  \n",
       "3           0    15 reg  \n",
       "4           0    15 reg  \n",
       "\n",
       "[5 rows x 23 columns]"
      ]
     },
     "execution_count": 30,
     "metadata": {},
     "output_type": "execute_result"
    }
   ],
   "source": [
    "df_clean.head()"
   ]
  },
  {
   "cell_type": "code",
   "execution_count": 32,
   "metadata": {},
   "outputs": [],
   "source": [
    "df_clean.to_csv(\"autotrader_prices_cleaned.csv\", index=False)"
   ]
  }
 ],
 "metadata": {
  "kernelspec": {
   "display_name": "Python 3",
   "language": "python",
   "name": "python3"
  },
  "language_info": {
   "codemirror_mode": {
    "name": "ipython",
    "version": 3
   },
   "file_extension": ".py",
   "mimetype": "text/x-python",
   "name": "python",
   "nbconvert_exporter": "python",
   "pygments_lexer": "ipython3",
   "version": "3.7.3"
  }
 },
 "nbformat": 4,
 "nbformat_minor": 2
}
