{
 "cells": [
  {
   "cell_type": "markdown",
   "metadata": {},
   "source": [
    "# Build and test the model for predicting the resale price of a second-hand car in the UK"
   ]
  },
  {
   "cell_type": "code",
   "execution_count": 1,
   "metadata": {},
   "outputs": [],
   "source": [
    "import pandas as pd\n",
    "import matplotlib.pyplot as plt\n",
    "import numpy as np"
   ]
  },
  {
   "cell_type": "code",
   "execution_count": 2,
   "metadata": {},
   "outputs": [],
   "source": [
    "df = pd.read_csv(\"autotrader_prices_eda.csv\")"
   ]
  },
  {
   "cell_type": "markdown",
   "metadata": {},
   "source": [
    "## choose relevant columns"
   ]
  },
  {
   "cell_type": "code",
   "execution_count": 3,
   "metadata": {},
   "outputs": [],
   "source": [
    "# Define numerical and categorical features\n",
    "numerical_features = []\n",
    "categorical_features = []\n",
    "\n",
    "for feature, content in df.items():\n",
    "    if pd.api.types.is_numeric_dtype(content):\n",
    "        numerical_features.append(feature)\n",
    "    else:\n",
    "        categorical_features.append(feature)"
   ]
  },
  {
   "cell_type": "code",
   "execution_count": 4,
   "metadata": {},
   "outputs": [
    {
     "data": {
      "text/plain": [
       "['ULEZ', 'body', 'fuel', 'transmission', 'year_reg', 'make', 'model']"
      ]
     },
     "execution_count": 4,
     "metadata": {},
     "output_type": "execute_result"
    }
   ],
   "source": [
    "categorical_features"
   ]
  },
  {
   "cell_type": "code",
   "execution_count": 5,
   "metadata": {},
   "outputs": [
    {
     "data": {
      "text/html": [
       "<div>\n",
       "<style scoped>\n",
       "    .dataframe tbody tr th:only-of-type {\n",
       "        vertical-align: middle;\n",
       "    }\n",
       "\n",
       "    .dataframe tbody tr th {\n",
       "        vertical-align: top;\n",
       "    }\n",
       "\n",
       "    .dataframe thead th {\n",
       "        text-align: right;\n",
       "    }\n",
       "</style>\n",
       "<table border=\"1\" class=\"dataframe\">\n",
       "  <thead>\n",
       "    <tr style=\"text-align: right;\">\n",
       "      <th></th>\n",
       "      <th>BHP</th>\n",
       "      <th>ULEZ</th>\n",
       "      <th>body</th>\n",
       "      <th>engine</th>\n",
       "      <th>fuel</th>\n",
       "      <th>mileage</th>\n",
       "      <th>owners</th>\n",
       "      <th>price</th>\n",
       "      <th>transmission</th>\n",
       "      <th>year</th>\n",
       "      <th>...</th>\n",
       "      <th>performance</th>\n",
       "      <th>2dr</th>\n",
       "      <th>3dr</th>\n",
       "      <th>4dr</th>\n",
       "      <th>5dr</th>\n",
       "      <th>dsg</th>\n",
       "      <th>speed</th>\n",
       "      <th>gti</th>\n",
       "      <th>gtd</th>\n",
       "      <th>gte</th>\n",
       "    </tr>\n",
       "  </thead>\n",
       "  <tbody>\n",
       "    <tr>\n",
       "      <th>0</th>\n",
       "      <td>123.0</td>\n",
       "      <td>ULEZ</td>\n",
       "      <td>Hatchback</td>\n",
       "      <td>1.4</td>\n",
       "      <td>Petrol</td>\n",
       "      <td>34414</td>\n",
       "      <td>2.0</td>\n",
       "      <td>9980</td>\n",
       "      <td>Manual</td>\n",
       "      <td>2017</td>\n",
       "      <td>...</td>\n",
       "      <td>0</td>\n",
       "      <td>0</td>\n",
       "      <td>0</td>\n",
       "      <td>0</td>\n",
       "      <td>0</td>\n",
       "      <td>0</td>\n",
       "      <td>0</td>\n",
       "      <td>0</td>\n",
       "      <td>0</td>\n",
       "      <td>0</td>\n",
       "    </tr>\n",
       "    <tr>\n",
       "      <th>1</th>\n",
       "      <td>114.0</td>\n",
       "      <td>ULEZ</td>\n",
       "      <td>Hatchback</td>\n",
       "      <td>1.4</td>\n",
       "      <td>Petrol</td>\n",
       "      <td>16773</td>\n",
       "      <td>2.0</td>\n",
       "      <td>11500</td>\n",
       "      <td>Manual</td>\n",
       "      <td>2017</td>\n",
       "      <td>...</td>\n",
       "      <td>0</td>\n",
       "      <td>0</td>\n",
       "      <td>1</td>\n",
       "      <td>0</td>\n",
       "      <td>0</td>\n",
       "      <td>0</td>\n",
       "      <td>0</td>\n",
       "      <td>0</td>\n",
       "      <td>0</td>\n",
       "      <td>0</td>\n",
       "    </tr>\n",
       "    <tr>\n",
       "      <th>2</th>\n",
       "      <td>114.0</td>\n",
       "      <td>ULEZ</td>\n",
       "      <td>Hatchback</td>\n",
       "      <td>1.6</td>\n",
       "      <td>Diesel</td>\n",
       "      <td>76922</td>\n",
       "      <td>2.0</td>\n",
       "      <td>8599</td>\n",
       "      <td>Manual</td>\n",
       "      <td>2017</td>\n",
       "      <td>...</td>\n",
       "      <td>0</td>\n",
       "      <td>0</td>\n",
       "      <td>0</td>\n",
       "      <td>0</td>\n",
       "      <td>0</td>\n",
       "      <td>0</td>\n",
       "      <td>0</td>\n",
       "      <td>0</td>\n",
       "      <td>0</td>\n",
       "      <td>0</td>\n",
       "    </tr>\n",
       "    <tr>\n",
       "      <th>3</th>\n",
       "      <td>114.0</td>\n",
       "      <td>ULEZ</td>\n",
       "      <td>Hatchback</td>\n",
       "      <td>1.4</td>\n",
       "      <td>Petrol</td>\n",
       "      <td>10950</td>\n",
       "      <td>2.0</td>\n",
       "      <td>12174</td>\n",
       "      <td>Manual</td>\n",
       "      <td>2017</td>\n",
       "      <td>...</td>\n",
       "      <td>0</td>\n",
       "      <td>0</td>\n",
       "      <td>0</td>\n",
       "      <td>0</td>\n",
       "      <td>1</td>\n",
       "      <td>0</td>\n",
       "      <td>0</td>\n",
       "      <td>0</td>\n",
       "      <td>0</td>\n",
       "      <td>0</td>\n",
       "    </tr>\n",
       "    <tr>\n",
       "      <th>4</th>\n",
       "      <td>114.0</td>\n",
       "      <td>ULEZ</td>\n",
       "      <td>Hatchback</td>\n",
       "      <td>1.6</td>\n",
       "      <td>Diesel</td>\n",
       "      <td>58278</td>\n",
       "      <td>2.0</td>\n",
       "      <td>9172</td>\n",
       "      <td>Manual</td>\n",
       "      <td>2017</td>\n",
       "      <td>...</td>\n",
       "      <td>0</td>\n",
       "      <td>0</td>\n",
       "      <td>1</td>\n",
       "      <td>0</td>\n",
       "      <td>0</td>\n",
       "      <td>0</td>\n",
       "      <td>0</td>\n",
       "      <td>0</td>\n",
       "      <td>0</td>\n",
       "      <td>0</td>\n",
       "    </tr>\n",
       "  </tbody>\n",
       "</table>\n",
       "<p>5 rows × 44 columns</p>\n",
       "</div>"
      ],
      "text/plain": [
       "     BHP  ULEZ       body  engine    fuel  mileage  owners  price  \\\n",
       "0  123.0  ULEZ  Hatchback     1.4  Petrol    34414     2.0   9980   \n",
       "1  114.0  ULEZ  Hatchback     1.4  Petrol    16773     2.0  11500   \n",
       "2  114.0  ULEZ  Hatchback     1.6  Diesel    76922     2.0   8599   \n",
       "3  114.0  ULEZ  Hatchback     1.4  Petrol    10950     2.0  12174   \n",
       "4  114.0  ULEZ  Hatchback     1.6  Diesel    58278     2.0   9172   \n",
       "\n",
       "  transmission  year  ... performance  2dr 3dr 4dr  5dr  dsg  speed  gti  gtd  \\\n",
       "0       Manual  2017  ...           0    0   0   0    0    0      0    0    0   \n",
       "1       Manual  2017  ...           0    0   1   0    0    0      0    0    0   \n",
       "2       Manual  2017  ...           0    0   0   0    0    0      0    0    0   \n",
       "3       Manual  2017  ...           0    0   0   0    1    0      0    0    0   \n",
       "4       Manual  2017  ...           0    0   1   0    0    0      0    0    0   \n",
       "\n",
       "   gte  \n",
       "0    0  \n",
       "1    0  \n",
       "2    0  \n",
       "3    0  \n",
       "4    0  \n",
       "\n",
       "[5 rows x 44 columns]"
      ]
     },
     "execution_count": 5,
     "metadata": {},
     "output_type": "execute_result"
    }
   ],
   "source": [
    "df.head()"
   ]
  },
  {
   "cell_type": "markdown",
   "metadata": {},
   "source": [
    "## Encode the categorical features\n",
    "* Using pandas get_dummies()"
   ]
  },
  {
   "cell_type": "code",
   "execution_count": 6,
   "metadata": {},
   "outputs": [
    {
     "data": {
      "text/html": [
       "<div>\n",
       "<style scoped>\n",
       "    .dataframe tbody tr th:only-of-type {\n",
       "        vertical-align: middle;\n",
       "    }\n",
       "\n",
       "    .dataframe tbody tr th {\n",
       "        vertical-align: top;\n",
       "    }\n",
       "\n",
       "    .dataframe thead th {\n",
       "        text-align: right;\n",
       "    }\n",
       "</style>\n",
       "<table border=\"1\" class=\"dataframe\">\n",
       "  <thead>\n",
       "    <tr style=\"text-align: right;\">\n",
       "      <th></th>\n",
       "      <th>BHP</th>\n",
       "      <th>engine</th>\n",
       "      <th>mileage</th>\n",
       "      <th>owners</th>\n",
       "      <th>price</th>\n",
       "      <th>year</th>\n",
       "      <th>name_length</th>\n",
       "      <th>missing_BHP</th>\n",
       "      <th>sport</th>\n",
       "      <th>se</th>\n",
       "      <th>...</th>\n",
       "      <th>model_C-Class</th>\n",
       "      <th>model_CT</th>\n",
       "      <th>model_Golf</th>\n",
       "      <th>model_Kona</th>\n",
       "      <th>model_Mazda3</th>\n",
       "      <th>model_Mazda6</th>\n",
       "      <th>model_NX</th>\n",
       "      <th>model_Qashqai</th>\n",
       "      <th>model_Tucson</th>\n",
       "      <th>model_e-Golf</th>\n",
       "    </tr>\n",
       "  </thead>\n",
       "  <tbody>\n",
       "    <tr>\n",
       "      <th>0</th>\n",
       "      <td>123.0</td>\n",
       "      <td>1.4</td>\n",
       "      <td>34414</td>\n",
       "      <td>2.0</td>\n",
       "      <td>9980</td>\n",
       "      <td>2017</td>\n",
       "      <td>65</td>\n",
       "      <td>0</td>\n",
       "      <td>1</td>\n",
       "      <td>1</td>\n",
       "      <td>...</td>\n",
       "      <td>0</td>\n",
       "      <td>0</td>\n",
       "      <td>0</td>\n",
       "      <td>0</td>\n",
       "      <td>0</td>\n",
       "      <td>0</td>\n",
       "      <td>0</td>\n",
       "      <td>0</td>\n",
       "      <td>0</td>\n",
       "      <td>0</td>\n",
       "    </tr>\n",
       "    <tr>\n",
       "      <th>1</th>\n",
       "      <td>114.0</td>\n",
       "      <td>1.4</td>\n",
       "      <td>16773</td>\n",
       "      <td>2.0</td>\n",
       "      <td>11500</td>\n",
       "      <td>2017</td>\n",
       "      <td>26</td>\n",
       "      <td>1</td>\n",
       "      <td>1</td>\n",
       "      <td>0</td>\n",
       "      <td>...</td>\n",
       "      <td>0</td>\n",
       "      <td>0</td>\n",
       "      <td>0</td>\n",
       "      <td>0</td>\n",
       "      <td>0</td>\n",
       "      <td>0</td>\n",
       "      <td>0</td>\n",
       "      <td>0</td>\n",
       "      <td>0</td>\n",
       "      <td>0</td>\n",
       "    </tr>\n",
       "    <tr>\n",
       "      <th>2</th>\n",
       "      <td>114.0</td>\n",
       "      <td>1.6</td>\n",
       "      <td>76922</td>\n",
       "      <td>2.0</td>\n",
       "      <td>8599</td>\n",
       "      <td>2017</td>\n",
       "      <td>63</td>\n",
       "      <td>0</td>\n",
       "      <td>1</td>\n",
       "      <td>1</td>\n",
       "      <td>...</td>\n",
       "      <td>0</td>\n",
       "      <td>0</td>\n",
       "      <td>0</td>\n",
       "      <td>0</td>\n",
       "      <td>0</td>\n",
       "      <td>0</td>\n",
       "      <td>0</td>\n",
       "      <td>0</td>\n",
       "      <td>0</td>\n",
       "      <td>0</td>\n",
       "    </tr>\n",
       "    <tr>\n",
       "      <th>3</th>\n",
       "      <td>114.0</td>\n",
       "      <td>1.4</td>\n",
       "      <td>10950</td>\n",
       "      <td>2.0</td>\n",
       "      <td>12174</td>\n",
       "      <td>2017</td>\n",
       "      <td>26</td>\n",
       "      <td>1</td>\n",
       "      <td>1</td>\n",
       "      <td>0</td>\n",
       "      <td>...</td>\n",
       "      <td>0</td>\n",
       "      <td>0</td>\n",
       "      <td>0</td>\n",
       "      <td>0</td>\n",
       "      <td>0</td>\n",
       "      <td>0</td>\n",
       "      <td>0</td>\n",
       "      <td>0</td>\n",
       "      <td>0</td>\n",
       "      <td>0</td>\n",
       "    </tr>\n",
       "    <tr>\n",
       "      <th>4</th>\n",
       "      <td>114.0</td>\n",
       "      <td>1.6</td>\n",
       "      <td>58278</td>\n",
       "      <td>2.0</td>\n",
       "      <td>9172</td>\n",
       "      <td>2017</td>\n",
       "      <td>25</td>\n",
       "      <td>1</td>\n",
       "      <td>1</td>\n",
       "      <td>0</td>\n",
       "      <td>...</td>\n",
       "      <td>0</td>\n",
       "      <td>0</td>\n",
       "      <td>0</td>\n",
       "      <td>0</td>\n",
       "      <td>0</td>\n",
       "      <td>0</td>\n",
       "      <td>0</td>\n",
       "      <td>0</td>\n",
       "      <td>0</td>\n",
       "      <td>0</td>\n",
       "    </tr>\n",
       "  </tbody>\n",
       "</table>\n",
       "<p>5 rows × 88 columns</p>\n",
       "</div>"
      ],
      "text/plain": [
       "     BHP  engine  mileage  owners  price  year  name_length  missing_BHP  \\\n",
       "0  123.0     1.4    34414     2.0   9980  2017           65            0   \n",
       "1  114.0     1.4    16773     2.0  11500  2017           26            1   \n",
       "2  114.0     1.6    76922     2.0   8599  2017           63            0   \n",
       "3  114.0     1.4    10950     2.0  12174  2017           26            1   \n",
       "4  114.0     1.6    58278     2.0   9172  2017           25            1   \n",
       "\n",
       "   sport  se  ...  model_C-Class  model_CT  model_Golf  model_Kona  \\\n",
       "0      1   1  ...              0         0           0           0   \n",
       "1      1   0  ...              0         0           0           0   \n",
       "2      1   1  ...              0         0           0           0   \n",
       "3      1   0  ...              0         0           0           0   \n",
       "4      1   0  ...              0         0           0           0   \n",
       "\n",
       "   model_Mazda3  model_Mazda6  model_NX  model_Qashqai  model_Tucson  \\\n",
       "0             0             0         0              0             0   \n",
       "1             0             0         0              0             0   \n",
       "2             0             0         0              0             0   \n",
       "3             0             0         0              0             0   \n",
       "4             0             0         0              0             0   \n",
       "\n",
       "   model_e-Golf  \n",
       "0             0  \n",
       "1             0  \n",
       "2             0  \n",
       "3             0  \n",
       "4             0  \n",
       "\n",
       "[5 rows x 88 columns]"
      ]
     },
     "execution_count": 6,
     "metadata": {},
     "output_type": "execute_result"
    }
   ],
   "source": [
    "df_dum = pd.get_dummies(df)\n",
    "df_dum.head()"
   ]
  },
  {
   "cell_type": "markdown",
   "metadata": {},
   "source": [
    "## train test split"
   ]
  },
  {
   "cell_type": "code",
   "execution_count": 7,
   "metadata": {},
   "outputs": [
    {
     "data": {
      "text/plain": [
       "((1233, 87), (1233,))"
      ]
     },
     "execution_count": 7,
     "metadata": {},
     "output_type": "execute_result"
    }
   ],
   "source": [
    "X = df_dum.drop(\"price\", axis=1)\n",
    "y = df_dum[\"price\"].values\n",
    "X.shape, y.shape"
   ]
  },
  {
   "cell_type": "code",
   "execution_count": 8,
   "metadata": {},
   "outputs": [],
   "source": [
    "from sklearn.model_selection import train_test_split"
   ]
  },
  {
   "cell_type": "code",
   "execution_count": 9,
   "metadata": {},
   "outputs": [],
   "source": [
    "X_train, X_test, y_train, y_test = train_test_split(X, y, test_size=0.2, random_state=7)"
   ]
  },
  {
   "cell_type": "code",
   "execution_count": 10,
   "metadata": {},
   "outputs": [
    {
     "data": {
      "text/plain": [
       "((986, 87), (247, 87), (986,), (247,))"
      ]
     },
     "execution_count": 10,
     "metadata": {},
     "output_type": "execute_result"
    }
   ],
   "source": [
    "X_train.shape, X_test.shape, y_train.shape, y_test.shape"
   ]
  },
  {
   "cell_type": "markdown",
   "metadata": {},
   "source": [
    "## multiple linear regression"
   ]
  },
  {
   "cell_type": "code",
   "execution_count": 11,
   "metadata": {},
   "outputs": [],
   "source": [
    "# Build Ordinary Least Square (OLS) as a baseline model\n",
    "import statsmodels.api as sm"
   ]
  },
  {
   "cell_type": "code",
   "execution_count": 12,
   "metadata": {},
   "outputs": [
    {
     "name": "stderr",
     "output_type": "stream",
     "text": [
      "D:\\Apps\\Anaconda\\lib\\site-packages\\numpy\\core\\fromnumeric.py:2389: FutureWarning: Method .ptp is deprecated and will be removed in a future version. Use numpy.ptp instead.\n",
      "  return ptp(axis=axis, out=out, **kwargs)\n"
     ]
    },
    {
     "data": {
      "text/html": [
       "<table class=\"simpletable\">\n",
       "<caption>OLS Regression Results</caption>\n",
       "<tr>\n",
       "  <th>Dep. Variable:</th>            <td>y</td>        <th>  R-squared:         </th> <td>   0.906</td> \n",
       "</tr>\n",
       "<tr>\n",
       "  <th>Model:</th>                   <td>OLS</td>       <th>  Adj. R-squared:    </th> <td>   0.898</td> \n",
       "</tr>\n",
       "<tr>\n",
       "  <th>Method:</th>             <td>Least Squares</td>  <th>  F-statistic:       </th> <td>   121.6</td> \n",
       "</tr>\n",
       "<tr>\n",
       "  <th>Date:</th>             <td>Sat, 02 Jan 2021</td> <th>  Prob (F-statistic):</th>  <td>  0.00</td>  \n",
       "</tr>\n",
       "<tr>\n",
       "  <th>Time:</th>                 <td>16:45:00</td>     <th>  Log-Likelihood:    </th> <td> -8641.0</td> \n",
       "</tr>\n",
       "<tr>\n",
       "  <th>No. Observations:</th>      <td>   986</td>      <th>  AIC:               </th> <td>1.743e+04</td>\n",
       "</tr>\n",
       "<tr>\n",
       "  <th>Df Residuals:</th>          <td>   913</td>      <th>  BIC:               </th> <td>1.779e+04</td>\n",
       "</tr>\n",
       "<tr>\n",
       "  <th>Df Model:</th>              <td>    72</td>      <th>                     </th>     <td> </td>    \n",
       "</tr>\n",
       "<tr>\n",
       "  <th>Covariance Type:</th>      <td>nonrobust</td>    <th>                     </th>     <td> </td>    \n",
       "</tr>\n",
       "</table>\n",
       "<table class=\"simpletable\">\n",
       "<tr>\n",
       "                    <td></td>                      <th>coef</th>     <th>std err</th>      <th>t</th>      <th>P>|t|</th>  <th>[0.025</th>    <th>0.975]</th>  \n",
       "</tr>\n",
       "<tr>\n",
       "  <th>const</th>                                <td>-3.868e+05</td> <td> 1.68e+05</td> <td>   -2.309</td> <td> 0.021</td> <td>-7.16e+05</td> <td> -5.8e+04</td>\n",
       "</tr>\n",
       "<tr>\n",
       "  <th>BHP</th>                                  <td>   23.7425</td> <td>    2.385</td> <td>    9.954</td> <td> 0.000</td> <td>   19.062</td> <td>   28.423</td>\n",
       "</tr>\n",
       "<tr>\n",
       "  <th>engine</th>                               <td> 2611.4948</td> <td>  337.843</td> <td>    7.730</td> <td> 0.000</td> <td> 1948.456</td> <td> 3274.534</td>\n",
       "</tr>\n",
       "<tr>\n",
       "  <th>mileage</th>                              <td>   -0.0541</td> <td>    0.005</td> <td>  -10.240</td> <td> 0.000</td> <td>   -0.064</td> <td>   -0.044</td>\n",
       "</tr>\n",
       "<tr>\n",
       "  <th>owners</th>                               <td>  394.9733</td> <td> 1643.005</td> <td>    0.240</td> <td> 0.810</td> <td>-2829.531</td> <td> 3619.478</td>\n",
       "</tr>\n",
       "<tr>\n",
       "  <th>year</th>                                 <td>  504.4290</td> <td>  215.584</td> <td>    2.340</td> <td> 0.020</td> <td>   81.331</td> <td>  927.527</td>\n",
       "</tr>\n",
       "<tr>\n",
       "  <th>name_length</th>                          <td>    9.0891</td> <td>    8.841</td> <td>    1.028</td> <td> 0.304</td> <td>   -8.263</td> <td>   26.441</td>\n",
       "</tr>\n",
       "<tr>\n",
       "  <th>missing_BHP</th>                          <td>  156.5982</td> <td>  141.860</td> <td>    1.104</td> <td> 0.270</td> <td> -121.812</td> <td>  435.008</td>\n",
       "</tr>\n",
       "<tr>\n",
       "  <th>sport</th>                                <td>  195.3340</td> <td>  287.304</td> <td>    0.680</td> <td> 0.497</td> <td> -368.520</td> <td>  759.188</td>\n",
       "</tr>\n",
       "<tr>\n",
       "  <th>se</th>                                   <td> -823.7248</td> <td>  223.447</td> <td>   -3.686</td> <td> 0.000</td> <td>-1262.254</td> <td> -385.196</td>\n",
       "</tr>\n",
       "<tr>\n",
       "  <th>amg</th>                                  <td> 2531.1725</td> <td>  379.718</td> <td>    6.666</td> <td> 0.000</td> <td> 1785.952</td> <td> 3276.393</td>\n",
       "</tr>\n",
       "<tr>\n",
       "  <th>tfsi</th>                                 <td> 1277.5193</td> <td> 1384.673</td> <td>    0.923</td> <td> 0.356</td> <td>-1439.993</td> <td> 3995.031</td>\n",
       "</tr>\n",
       "<tr>\n",
       "  <th>nav</th>                                  <td> -382.4135</td> <td>  210.224</td> <td>   -1.819</td> <td> 0.069</td> <td> -794.992</td> <td>   30.165</td>\n",
       "</tr>\n",
       "<tr>\n",
       "  <th>tsi</th>                                  <td> 2857.1967</td> <td> 1319.151</td> <td>    2.166</td> <td> 0.031</td> <td>  268.275</td> <td> 5446.118</td>\n",
       "</tr>\n",
       "<tr>\n",
       "  <th>tdi</th>                                  <td> 1817.5952</td> <td> 1360.978</td> <td>    1.336</td> <td> 0.182</td> <td> -853.414</td> <td> 4488.604</td>\n",
       "</tr>\n",
       "<tr>\n",
       "  <th>premium</th>                              <td>  222.6589</td> <td>  282.373</td> <td>    0.789</td> <td> 0.431</td> <td> -331.516</td> <td>  776.833</td>\n",
       "</tr>\n",
       "<tr>\n",
       "  <th>dci</th>                                  <td> 1146.0146</td> <td>  343.795</td> <td>    3.333</td> <td> 0.001</td> <td>  471.295</td> <td> 1820.735</td>\n",
       "</tr>\n",
       "<tr>\n",
       "  <th>m sport</th>                              <td> 1761.7356</td> <td>  416.998</td> <td>    4.225</td> <td> 0.000</td> <td>  943.349</td> <td> 2580.122</td>\n",
       "</tr>\n",
       "<tr>\n",
       "  <th>sportback</th>                            <td> -385.5468</td> <td>  461.801</td> <td>   -0.835</td> <td> 0.404</td> <td>-1291.861</td> <td>  520.767</td>\n",
       "</tr>\n",
       "<tr>\n",
       "  <th>edition</th>                              <td>  771.3696</td> <td>  303.910</td> <td>    2.538</td> <td> 0.011</td> <td>  174.927</td> <td> 1367.812</td>\n",
       "</tr>\n",
       "<tr>\n",
       "  <th>tech</th>                                 <td>  723.6522</td> <td>  294.971</td> <td>    2.453</td> <td> 0.014</td> <td>  144.751</td> <td> 1302.553</td>\n",
       "</tr>\n",
       "<tr>\n",
       "  <th>crdi</th>                                 <td> 1864.5642</td> <td>  464.305</td> <td>    4.016</td> <td> 0.000</td> <td>  953.335</td> <td> 2775.793</td>\n",
       "</tr>\n",
       "<tr>\n",
       "  <th>tronic</th>                               <td> -279.8234</td> <td>  361.915</td> <td>   -0.773</td> <td> 0.440</td> <td> -990.105</td> <td>  430.458</td>\n",
       "</tr>\n",
       "<tr>\n",
       "  <th>cod</th>                                  <td>  294.5151</td> <td>  395.789</td> <td>    0.744</td> <td> 0.457</td> <td> -482.246</td> <td> 1071.277</td>\n",
       "</tr>\n",
       "<tr>\n",
       "  <th>s line</th>                               <td> 1280.7084</td> <td>  326.800</td> <td>    3.919</td> <td> 0.000</td> <td>  639.342</td> <td> 1922.075</td>\n",
       "</tr>\n",
       "<tr>\n",
       "  <th>bluetooth</th>                            <td> -733.3640</td> <td>  365.209</td> <td>   -2.008</td> <td> 0.045</td> <td>-1450.111</td> <td>  -16.617</td>\n",
       "</tr>\n",
       "<tr>\n",
       "  <th>leather</th>                              <td>  338.6969</td> <td>  468.330</td> <td>    0.723</td> <td> 0.470</td> <td> -580.432</td> <td> 1257.826</td>\n",
       "</tr>\n",
       "<tr>\n",
       "  <th>performance</th>                          <td>   36.3294</td> <td>  540.772</td> <td>    0.067</td> <td> 0.946</td> <td>-1024.971</td> <td> 1097.630</td>\n",
       "</tr>\n",
       "<tr>\n",
       "  <th>2dr</th>                                  <td>-1915.2632</td> <td>  553.766</td> <td>   -3.459</td> <td> 0.001</td> <td>-3002.065</td> <td> -828.462</td>\n",
       "</tr>\n",
       "<tr>\n",
       "  <th>3dr</th>                                  <td>  -11.1518</td> <td>  435.299</td> <td>   -0.026</td> <td> 0.980</td> <td> -865.455</td> <td>  843.151</td>\n",
       "</tr>\n",
       "<tr>\n",
       "  <th>4dr</th>                                  <td> -689.4591</td> <td>  528.653</td> <td>   -1.304</td> <td> 0.193</td> <td>-1726.975</td> <td>  348.057</td>\n",
       "</tr>\n",
       "<tr>\n",
       "  <th>5dr</th>                                  <td>  156.6322</td> <td>  288.243</td> <td>    0.543</td> <td> 0.587</td> <td> -409.064</td> <td>  722.329</td>\n",
       "</tr>\n",
       "<tr>\n",
       "  <th>dsg</th>                                  <td> 1421.2630</td> <td>  356.897</td> <td>    3.982</td> <td> 0.000</td> <td>  720.830</td> <td> 2121.696</td>\n",
       "</tr>\n",
       "<tr>\n",
       "  <th>speed</th>                                <td>  922.6231</td> <td>  484.507</td> <td>    1.904</td> <td> 0.057</td> <td>  -28.253</td> <td> 1873.499</td>\n",
       "</tr>\n",
       "<tr>\n",
       "  <th>gti</th>                                  <td> 2046.7634</td> <td>  532.441</td> <td>    3.844</td> <td> 0.000</td> <td> 1001.813</td> <td> 3091.714</td>\n",
       "</tr>\n",
       "<tr>\n",
       "  <th>gtd</th>                                  <td> 3183.1737</td> <td>  454.846</td> <td>    6.998</td> <td> 0.000</td> <td> 2290.508</td> <td> 4075.840</td>\n",
       "</tr>\n",
       "<tr>\n",
       "  <th>gte</th>                                  <td> 3582.8506</td> <td>  717.215</td> <td>    4.996</td> <td> 0.000</td> <td> 2175.269</td> <td> 4990.432</td>\n",
       "</tr>\n",
       "<tr>\n",
       "  <th>ULEZ_Non-ULEZ</th>                        <td>-1.935e+05</td> <td> 8.38e+04</td> <td>   -2.309</td> <td> 0.021</td> <td>-3.58e+05</td> <td> -2.9e+04</td>\n",
       "</tr>\n",
       "<tr>\n",
       "  <th>ULEZ_ULEZ</th>                            <td>-1.933e+05</td> <td> 8.38e+04</td> <td>   -2.308</td> <td> 0.021</td> <td>-3.58e+05</td> <td> -2.9e+04</td>\n",
       "</tr>\n",
       "<tr>\n",
       "  <th>body_Convertible</th>                     <td>-5.972e+04</td> <td> 2.79e+04</td> <td>   -2.141</td> <td> 0.033</td> <td>-1.14e+05</td> <td>-4980.191</td>\n",
       "</tr>\n",
       "<tr>\n",
       "  <th>body_Coupe</th>                           <td>-6.133e+04</td> <td> 2.79e+04</td> <td>   -2.198</td> <td> 0.028</td> <td>-1.16e+05</td> <td>-6556.458</td>\n",
       "</tr>\n",
       "<tr>\n",
       "  <th>body_Estate</th>                          <td>-6.591e+04</td> <td> 2.79e+04</td> <td>   -2.359</td> <td> 0.019</td> <td>-1.21e+05</td> <td>-1.11e+04</td>\n",
       "</tr>\n",
       "<tr>\n",
       "  <th>body_Hatchback</th>                       <td>-6.688e+04</td> <td> 2.79e+04</td> <td>   -2.394</td> <td> 0.017</td> <td>-1.22e+05</td> <td>-1.21e+04</td>\n",
       "</tr>\n",
       "<tr>\n",
       "  <th>body_SUV</th>                             <td>-6.761e+04</td> <td>  2.8e+04</td> <td>   -2.417</td> <td> 0.016</td> <td>-1.23e+05</td> <td>-1.27e+04</td>\n",
       "</tr>\n",
       "<tr>\n",
       "  <th>body_Saloon</th>                          <td>-6.534e+04</td> <td> 2.79e+04</td> <td>   -2.340</td> <td> 0.020</td> <td> -1.2e+05</td> <td>-1.05e+04</td>\n",
       "</tr>\n",
       "<tr>\n",
       "  <th>fuel_Diesel</th>                          <td>-5.917e+04</td> <td> 2.39e+04</td> <td>   -2.473</td> <td> 0.014</td> <td>-1.06e+05</td> <td>-1.22e+04</td>\n",
       "</tr>\n",
       "<tr>\n",
       "  <th>fuel_Electric</th>                        <td>-4.455e+04</td> <td>  2.4e+04</td> <td>   -1.855</td> <td> 0.064</td> <td>-9.17e+04</td> <td> 2581.671</td>\n",
       "</tr>\n",
       "<tr>\n",
       "  <th>fuel_Hybrid  Diesel/Electric</th>         <td>-5.959e+04</td> <td> 2.39e+04</td> <td>   -2.489</td> <td> 0.013</td> <td>-1.07e+05</td> <td>-1.26e+04</td>\n",
       "</tr>\n",
       "<tr>\n",
       "  <th>fuel_Hybrid  Diesel/Electric Plug-in</th> <td>-4.893e+04</td> <td> 2.39e+04</td> <td>   -2.044</td> <td> 0.041</td> <td>-9.59e+04</td> <td>-1955.069</td>\n",
       "</tr>\n",
       "<tr>\n",
       "  <th>fuel_Hybrid  Petrol/Electric</th>         <td>-5.641e+04</td> <td>  2.4e+04</td> <td>   -2.352</td> <td> 0.019</td> <td>-1.03e+05</td> <td>-9344.942</td>\n",
       "</tr>\n",
       "<tr>\n",
       "  <th>fuel_Hybrid  Petrol/Electric Plug-in</th> <td>-6.012e+04</td> <td> 2.39e+04</td> <td>   -2.513</td> <td> 0.012</td> <td>-1.07e+05</td> <td>-1.32e+04</td>\n",
       "</tr>\n",
       "<tr>\n",
       "  <th>fuel_Petrol</th>                          <td>-5.802e+04</td> <td> 2.39e+04</td> <td>   -2.425</td> <td> 0.016</td> <td>-1.05e+05</td> <td>-1.11e+04</td>\n",
       "</tr>\n",
       "<tr>\n",
       "  <th>transmission_Automatic</th>               <td>-1.928e+05</td> <td> 8.38e+04</td> <td>   -2.302</td> <td> 0.022</td> <td>-3.57e+05</td> <td>-2.84e+04</td>\n",
       "</tr>\n",
       "<tr>\n",
       "  <th>transmission_Manual</th>                  <td> -1.94e+05</td> <td> 8.38e+04</td> <td>   -2.316</td> <td> 0.021</td> <td>-3.58e+05</td> <td>-2.96e+04</td>\n",
       "</tr>\n",
       "<tr>\n",
       "  <th>year_reg_17 reg</th>                      <td>-4.538e+04</td> <td> 1.83e+04</td> <td>   -2.477</td> <td> 0.013</td> <td>-8.13e+04</td> <td>-9424.829</td>\n",
       "</tr>\n",
       "<tr>\n",
       "  <th>year_reg_18 reg</th>                      <td>-4.432e+04</td> <td> 1.85e+04</td> <td>   -2.392</td> <td> 0.017</td> <td>-8.07e+04</td> <td>-7951.802</td>\n",
       "</tr>\n",
       "<tr>\n",
       "  <th>year_reg_19 reg</th>                      <td>-4.319e+04</td> <td> 1.87e+04</td> <td>   -2.305</td> <td> 0.021</td> <td>   -8e+04</td> <td>-6409.892</td>\n",
       "</tr>\n",
       "<tr>\n",
       "  <th>year_reg_20 reg</th>                      <td>-3.966e+04</td> <td>  1.9e+04</td> <td>   -2.092</td> <td> 0.037</td> <td>-7.69e+04</td> <td>-2453.172</td>\n",
       "</tr>\n",
       "<tr>\n",
       "  <th>year_reg_66 reg</th>                      <td>-4.605e+04</td> <td> 1.83e+04</td> <td>   -2.514</td> <td> 0.012</td> <td> -8.2e+04</td> <td>-1.01e+04</td>\n",
       "</tr>\n",
       "<tr>\n",
       "  <th>year_reg_67 reg</th>                      <td>-4.481e+04</td> <td> 1.83e+04</td> <td>   -2.444</td> <td> 0.015</td> <td>-8.08e+04</td> <td>-8824.448</td>\n",
       "</tr>\n",
       "<tr>\n",
       "  <th>year_reg_68 reg</th>                      <td>-4.323e+04</td> <td> 1.86e+04</td> <td>   -2.326</td> <td> 0.020</td> <td>-7.97e+04</td> <td>-6747.468</td>\n",
       "</tr>\n",
       "<tr>\n",
       "  <th>year_reg_69 reg</th>                      <td>-4.226e+04</td> <td> 1.88e+04</td> <td>   -2.249</td> <td> 0.025</td> <td>-7.91e+04</td> <td>-5384.002</td>\n",
       "</tr>\n",
       "<tr>\n",
       "  <th>year_reg_70 reg</th>                      <td>-3.789e+04</td> <td>  1.9e+04</td> <td>   -1.998</td> <td> 0.046</td> <td>-7.51e+04</td> <td> -675.989</td>\n",
       "</tr>\n",
       "<tr>\n",
       "  <th>make_Audi</th>                            <td>-4.536e+04</td> <td> 1.97e+04</td> <td>   -2.302</td> <td> 0.022</td> <td> -8.4e+04</td> <td>-6686.259</td>\n",
       "</tr>\n",
       "<tr>\n",
       "  <th>make_BMW</th>                             <td> -4.62e+04</td> <td> 1.97e+04</td> <td>   -2.342</td> <td> 0.019</td> <td>-8.49e+04</td> <td>-7486.832</td>\n",
       "</tr>\n",
       "<tr>\n",
       "  <th>make_Fiat</th>                            <td>-3.586e+04</td> <td> 1.48e+04</td> <td>   -2.421</td> <td> 0.016</td> <td>-6.49e+04</td> <td>-6795.798</td>\n",
       "</tr>\n",
       "<tr>\n",
       "  <th>make_Hyundai</th>                         <td>-4.472e+04</td> <td> 1.97e+04</td> <td>   -2.270</td> <td> 0.023</td> <td>-8.34e+04</td> <td>-6059.662</td>\n",
       "</tr>\n",
       "<tr>\n",
       "  <th>make_Lexus</th>                           <td> -4.39e+04</td> <td> 1.97e+04</td> <td>   -2.229</td> <td> 0.026</td> <td>-8.26e+04</td> <td>-5240.757</td>\n",
       "</tr>\n",
       "<tr>\n",
       "  <th>make_Mazda</th>                           <td>-4.564e+04</td> <td> 1.97e+04</td> <td>   -2.313</td> <td> 0.021</td> <td>-8.44e+04</td> <td>-6912.503</td>\n",
       "</tr>\n",
       "<tr>\n",
       "  <th>make_Mercedes-Benz</th>                   <td> -4.43e+04</td> <td> 1.97e+04</td> <td>   -2.246</td> <td> 0.025</td> <td> -8.3e+04</td> <td>-5591.664</td>\n",
       "</tr>\n",
       "<tr>\n",
       "  <th>make_Nissan</th>                          <td>-3.323e+04</td> <td> 1.48e+04</td> <td>   -2.247</td> <td> 0.025</td> <td>-6.23e+04</td> <td>-4200.221</td>\n",
       "</tr>\n",
       "<tr>\n",
       "  <th>make_Volkswagen</th>                      <td>-4.758e+04</td> <td> 1.97e+04</td> <td>   -2.412</td> <td> 0.016</td> <td>-8.63e+04</td> <td>-8870.171</td>\n",
       "</tr>\n",
       "<tr>\n",
       "  <th>model_2-Series</th>                       <td>-2.393e+04</td> <td> 9892.562</td> <td>   -2.419</td> <td> 0.016</td> <td>-4.33e+04</td> <td>-4513.357</td>\n",
       "</tr>\n",
       "<tr>\n",
       "  <th>model_3-Series</th>                       <td>-2.227e+04</td> <td> 9844.300</td> <td>   -2.263</td> <td> 0.024</td> <td>-4.16e+04</td> <td>-2953.599</td>\n",
       "</tr>\n",
       "<tr>\n",
       "  <th>model_500</th>                            <td>-3.586e+04</td> <td> 1.48e+04</td> <td>   -2.421</td> <td> 0.016</td> <td>-6.49e+04</td> <td>-6795.798</td>\n",
       "</tr>\n",
       "<tr>\n",
       "  <th>model_A-Class</th>                        <td>-2.169e+04</td> <td> 9852.405</td> <td>   -2.201</td> <td> 0.028</td> <td> -4.1e+04</td> <td>-2349.213</td>\n",
       "</tr>\n",
       "<tr>\n",
       "  <th>model_A1</th>                             <td>-2.322e+04</td> <td> 9861.492</td> <td>   -2.354</td> <td> 0.019</td> <td>-4.26e+04</td> <td>-3863.090</td>\n",
       "</tr>\n",
       "<tr>\n",
       "  <th>model_A3</th>                             <td>-2.215e+04</td> <td> 9848.152</td> <td>   -2.249</td> <td> 0.025</td> <td>-4.15e+04</td> <td>-2817.919</td>\n",
       "</tr>\n",
       "<tr>\n",
       "  <th>model_C-Class</th>                        <td>-2.261e+04</td> <td> 9874.396</td> <td>   -2.290</td> <td> 0.022</td> <td> -4.2e+04</td> <td>-3234.027</td>\n",
       "</tr>\n",
       "<tr>\n",
       "  <th>model_CT</th>                             <td>-2.625e+04</td> <td> 9885.261</td> <td>   -2.656</td> <td> 0.008</td> <td>-4.57e+04</td> <td>-6853.135</td>\n",
       "</tr>\n",
       "<tr>\n",
       "  <th>model_Golf</th>                           <td>-2.201e+04</td> <td> 9862.820</td> <td>   -2.231</td> <td> 0.026</td> <td>-4.14e+04</td> <td>-2650.342</td>\n",
       "</tr>\n",
       "<tr>\n",
       "  <th>model_Kona</th>                           <td>-2.289e+04</td> <td> 9859.095</td> <td>   -2.322</td> <td> 0.020</td> <td>-4.22e+04</td> <td>-3542.381</td>\n",
       "</tr>\n",
       "<tr>\n",
       "  <th>model_Mazda3</th>                         <td> -2.28e+04</td> <td> 9833.171</td> <td>   -2.319</td> <td> 0.021</td> <td>-4.21e+04</td> <td>-3501.957</td>\n",
       "</tr>\n",
       "<tr>\n",
       "  <th>model_Mazda6</th>                         <td>-2.284e+04</td> <td> 9909.049</td> <td>   -2.305</td> <td> 0.021</td> <td>-4.23e+04</td> <td>-3388.785</td>\n",
       "</tr>\n",
       "<tr>\n",
       "  <th>model_NX</th>                             <td>-1.764e+04</td> <td> 9877.615</td> <td>   -1.786</td> <td> 0.074</td> <td> -3.7e+04</td> <td> 1741.581</td>\n",
       "</tr>\n",
       "<tr>\n",
       "  <th>model_Qashqai</th>                        <td>-3.323e+04</td> <td> 1.48e+04</td> <td>   -2.247</td> <td> 0.025</td> <td>-6.23e+04</td> <td>-4200.221</td>\n",
       "</tr>\n",
       "<tr>\n",
       "  <th>model_Tucson</th>                         <td>-2.183e+04</td> <td> 9850.114</td> <td>   -2.217</td> <td> 0.027</td> <td>-4.12e+04</td> <td>-2501.796</td>\n",
       "</tr>\n",
       "<tr>\n",
       "  <th>model_e-Golf</th>                         <td>-2.557e+04</td> <td> 9937.704</td> <td>   -2.573</td> <td> 0.010</td> <td>-4.51e+04</td> <td>-6070.664</td>\n",
       "</tr>\n",
       "</table>\n",
       "<table class=\"simpletable\">\n",
       "<tr>\n",
       "  <th>Omnibus:</th>       <td>184.787</td> <th>  Durbin-Watson:     </th> <td>   2.042</td> \n",
       "</tr>\n",
       "<tr>\n",
       "  <th>Prob(Omnibus):</th> <td> 0.000</td>  <th>  Jarque-Bera (JB):  </th> <td> 653.383</td> \n",
       "</tr>\n",
       "<tr>\n",
       "  <th>Skew:</th>          <td> 0.875</td>  <th>  Prob(JB):          </th> <td>1.32e-142</td>\n",
       "</tr>\n",
       "<tr>\n",
       "  <th>Kurtosis:</th>      <td> 6.583</td>  <th>  Cond. No.          </th> <td>1.21e+16</td> \n",
       "</tr>\n",
       "</table><br/><br/>Warnings:<br/>[1] Standard Errors assume that the covariance matrix of the errors is correctly specified.<br/>[2] The smallest eigenvalue is 3.75e-21. This might indicate that there are<br/>strong multicollinearity problems or that the design matrix is singular."
      ],
      "text/plain": [
       "<class 'statsmodels.iolib.summary.Summary'>\n",
       "\"\"\"\n",
       "                            OLS Regression Results                            \n",
       "==============================================================================\n",
       "Dep. Variable:                      y   R-squared:                       0.906\n",
       "Model:                            OLS   Adj. R-squared:                  0.898\n",
       "Method:                 Least Squares   F-statistic:                     121.6\n",
       "Date:                Sat, 02 Jan 2021   Prob (F-statistic):               0.00\n",
       "Time:                        16:45:00   Log-Likelihood:                -8641.0\n",
       "No. Observations:                 986   AIC:                         1.743e+04\n",
       "Df Residuals:                     913   BIC:                         1.779e+04\n",
       "Df Model:                          72                                         \n",
       "Covariance Type:            nonrobust                                         \n",
       "========================================================================================================\n",
       "                                           coef    std err          t      P>|t|      [0.025      0.975]\n",
       "--------------------------------------------------------------------------------------------------------\n",
       "const                                -3.868e+05   1.68e+05     -2.309      0.021   -7.16e+05    -5.8e+04\n",
       "BHP                                     23.7425      2.385      9.954      0.000      19.062      28.423\n",
       "engine                                2611.4948    337.843      7.730      0.000    1948.456    3274.534\n",
       "mileage                                 -0.0541      0.005    -10.240      0.000      -0.064      -0.044\n",
       "owners                                 394.9733   1643.005      0.240      0.810   -2829.531    3619.478\n",
       "year                                   504.4290    215.584      2.340      0.020      81.331     927.527\n",
       "name_length                              9.0891      8.841      1.028      0.304      -8.263      26.441\n",
       "missing_BHP                            156.5982    141.860      1.104      0.270    -121.812     435.008\n",
       "sport                                  195.3340    287.304      0.680      0.497    -368.520     759.188\n",
       "se                                    -823.7248    223.447     -3.686      0.000   -1262.254    -385.196\n",
       "amg                                   2531.1725    379.718      6.666      0.000    1785.952    3276.393\n",
       "tfsi                                  1277.5193   1384.673      0.923      0.356   -1439.993    3995.031\n",
       "nav                                   -382.4135    210.224     -1.819      0.069    -794.992      30.165\n",
       "tsi                                   2857.1967   1319.151      2.166      0.031     268.275    5446.118\n",
       "tdi                                   1817.5952   1360.978      1.336      0.182    -853.414    4488.604\n",
       "premium                                222.6589    282.373      0.789      0.431    -331.516     776.833\n",
       "dci                                   1146.0146    343.795      3.333      0.001     471.295    1820.735\n",
       "m sport                               1761.7356    416.998      4.225      0.000     943.349    2580.122\n",
       "sportback                             -385.5468    461.801     -0.835      0.404   -1291.861     520.767\n",
       "edition                                771.3696    303.910      2.538      0.011     174.927    1367.812\n",
       "tech                                   723.6522    294.971      2.453      0.014     144.751    1302.553\n",
       "crdi                                  1864.5642    464.305      4.016      0.000     953.335    2775.793\n",
       "tronic                                -279.8234    361.915     -0.773      0.440    -990.105     430.458\n",
       "cod                                    294.5151    395.789      0.744      0.457    -482.246    1071.277\n",
       "s line                                1280.7084    326.800      3.919      0.000     639.342    1922.075\n",
       "bluetooth                             -733.3640    365.209     -2.008      0.045   -1450.111     -16.617\n",
       "leather                                338.6969    468.330      0.723      0.470    -580.432    1257.826\n",
       "performance                             36.3294    540.772      0.067      0.946   -1024.971    1097.630\n",
       "2dr                                  -1915.2632    553.766     -3.459      0.001   -3002.065    -828.462\n",
       "3dr                                    -11.1518    435.299     -0.026      0.980    -865.455     843.151\n",
       "4dr                                   -689.4591    528.653     -1.304      0.193   -1726.975     348.057\n",
       "5dr                                    156.6322    288.243      0.543      0.587    -409.064     722.329\n",
       "dsg                                   1421.2630    356.897      3.982      0.000     720.830    2121.696\n",
       "speed                                  922.6231    484.507      1.904      0.057     -28.253    1873.499\n",
       "gti                                   2046.7634    532.441      3.844      0.000    1001.813    3091.714\n",
       "gtd                                   3183.1737    454.846      6.998      0.000    2290.508    4075.840\n",
       "gte                                   3582.8506    717.215      4.996      0.000    2175.269    4990.432\n",
       "ULEZ_Non-ULEZ                        -1.935e+05   8.38e+04     -2.309      0.021   -3.58e+05    -2.9e+04\n",
       "ULEZ_ULEZ                            -1.933e+05   8.38e+04     -2.308      0.021   -3.58e+05    -2.9e+04\n",
       "body_Convertible                     -5.972e+04   2.79e+04     -2.141      0.033   -1.14e+05   -4980.191\n",
       "body_Coupe                           -6.133e+04   2.79e+04     -2.198      0.028   -1.16e+05   -6556.458\n",
       "body_Estate                          -6.591e+04   2.79e+04     -2.359      0.019   -1.21e+05   -1.11e+04\n",
       "body_Hatchback                       -6.688e+04   2.79e+04     -2.394      0.017   -1.22e+05   -1.21e+04\n",
       "body_SUV                             -6.761e+04    2.8e+04     -2.417      0.016   -1.23e+05   -1.27e+04\n",
       "body_Saloon                          -6.534e+04   2.79e+04     -2.340      0.020    -1.2e+05   -1.05e+04\n",
       "fuel_Diesel                          -5.917e+04   2.39e+04     -2.473      0.014   -1.06e+05   -1.22e+04\n",
       "fuel_Electric                        -4.455e+04    2.4e+04     -1.855      0.064   -9.17e+04    2581.671\n",
       "fuel_Hybrid  Diesel/Electric         -5.959e+04   2.39e+04     -2.489      0.013   -1.07e+05   -1.26e+04\n",
       "fuel_Hybrid  Diesel/Electric Plug-in -4.893e+04   2.39e+04     -2.044      0.041   -9.59e+04   -1955.069\n",
       "fuel_Hybrid  Petrol/Electric         -5.641e+04    2.4e+04     -2.352      0.019   -1.03e+05   -9344.942\n",
       "fuel_Hybrid  Petrol/Electric Plug-in -6.012e+04   2.39e+04     -2.513      0.012   -1.07e+05   -1.32e+04\n",
       "fuel_Petrol                          -5.802e+04   2.39e+04     -2.425      0.016   -1.05e+05   -1.11e+04\n",
       "transmission_Automatic               -1.928e+05   8.38e+04     -2.302      0.022   -3.57e+05   -2.84e+04\n",
       "transmission_Manual                   -1.94e+05   8.38e+04     -2.316      0.021   -3.58e+05   -2.96e+04\n",
       "year_reg_17 reg                      -4.538e+04   1.83e+04     -2.477      0.013   -8.13e+04   -9424.829\n",
       "year_reg_18 reg                      -4.432e+04   1.85e+04     -2.392      0.017   -8.07e+04   -7951.802\n",
       "year_reg_19 reg                      -4.319e+04   1.87e+04     -2.305      0.021      -8e+04   -6409.892\n",
       "year_reg_20 reg                      -3.966e+04    1.9e+04     -2.092      0.037   -7.69e+04   -2453.172\n",
       "year_reg_66 reg                      -4.605e+04   1.83e+04     -2.514      0.012    -8.2e+04   -1.01e+04\n",
       "year_reg_67 reg                      -4.481e+04   1.83e+04     -2.444      0.015   -8.08e+04   -8824.448\n",
       "year_reg_68 reg                      -4.323e+04   1.86e+04     -2.326      0.020   -7.97e+04   -6747.468\n",
       "year_reg_69 reg                      -4.226e+04   1.88e+04     -2.249      0.025   -7.91e+04   -5384.002\n",
       "year_reg_70 reg                      -3.789e+04    1.9e+04     -1.998      0.046   -7.51e+04    -675.989\n",
       "make_Audi                            -4.536e+04   1.97e+04     -2.302      0.022    -8.4e+04   -6686.259\n",
       "make_BMW                              -4.62e+04   1.97e+04     -2.342      0.019   -8.49e+04   -7486.832\n",
       "make_Fiat                            -3.586e+04   1.48e+04     -2.421      0.016   -6.49e+04   -6795.798\n",
       "make_Hyundai                         -4.472e+04   1.97e+04     -2.270      0.023   -8.34e+04   -6059.662\n",
       "make_Lexus                            -4.39e+04   1.97e+04     -2.229      0.026   -8.26e+04   -5240.757\n",
       "make_Mazda                           -4.564e+04   1.97e+04     -2.313      0.021   -8.44e+04   -6912.503\n",
       "make_Mercedes-Benz                    -4.43e+04   1.97e+04     -2.246      0.025    -8.3e+04   -5591.664\n",
       "make_Nissan                          -3.323e+04   1.48e+04     -2.247      0.025   -6.23e+04   -4200.221\n",
       "make_Volkswagen                      -4.758e+04   1.97e+04     -2.412      0.016   -8.63e+04   -8870.171\n",
       "model_2-Series                       -2.393e+04   9892.562     -2.419      0.016   -4.33e+04   -4513.357\n",
       "model_3-Series                       -2.227e+04   9844.300     -2.263      0.024   -4.16e+04   -2953.599\n",
       "model_500                            -3.586e+04   1.48e+04     -2.421      0.016   -6.49e+04   -6795.798\n",
       "model_A-Class                        -2.169e+04   9852.405     -2.201      0.028    -4.1e+04   -2349.213\n",
       "model_A1                             -2.322e+04   9861.492     -2.354      0.019   -4.26e+04   -3863.090\n",
       "model_A3                             -2.215e+04   9848.152     -2.249      0.025   -4.15e+04   -2817.919\n",
       "model_C-Class                        -2.261e+04   9874.396     -2.290      0.022    -4.2e+04   -3234.027\n",
       "model_CT                             -2.625e+04   9885.261     -2.656      0.008   -4.57e+04   -6853.135\n",
       "model_Golf                           -2.201e+04   9862.820     -2.231      0.026   -4.14e+04   -2650.342\n",
       "model_Kona                           -2.289e+04   9859.095     -2.322      0.020   -4.22e+04   -3542.381\n",
       "model_Mazda3                          -2.28e+04   9833.171     -2.319      0.021   -4.21e+04   -3501.957\n",
       "model_Mazda6                         -2.284e+04   9909.049     -2.305      0.021   -4.23e+04   -3388.785\n",
       "model_NX                             -1.764e+04   9877.615     -1.786      0.074    -3.7e+04    1741.581\n",
       "model_Qashqai                        -3.323e+04   1.48e+04     -2.247      0.025   -6.23e+04   -4200.221\n",
       "model_Tucson                         -2.183e+04   9850.114     -2.217      0.027   -4.12e+04   -2501.796\n",
       "model_e-Golf                         -2.557e+04   9937.704     -2.573      0.010   -4.51e+04   -6070.664\n",
       "==============================================================================\n",
       "Omnibus:                      184.787   Durbin-Watson:                   2.042\n",
       "Prob(Omnibus):                  0.000   Jarque-Bera (JB):              653.383\n",
       "Skew:                           0.875   Prob(JB):                    1.32e-142\n",
       "Kurtosis:                       6.583   Cond. No.                     1.21e+16\n",
       "==============================================================================\n",
       "\n",
       "Warnings:\n",
       "[1] Standard Errors assume that the covariance matrix of the errors is correctly specified.\n",
       "[2] The smallest eigenvalue is 3.75e-21. This might indicate that there are\n",
       "strong multicollinearity problems or that the design matrix is singular.\n",
       "\"\"\""
      ]
     },
     "execution_count": 12,
     "metadata": {},
     "output_type": "execute_result"
    }
   ],
   "source": [
    "X_sm = sm.add_constant(X_train)\n",
    "model_OLS = sm.OLS(y_train, X_sm)\n",
    "model_OLS.fit().summary()"
   ]
  },
  {
   "cell_type": "code",
   "execution_count": 13,
   "metadata": {},
   "outputs": [
    {
     "data": {
      "text/plain": [
       "-1254.5641543506676"
      ]
     },
     "execution_count": 13,
     "metadata": {},
     "output_type": "execute_result"
    }
   ],
   "source": [
    "from sklearn.linear_model import LinearRegression\n",
    "from sklearn.model_selection import cross_val_score\n",
    "\n",
    "lm = LinearRegression()\n",
    "lm.fit(X_train, y_train)\n",
    "\n",
    "np.mean(cross_val_score(lm, X_train, y_train, scoring = \"neg_mean_absolute_error\", cv=5))"
   ]
  },
  {
   "cell_type": "markdown",
   "metadata": {},
   "source": [
    "## Lasso regression"
   ]
  },
  {
   "cell_type": "code",
   "execution_count": 14,
   "metadata": {},
   "outputs": [],
   "source": [
    "# Build linear regression model with L2 regularization\n",
    "from sklearn.linear_model import Lasso"
   ]
  },
  {
   "cell_type": "code",
   "execution_count": 15,
   "metadata": {},
   "outputs": [
    {
     "data": {
      "text/plain": [
       "-1251.6124151503816"
      ]
     },
     "execution_count": 15,
     "metadata": {},
     "output_type": "execute_result"
    }
   ],
   "source": [
    "lm_lasso = Lasso(max_iter=10000)\n",
    "lm_lasso.fit(X_train, y_train)\n",
    "\n",
    "np.mean(cross_val_score(lm_lasso, X_train, y_train, scoring = \"neg_mean_absolute_error\", cv=5))"
   ]
  },
  {
   "cell_type": "markdown",
   "metadata": {},
   "source": [
    "### Hyperparameter tuning on regularisation parameter alpha"
   ]
  },
  {
   "cell_type": "code",
   "execution_count": 16,
   "metadata": {},
   "outputs": [
    {
     "data": {
      "text/plain": [
       "[<matplotlib.lines.Line2D at 0x25aba8ad828>]"
      ]
     },
     "execution_count": 16,
     "metadata": {},
     "output_type": "execute_result"
    },
    {
     "data": {
      "image/png": "[encoded data removed]",
      "text/plain": [
       "<Figure size 432x288 with 1 Axes>"
      ]
     },
     "metadata": {
      "needs_background": "light"
     },
     "output_type": "display_data"
    }
   ],
   "source": [
    "# tune the model for the optimisation alpha\n",
    "alpha = []\n",
    "error = []\n",
    "\n",
    "for a in np.linspace(1,5,30):\n",
    "    alpha.append(a)\n",
    "    lm_lasso_tune = Lasso(alpha=a, max_iter=10000)\n",
    "    error.append(np.mean(cross_val_score(lm_lasso_tune, X_train, y_train, scoring = \"neg_mean_absolute_error\", cv=5)))\n",
    "\n",
    "plt.plot(alpha,error)"
   ]
  },
  {
   "cell_type": "code",
   "execution_count": 17,
   "metadata": {},
   "outputs": [
    {
     "data": {
      "text/html": [
       "<div>\n",
       "<style scoped>\n",
       "    .dataframe tbody tr th:only-of-type {\n",
       "        vertical-align: middle;\n",
       "    }\n",
       "\n",
       "    .dataframe tbody tr th {\n",
       "        vertical-align: top;\n",
       "    }\n",
       "\n",
       "    .dataframe thead th {\n",
       "        text-align: right;\n",
       "    }\n",
       "</style>\n",
       "<table border=\"1\" class=\"dataframe\">\n",
       "  <thead>\n",
       "    <tr style=\"text-align: right;\">\n",
       "      <th></th>\n",
       "      <th>alpha</th>\n",
       "      <th>error</th>\n",
       "    </tr>\n",
       "  </thead>\n",
       "  <tbody>\n",
       "    <tr>\n",
       "      <th>5</th>\n",
       "      <td>1.689655</td>\n",
       "      <td>-1249.772898</td>\n",
       "    </tr>\n",
       "  </tbody>\n",
       "</table>\n",
       "</div>"
      ],
      "text/plain": [
       "      alpha        error\n",
       "5  1.689655 -1249.772898"
      ]
     },
     "execution_count": 17,
     "metadata": {},
     "output_type": "execute_result"
    }
   ],
   "source": [
    "# find alpha value with minimum mean absolute error\n",
    "err = list(zip(alpha,error))\n",
    "df_err = pd.DataFrame(err, columns=[\"alpha\",\"error\"])\n",
    "df_err[df_err.error == np.max(df_err.error)]"
   ]
  },
  {
   "cell_type": "code",
   "execution_count": 18,
   "metadata": {},
   "outputs": [
    {
     "data": {
      "text/plain": [
       "-1249.772897596559"
      ]
     },
     "execution_count": 18,
     "metadata": {},
     "output_type": "execute_result"
    }
   ],
   "source": [
    "lm_lasso = Lasso(alpha=1.689655, max_iter=10000)\n",
    "lm_lasso.fit(X_train, y_train)\n",
    "np.mean(cross_val_score(lm_lasso, X_train, y_train, scoring = \"neg_mean_absolute_error\", cv=5))"
   ]
  },
  {
   "cell_type": "markdown",
   "metadata": {},
   "source": [
    "## RandomForestRegressor"
   ]
  },
  {
   "cell_type": "code",
   "execution_count": 19,
   "metadata": {},
   "outputs": [
    {
     "data": {
      "text/plain": [
       "-1301.0698007949936"
      ]
     },
     "execution_count": 19,
     "metadata": {},
     "output_type": "execute_result"
    }
   ],
   "source": [
    "# build a random forest model\n",
    "from sklearn.ensemble import RandomForestRegressor\n",
    "rf = RandomForestRegressor(n_estimators=100, random_state=7)\n",
    "\n",
    "np.mean(cross_val_score(rf, X_train, y_train, scoring = \"neg_mean_absolute_error\", cv=5))"
   ]
  },
  {
   "cell_type": "markdown",
   "metadata": {},
   "source": [
    "## hyperparameter tuning"
   ]
  },
  {
   "cell_type": "code",
   "execution_count": 20,
   "metadata": {},
   "outputs": [
    {
     "name": "stderr",
     "output_type": "stream",
     "text": [
      "D:\\Apps\\Anaconda\\lib\\site-packages\\sklearn\\model_selection\\_search.py:841: DeprecationWarning: The default of the `iid` parameter will change from True to False in version 0.22 and will be removed in 0.24. This will change numeric results when test-set sizes are unequal.\n",
      "  DeprecationWarning)\n"
     ]
    },
    {
     "data": {
      "text/plain": [
       "GridSearchCV(cv=3, error_score='raise-deprecating',\n",
       "       estimator=RandomForestRegressor(bootstrap=True, criterion='mse', max_depth=None,\n",
       "           max_features='auto', max_leaf_nodes=None,\n",
       "           min_impurity_decrease=0.0, min_impurity_split=None,\n",
       "           min_samples_leaf=1, min_samples_split=2,\n",
       "           min_weight_fraction_leaf=0.0, n_estimators=100, n_jobs=None,\n",
       "           oob_score=False, random_state=7, verbose=0, warm_start=False),\n",
       "       fit_params=None, iid='warn', n_jobs=None,\n",
       "       param_grid={'n_estimators': range(100, 240, 20), 'criterion': ['mse', 'mae'], 'max_features': ['auto', 'sqrt', 'log2'], 'min_samples_leaf': [1, 2, 4], 'min_samples_split': [2, 5, 10]},\n",
       "       pre_dispatch='2*n_jobs', refit=True, return_train_score='warn',\n",
       "       scoring='neg_mean_absolute_error', verbose=0)"
      ]
     },
     "execution_count": 20,
     "metadata": {},
     "output_type": "execute_result"
    }
   ],
   "source": [
    "# tuning using GridSearchCV\n",
    "from sklearn.model_selection import GridSearchCV\n",
    "\n",
    "params = {\"n_estimators\": range(100,240,20),\n",
    "          \"criterion\":[\"mse\", \"mae\"],\n",
    "          \"max_features\":[\"auto\", \"sqrt\", \"log2\"],\n",
    "          \"min_samples_leaf\":[1,2,4],\n",
    "          \"min_samples_split\":[2,5,10]}\n",
    "\n",
    "gs = GridSearchCV(rf, params, scoring=\"neg_mean_absolute_error\", cv=3)\n",
    "gs.fit(X_train, y_train)"
   ]
  },
  {
   "cell_type": "code",
   "execution_count": 21,
   "metadata": {},
   "outputs": [
    {
     "data": {
      "text/plain": [
       "-1249.1359318335485"
      ]
     },
     "execution_count": 21,
     "metadata": {},
     "output_type": "execute_result"
    }
   ],
   "source": [
    "gs.best_score_"
   ]
  },
  {
   "cell_type": "code",
   "execution_count": 22,
   "metadata": {},
   "outputs": [
    {
     "data": {
      "text/plain": [
       "{'criterion': 'mse',\n",
       " 'max_features': 'sqrt',\n",
       " 'min_samples_leaf': 1,\n",
       " 'min_samples_split': 2,\n",
       " 'n_estimators': 220}"
      ]
     },
     "execution_count": 22,
     "metadata": {},
     "output_type": "execute_result"
    }
   ],
   "source": [
    "gs.best_params_"
   ]
  },
  {
   "cell_type": "markdown",
   "metadata": {},
   "source": [
    "## test ensembles"
   ]
  },
  {
   "cell_type": "code",
   "execution_count": 23,
   "metadata": {},
   "outputs": [],
   "source": [
    "# predict prices on test set\n",
    "pred_lm = lm.predict(X_test)\n",
    "pred_lm_lasso = lm_lasso.predict(X_test)\n",
    "pred_rf = gs.best_estimator_.predict(X_test)"
   ]
  },
  {
   "cell_type": "code",
   "execution_count": 24,
   "metadata": {},
   "outputs": [
    {
     "data": {
      "text/plain": [
       "{'Linear Regression': 1154.9761938930344,\n",
       " 'Lasso Regression': 1148.1925589541343,\n",
       " 'RandomForestRegressor': 1042.9244352139087}"
      ]
     },
     "execution_count": 24,
     "metadata": {},
     "output_type": "execute_result"
    }
   ],
   "source": [
    "from sklearn.metrics import mean_absolute_error\n",
    "valuation = {\"Linear Regression\": mean_absolute_error(y_test, pred_lm),\n",
    "             \"Lasso Regression\": mean_absolute_error(y_test, pred_lm_lasso),\n",
    "             \"RandomForestRegressor\": mean_absolute_error(y_test, pred_rf)}\n",
    "valuation"
   ]
  },
  {
   "cell_type": "markdown",
   "metadata": {},
   "source": [
    "## feature importance the RandomForest Regression model"
   ]
  },
  {
   "cell_type": "code",
   "execution_count": 60,
   "metadata": {},
   "outputs": [],
   "source": [
    "feature_dict = dict(zip(df_dum.drop(\"price\",axis=1).columns,list(gs.best_estimator_.feature_importances_)))"
   ]
  },
  {
   "cell_type": "code",
   "execution_count": 61,
   "metadata": {},
   "outputs": [],
   "source": [
    "feature_dict = dict(sorted(feature_dict.items(), key=lambda item: item[1], reverse=True))"
   ]
  },
  {
   "cell_type": "code",
   "execution_count": 62,
   "metadata": {},
   "outputs": [
    {
     "data": {
      "image/png": "[encoded data removed]",
      "text/plain": [
       "<Figure size 1440x720 with 1 Axes>"
      ]
     },
     "metadata": {
      "needs_background": "light"
     },
     "output_type": "display_data"
    }
   ],
   "source": [
    "df_features = pd.DataFrame(feature_dict,index=[\"Coefficients\"])\n",
    "plt.figure(figsize=(20,10))\n",
    "plt.bar(df_features.columns,df_features.iloc[0])\n",
    "plt.xticks(rotation='vertical')\n",
    "plt.show()"
   ]
  },
  {
   "cell_type": "markdown",
   "metadata": {},
   "source": [
    "# Deploy the model into production using pickle"
   ]
  },
  {
   "cell_type": "code",
   "execution_count": 67,
   "metadata": {},
   "outputs": [],
   "source": [
    "# pickle the model\n",
    "import pickle\n",
    "auto_estimator = {'model': gs.best_estimator_}\n",
    "pickle.dump(auto_estimator, open('model_file' + \".p\", \"wb\"))"
   ]
  },
  {
   "cell_type": "code",
   "execution_count": 69,
   "metadata": {},
   "outputs": [
    {
     "data": {
      "text/plain": [
       "(array([16235.61818182]), 16450)"
      ]
     },
     "execution_count": 69,
     "metadata": {},
     "output_type": "execute_result"
    }
   ],
   "source": [
    "# test the pickled model for prediction\n",
    "\n",
    "file_name = \"model_file.p\"\n",
    "with open(file_name, 'rb') as pickled:\n",
    "    data = pickle.load(pickled)\n",
    "    model = data['model']\n",
    "\n",
    "model.predict(X_test.iloc[0,:].values.reshape(1,-1)), y_test[0]"
   ]
  }
 ],
 "metadata": {
  "kernelspec": {
   "display_name": "Python 3",
   "language": "python",
   "name": "python3"
  },
  "language_info": {
   "codemirror_mode": {
    "name": "ipython",
    "version": 3
   },
   "file_extension": ".py",
   "mimetype": "text/x-python",
   "name": "python",
   "nbconvert_exporter": "python",
   "pygments_lexer": "ipython3",
   "version": "3.7.3"
  }
 },
 "nbformat": 4,
 "nbformat_minor": 2
}
