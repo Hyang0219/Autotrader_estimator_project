{
 "cells": [
  {
   "cell_type": "markdown",
   "metadata": {},
   "source": [
    "# Build and test the model for predicting the price of a second-hand car in the UK"
   ]
  },
  {
   "cell_type": "code",
   "execution_count": 17,
   "metadata": {},
   "outputs": [],
   "source": [
    "import pandas as pd\n",
    "import matplotlib.pyplot as plt\n",
    "import numpy as np"
   ]
  },
  {
   "cell_type": "code",
   "execution_count": 18,
   "metadata": {},
   "outputs": [],
   "source": [
    "df = pd.read_csv(\"autotrader_prices_eda.csv\")"
   ]
  },
  {
   "cell_type": "markdown",
   "metadata": {},
   "source": [
    "## choose relevant columns"
   ]
  },
  {
   "cell_type": "code",
   "execution_count": 19,
   "metadata": {},
   "outputs": [
    {
     "data": {
      "text/plain": [
       "Index(['BHP', 'ULEZ', 'body', 'engine', 'fuel', 'mileage', 'name', 'owners',\n",
       "       'price', 'transmission', 'year', 'make', 'model', 'se', 'eco', 'sport',\n",
       "       'm_sport', 'lux', 'sat_nav', 'bluetooth', 'leather', 'three_door',\n",
       "       'year_reg', 'name_len'],\n",
       "      dtype='object')"
      ]
     },
     "execution_count": 19,
     "metadata": {},
     "output_type": "execute_result"
    }
   ],
   "source": [
    "df.columns"
   ]
  },
  {
   "cell_type": "code",
   "execution_count": 20,
   "metadata": {},
   "outputs": [],
   "source": [
    "# exclude name feature\n",
    "df_model = df.drop(\"name\", axis=1)"
   ]
  },
  {
   "cell_type": "code",
   "execution_count": 21,
   "metadata": {},
   "outputs": [
    {
     "data": {
      "text/html": [
       "<div>\n",
       "<style scoped>\n",
       "    .dataframe tbody tr th:only-of-type {\n",
       "        vertical-align: middle;\n",
       "    }\n",
       "\n",
       "    .dataframe tbody tr th {\n",
       "        vertical-align: top;\n",
       "    }\n",
       "\n",
       "    .dataframe thead th {\n",
       "        text-align: right;\n",
       "    }\n",
       "</style>\n",
       "<table border=\"1\" class=\"dataframe\">\n",
       "  <thead>\n",
       "    <tr style=\"text-align: right;\">\n",
       "      <th></th>\n",
       "      <th>BHP</th>\n",
       "      <th>ULEZ</th>\n",
       "      <th>body</th>\n",
       "      <th>engine</th>\n",
       "      <th>fuel</th>\n",
       "      <th>mileage</th>\n",
       "      <th>owners</th>\n",
       "      <th>price</th>\n",
       "      <th>transmission</th>\n",
       "      <th>year</th>\n",
       "      <th>...</th>\n",
       "      <th>eco</th>\n",
       "      <th>sport</th>\n",
       "      <th>m_sport</th>\n",
       "      <th>lux</th>\n",
       "      <th>sat_nav</th>\n",
       "      <th>bluetooth</th>\n",
       "      <th>leather</th>\n",
       "      <th>three_door</th>\n",
       "      <th>year_reg</th>\n",
       "      <th>name_len</th>\n",
       "    </tr>\n",
       "  </thead>\n",
       "  <tbody>\n",
       "    <tr>\n",
       "      <th>0</th>\n",
       "      <td>108.0</td>\n",
       "      <td>ULEZ</td>\n",
       "      <td>Hatchback</td>\n",
       "      <td>1.6</td>\n",
       "      <td>Diesel</td>\n",
       "      <td>82850</td>\n",
       "      <td>2.0</td>\n",
       "      <td>7991</td>\n",
       "      <td>Manual</td>\n",
       "      <td>2015</td>\n",
       "      <td>...</td>\n",
       "      <td>0</td>\n",
       "      <td>0</td>\n",
       "      <td>0</td>\n",
       "      <td>0</td>\n",
       "      <td>1</td>\n",
       "      <td>1</td>\n",
       "      <td>0</td>\n",
       "      <td>0</td>\n",
       "      <td>15 reg</td>\n",
       "      <td>64</td>\n",
       "    </tr>\n",
       "    <tr>\n",
       "      <th>1</th>\n",
       "      <td>148.0</td>\n",
       "      <td>ULEZ</td>\n",
       "      <td>Hatchback</td>\n",
       "      <td>2.0</td>\n",
       "      <td>Diesel</td>\n",
       "      <td>38627</td>\n",
       "      <td>2.0</td>\n",
       "      <td>10980</td>\n",
       "      <td>Manual</td>\n",
       "      <td>2015</td>\n",
       "      <td>...</td>\n",
       "      <td>0</td>\n",
       "      <td>0</td>\n",
       "      <td>0</td>\n",
       "      <td>0</td>\n",
       "      <td>1</td>\n",
       "      <td>0</td>\n",
       "      <td>0</td>\n",
       "      <td>0</td>\n",
       "      <td>65 reg</td>\n",
       "      <td>60</td>\n",
       "    </tr>\n",
       "    <tr>\n",
       "      <th>2</th>\n",
       "      <td>108.0</td>\n",
       "      <td>ULEZ</td>\n",
       "      <td>Hatchback</td>\n",
       "      <td>1.6</td>\n",
       "      <td>Diesel</td>\n",
       "      <td>84812</td>\n",
       "      <td>2.0</td>\n",
       "      <td>8350</td>\n",
       "      <td>Manual</td>\n",
       "      <td>2015</td>\n",
       "      <td>...</td>\n",
       "      <td>0</td>\n",
       "      <td>1</td>\n",
       "      <td>0</td>\n",
       "      <td>0</td>\n",
       "      <td>1</td>\n",
       "      <td>0</td>\n",
       "      <td>0</td>\n",
       "      <td>0</td>\n",
       "      <td>15 reg</td>\n",
       "      <td>50</td>\n",
       "    </tr>\n",
       "    <tr>\n",
       "      <th>3</th>\n",
       "      <td>182.0</td>\n",
       "      <td>ULEZ</td>\n",
       "      <td>Hatchback</td>\n",
       "      <td>2.0</td>\n",
       "      <td>Diesel</td>\n",
       "      <td>74413</td>\n",
       "      <td>2.0</td>\n",
       "      <td>9699</td>\n",
       "      <td>Automatic</td>\n",
       "      <td>2015</td>\n",
       "      <td>...</td>\n",
       "      <td>0</td>\n",
       "      <td>1</td>\n",
       "      <td>0</td>\n",
       "      <td>0</td>\n",
       "      <td>0</td>\n",
       "      <td>0</td>\n",
       "      <td>0</td>\n",
       "      <td>0</td>\n",
       "      <td>15 reg</td>\n",
       "      <td>58</td>\n",
       "    </tr>\n",
       "    <tr>\n",
       "      <th>4</th>\n",
       "      <td>108.0</td>\n",
       "      <td>ULEZ</td>\n",
       "      <td>Hatchback</td>\n",
       "      <td>1.6</td>\n",
       "      <td>Diesel</td>\n",
       "      <td>59152</td>\n",
       "      <td>2.0</td>\n",
       "      <td>8990</td>\n",
       "      <td>Manual</td>\n",
       "      <td>2015</td>\n",
       "      <td>...</td>\n",
       "      <td>0</td>\n",
       "      <td>1</td>\n",
       "      <td>0</td>\n",
       "      <td>0</td>\n",
       "      <td>0</td>\n",
       "      <td>0</td>\n",
       "      <td>0</td>\n",
       "      <td>0</td>\n",
       "      <td>15 reg</td>\n",
       "      <td>32</td>\n",
       "    </tr>\n",
       "  </tbody>\n",
       "</table>\n",
       "<p>5 rows × 23 columns</p>\n",
       "</div>"
      ],
      "text/plain": [
       "     BHP  ULEZ       body  engine    fuel  mileage  owners  price  \\\n",
       "0  108.0  ULEZ  Hatchback     1.6  Diesel    82850     2.0   7991   \n",
       "1  148.0  ULEZ  Hatchback     2.0  Diesel    38627     2.0  10980   \n",
       "2  108.0  ULEZ  Hatchback     1.6  Diesel    84812     2.0   8350   \n",
       "3  182.0  ULEZ  Hatchback     2.0  Diesel    74413     2.0   9699   \n",
       "4  108.0  ULEZ  Hatchback     1.6  Diesel    59152     2.0   8990   \n",
       "\n",
       "  transmission  year  ... eco sport  m_sport  lux  sat_nav  bluetooth  \\\n",
       "0       Manual  2015  ...   0     0        0    0        1          1   \n",
       "1       Manual  2015  ...   0     0        0    0        1          0   \n",
       "2       Manual  2015  ...   0     1        0    0        1          0   \n",
       "3    Automatic  2015  ...   0     1        0    0        0          0   \n",
       "4       Manual  2015  ...   0     1        0    0        0          0   \n",
       "\n",
       "   leather  three_door  year_reg  name_len  \n",
       "0        0           0    15 reg        64  \n",
       "1        0           0    65 reg        60  \n",
       "2        0           0    15 reg        50  \n",
       "3        0           0    15 reg        58  \n",
       "4        0           0    15 reg        32  \n",
       "\n",
       "[5 rows x 23 columns]"
      ]
     },
     "execution_count": 21,
     "metadata": {},
     "output_type": "execute_result"
    }
   ],
   "source": [
    "df_model.head()"
   ]
  },
  {
   "cell_type": "code",
   "execution_count": 22,
   "metadata": {},
   "outputs": [
    {
     "data": {
      "text/plain": [
       "BHP             0\n",
       "ULEZ            0\n",
       "body            0\n",
       "engine          0\n",
       "fuel            0\n",
       "mileage         0\n",
       "owners          0\n",
       "price           0\n",
       "transmission    0\n",
       "year            0\n",
       "make            0\n",
       "model           0\n",
       "se              0\n",
       "eco             0\n",
       "sport           0\n",
       "m_sport         0\n",
       "lux             0\n",
       "sat_nav         0\n",
       "bluetooth       0\n",
       "leather         0\n",
       "three_door      0\n",
       "year_reg        0\n",
       "name_len        0\n",
       "dtype: int64"
      ]
     },
     "execution_count": 22,
     "metadata": {},
     "output_type": "execute_result"
    }
   ],
   "source": [
    "# double check there is no missing values\n",
    "df_model.isna().sum()"
   ]
  },
  {
   "cell_type": "markdown",
   "metadata": {},
   "source": [
    "## get dummy data"
   ]
  },
  {
   "cell_type": "code",
   "execution_count": 23,
   "metadata": {},
   "outputs": [],
   "source": [
    "df_dum = pd.get_dummies(df_model)"
   ]
  },
  {
   "cell_type": "code",
   "execution_count": 24,
   "metadata": {},
   "outputs": [
    {
     "data": {
      "text/html": [
       "<div>\n",
       "<style scoped>\n",
       "    .dataframe tbody tr th:only-of-type {\n",
       "        vertical-align: middle;\n",
       "    }\n",
       "\n",
       "    .dataframe tbody tr th {\n",
       "        vertical-align: top;\n",
       "    }\n",
       "\n",
       "    .dataframe thead th {\n",
       "        text-align: right;\n",
       "    }\n",
       "</style>\n",
       "<table border=\"1\" class=\"dataframe\">\n",
       "  <thead>\n",
       "    <tr style=\"text-align: right;\">\n",
       "      <th></th>\n",
       "      <th>BHP</th>\n",
       "      <th>engine</th>\n",
       "      <th>mileage</th>\n",
       "      <th>owners</th>\n",
       "      <th>price</th>\n",
       "      <th>year</th>\n",
       "      <th>se</th>\n",
       "      <th>eco</th>\n",
       "      <th>sport</th>\n",
       "      <th>m_sport</th>\n",
       "      <th>...</th>\n",
       "      <th>year_reg_18 reg</th>\n",
       "      <th>year_reg_19 reg</th>\n",
       "      <th>year_reg_20 reg</th>\n",
       "      <th>year_reg_64 reg</th>\n",
       "      <th>year_reg_65 reg</th>\n",
       "      <th>year_reg_66 reg</th>\n",
       "      <th>year_reg_67 reg</th>\n",
       "      <th>year_reg_68 reg</th>\n",
       "      <th>year_reg_69 reg</th>\n",
       "      <th>year_reg_70 reg</th>\n",
       "    </tr>\n",
       "  </thead>\n",
       "  <tbody>\n",
       "    <tr>\n",
       "      <th>0</th>\n",
       "      <td>108.0</td>\n",
       "      <td>1.6</td>\n",
       "      <td>82850</td>\n",
       "      <td>2.0</td>\n",
       "      <td>7991</td>\n",
       "      <td>2015</td>\n",
       "      <td>1</td>\n",
       "      <td>0</td>\n",
       "      <td>0</td>\n",
       "      <td>0</td>\n",
       "      <td>...</td>\n",
       "      <td>0</td>\n",
       "      <td>0</td>\n",
       "      <td>0</td>\n",
       "      <td>0</td>\n",
       "      <td>0</td>\n",
       "      <td>0</td>\n",
       "      <td>0</td>\n",
       "      <td>0</td>\n",
       "      <td>0</td>\n",
       "      <td>0</td>\n",
       "    </tr>\n",
       "    <tr>\n",
       "      <th>1</th>\n",
       "      <td>148.0</td>\n",
       "      <td>2.0</td>\n",
       "      <td>38627</td>\n",
       "      <td>2.0</td>\n",
       "      <td>10980</td>\n",
       "      <td>2015</td>\n",
       "      <td>1</td>\n",
       "      <td>0</td>\n",
       "      <td>0</td>\n",
       "      <td>0</td>\n",
       "      <td>...</td>\n",
       "      <td>0</td>\n",
       "      <td>0</td>\n",
       "      <td>0</td>\n",
       "      <td>0</td>\n",
       "      <td>1</td>\n",
       "      <td>0</td>\n",
       "      <td>0</td>\n",
       "      <td>0</td>\n",
       "      <td>0</td>\n",
       "      <td>0</td>\n",
       "    </tr>\n",
       "    <tr>\n",
       "      <th>2</th>\n",
       "      <td>108.0</td>\n",
       "      <td>1.6</td>\n",
       "      <td>84812</td>\n",
       "      <td>2.0</td>\n",
       "      <td>8350</td>\n",
       "      <td>2015</td>\n",
       "      <td>0</td>\n",
       "      <td>0</td>\n",
       "      <td>1</td>\n",
       "      <td>0</td>\n",
       "      <td>...</td>\n",
       "      <td>0</td>\n",
       "      <td>0</td>\n",
       "      <td>0</td>\n",
       "      <td>0</td>\n",
       "      <td>0</td>\n",
       "      <td>0</td>\n",
       "      <td>0</td>\n",
       "      <td>0</td>\n",
       "      <td>0</td>\n",
       "      <td>0</td>\n",
       "    </tr>\n",
       "    <tr>\n",
       "      <th>3</th>\n",
       "      <td>182.0</td>\n",
       "      <td>2.0</td>\n",
       "      <td>74413</td>\n",
       "      <td>2.0</td>\n",
       "      <td>9699</td>\n",
       "      <td>2015</td>\n",
       "      <td>0</td>\n",
       "      <td>0</td>\n",
       "      <td>1</td>\n",
       "      <td>0</td>\n",
       "      <td>...</td>\n",
       "      <td>0</td>\n",
       "      <td>0</td>\n",
       "      <td>0</td>\n",
       "      <td>0</td>\n",
       "      <td>0</td>\n",
       "      <td>0</td>\n",
       "      <td>0</td>\n",
       "      <td>0</td>\n",
       "      <td>0</td>\n",
       "      <td>0</td>\n",
       "    </tr>\n",
       "    <tr>\n",
       "      <th>4</th>\n",
       "      <td>108.0</td>\n",
       "      <td>1.6</td>\n",
       "      <td>59152</td>\n",
       "      <td>2.0</td>\n",
       "      <td>8990</td>\n",
       "      <td>2015</td>\n",
       "      <td>1</td>\n",
       "      <td>0</td>\n",
       "      <td>1</td>\n",
       "      <td>0</td>\n",
       "      <td>...</td>\n",
       "      <td>0</td>\n",
       "      <td>0</td>\n",
       "      <td>0</td>\n",
       "      <td>0</td>\n",
       "      <td>0</td>\n",
       "      <td>0</td>\n",
       "      <td>0</td>\n",
       "      <td>0</td>\n",
       "      <td>0</td>\n",
       "      <td>0</td>\n",
       "    </tr>\n",
       "  </tbody>\n",
       "</table>\n",
       "<p>5 rows × 52 columns</p>\n",
       "</div>"
      ],
      "text/plain": [
       "     BHP  engine  mileage  owners  price  year  se  eco  sport  m_sport  ...  \\\n",
       "0  108.0     1.6    82850     2.0   7991  2015   1    0      0        0  ...   \n",
       "1  148.0     2.0    38627     2.0  10980  2015   1    0      0        0  ...   \n",
       "2  108.0     1.6    84812     2.0   8350  2015   0    0      1        0  ...   \n",
       "3  182.0     2.0    74413     2.0   9699  2015   0    0      1        0  ...   \n",
       "4  108.0     1.6    59152     2.0   8990  2015   1    0      1        0  ...   \n",
       "\n",
       "   year_reg_18 reg  year_reg_19 reg  year_reg_20 reg  year_reg_64 reg  \\\n",
       "0                0                0                0                0   \n",
       "1                0                0                0                0   \n",
       "2                0                0                0                0   \n",
       "3                0                0                0                0   \n",
       "4                0                0                0                0   \n",
       "\n",
       "   year_reg_65 reg  year_reg_66 reg  year_reg_67 reg  year_reg_68 reg  \\\n",
       "0                0                0                0                0   \n",
       "1                1                0                0                0   \n",
       "2                0                0                0                0   \n",
       "3                0                0                0                0   \n",
       "4                0                0                0                0   \n",
       "\n",
       "   year_reg_69 reg  year_reg_70 reg  \n",
       "0                0                0  \n",
       "1                0                0  \n",
       "2                0                0  \n",
       "3                0                0  \n",
       "4                0                0  \n",
       "\n",
       "[5 rows x 52 columns]"
      ]
     },
     "execution_count": 24,
     "metadata": {},
     "output_type": "execute_result"
    }
   ],
   "source": [
    "df_dum.head()"
   ]
  },
  {
   "cell_type": "markdown",
   "metadata": {},
   "source": [
    "## train test split"
   ]
  },
  {
   "cell_type": "code",
   "execution_count": 25,
   "metadata": {},
   "outputs": [],
   "source": [
    "from sklearn.model_selection import train_test_split"
   ]
  },
  {
   "cell_type": "code",
   "execution_count": 26,
   "metadata": {},
   "outputs": [],
   "source": [
    "X = df_dum.drop(\"price\", axis=1)\n",
    "y = df_dum[\"price\"].values"
   ]
  },
  {
   "cell_type": "code",
   "execution_count": 27,
   "metadata": {},
   "outputs": [],
   "source": [
    "X_train, X_test, y_train, y_test = train_test_split(X, y, test_size=0.2, random_state=7)"
   ]
  },
  {
   "cell_type": "markdown",
   "metadata": {},
   "source": [
    "## multiple linear regression"
   ]
  },
  {
   "cell_type": "code",
   "execution_count": 28,
   "metadata": {},
   "outputs": [],
   "source": [
    "# Build Ordinary Least Square (OLS)\n",
    "import statsmodels.api as sm"
   ]
  },
  {
   "cell_type": "code",
   "execution_count": 29,
   "metadata": {},
   "outputs": [
    {
     "data": {
      "text/html": [
       "<table class=\"simpletable\">\n",
       "<caption>OLS Regression Results</caption>\n",
       "<tr>\n",
       "  <th>Dep. Variable:</th>            <td>y</td>        <th>  R-squared:         </th> <td>   0.906</td> \n",
       "</tr>\n",
       "<tr>\n",
       "  <th>Model:</th>                   <td>OLS</td>       <th>  Adj. R-squared:    </th> <td>   0.900</td> \n",
       "</tr>\n",
       "<tr>\n",
       "  <th>Method:</th>             <td>Least Squares</td>  <th>  F-statistic:       </th> <td>   144.9</td> \n",
       "</tr>\n",
       "<tr>\n",
       "  <th>Date:</th>             <td>Mon, 28 Dec 2020</td> <th>  Prob (F-statistic):</th> <td>5.19e-273</td>\n",
       "</tr>\n",
       "<tr>\n",
       "  <th>Time:</th>                 <td>17:11:39</td>     <th>  Log-Likelihood:    </th> <td> -5570.4</td> \n",
       "</tr>\n",
       "<tr>\n",
       "  <th>No. Observations:</th>      <td>   626</td>      <th>  AIC:               </th> <td>1.122e+04</td>\n",
       "</tr>\n",
       "<tr>\n",
       "  <th>Df Residuals:</th>          <td>   586</td>      <th>  BIC:               </th> <td>1.140e+04</td>\n",
       "</tr>\n",
       "<tr>\n",
       "  <th>Df Model:</th>              <td>    39</td>      <th>                     </th>     <td> </td>    \n",
       "</tr>\n",
       "<tr>\n",
       "  <th>Covariance Type:</th>      <td>nonrobust</td>    <th>                     </th>     <td> </td>    \n",
       "</tr>\n",
       "</table>\n",
       "<table class=\"simpletable\">\n",
       "<tr>\n",
       "                    <td></td>                       <th>coef</th>     <th>std err</th>      <th>t</th>      <th>P>|t|</th>  <th>[0.025</th>    <th>0.975]</th>  \n",
       "</tr>\n",
       "<tr>\n",
       "  <th>const</th>                                 <td> 4.838e+04</td> <td> 1.91e+05</td> <td>    0.253</td> <td> 0.800</td> <td>-3.27e+05</td> <td> 4.24e+05</td>\n",
       "</tr>\n",
       "<tr>\n",
       "  <th>BHP</th>                                   <td>   -1.2768</td> <td>    2.719</td> <td>   -0.470</td> <td> 0.639</td> <td>   -6.617</td> <td>    4.063</td>\n",
       "</tr>\n",
       "<tr>\n",
       "  <th>engine</th>                                <td> 3271.4169</td> <td>  309.112</td> <td>   10.583</td> <td> 0.000</td> <td> 2664.314</td> <td> 3878.520</td>\n",
       "</tr>\n",
       "<tr>\n",
       "  <th>mileage</th>                               <td>   -0.0698</td> <td>    0.006</td> <td>  -12.515</td> <td> 0.000</td> <td>   -0.081</td> <td>   -0.059</td>\n",
       "</tr>\n",
       "<tr>\n",
       "  <th>owners</th>                                <td>   95.7803</td> <td>  569.105</td> <td>    0.168</td> <td> 0.866</td> <td>-1021.953</td> <td> 1213.513</td>\n",
       "</tr>\n",
       "<tr>\n",
       "  <th>year</th>                                  <td>  -63.6410</td> <td>  283.125</td> <td>   -0.225</td> <td> 0.822</td> <td> -619.705</td> <td>  492.422</td>\n",
       "</tr>\n",
       "<tr>\n",
       "  <th>se</th>                                    <td>-2210.7769</td> <td>  332.398</td> <td>   -6.651</td> <td> 0.000</td> <td>-2863.614</td> <td>-1557.940</td>\n",
       "</tr>\n",
       "<tr>\n",
       "  <th>eco</th>                                   <td> 1124.4759</td> <td>  981.070</td> <td>    1.146</td> <td> 0.252</td> <td> -802.365</td> <td> 3051.316</td>\n",
       "</tr>\n",
       "<tr>\n",
       "  <th>sport</th>                                 <td>-1230.4350</td> <td>  213.531</td> <td>   -5.762</td> <td> 0.000</td> <td>-1649.815</td> <td> -811.055</td>\n",
       "</tr>\n",
       "<tr>\n",
       "  <th>m_sport</th>                               <td> 2726.2872</td> <td>  245.895</td> <td>   11.087</td> <td> 0.000</td> <td> 2243.345</td> <td> 3209.229</td>\n",
       "</tr>\n",
       "<tr>\n",
       "  <th>lux</th>                                   <td>-1166.3071</td> <td>  807.808</td> <td>   -1.444</td> <td> 0.149</td> <td>-2752.858</td> <td>  420.244</td>\n",
       "</tr>\n",
       "<tr>\n",
       "  <th>sat_nav</th>                               <td> -491.2462</td> <td>  256.259</td> <td>   -1.917</td> <td> 0.056</td> <td> -994.545</td> <td>   12.052</td>\n",
       "</tr>\n",
       "<tr>\n",
       "  <th>bluetooth</th>                             <td>  333.0545</td> <td>  433.210</td> <td>    0.769</td> <td> 0.442</td> <td> -517.778</td> <td> 1183.887</td>\n",
       "</tr>\n",
       "<tr>\n",
       "  <th>leather</th>                               <td> -830.6099</td> <td>  455.675</td> <td>   -1.823</td> <td> 0.069</td> <td>-1725.566</td> <td>   64.346</td>\n",
       "</tr>\n",
       "<tr>\n",
       "  <th>three_door</th>                            <td>  446.8255</td> <td>  842.388</td> <td>    0.530</td> <td> 0.596</td> <td>-1207.643</td> <td> 2101.294</td>\n",
       "</tr>\n",
       "<tr>\n",
       "  <th>name_len</th>                              <td>   23.1877</td> <td>    8.247</td> <td>    2.812</td> <td> 0.005</td> <td>    6.990</td> <td>   39.385</td>\n",
       "</tr>\n",
       "<tr>\n",
       "  <th>ULEZ_Non-ULEZ</th>                         <td> 2.365e+04</td> <td> 9.57e+04</td> <td>    0.247</td> <td> 0.805</td> <td>-1.64e+05</td> <td> 2.12e+05</td>\n",
       "</tr>\n",
       "<tr>\n",
       "  <th>ULEZ_ULEZ</th>                             <td> 2.473e+04</td> <td> 9.56e+04</td> <td>    0.259</td> <td> 0.796</td> <td>-1.63e+05</td> <td> 2.13e+05</td>\n",
       "</tr>\n",
       "<tr>\n",
       "  <th>body_Estate</th>                           <td>  1.76e+04</td> <td> 6.38e+04</td> <td>    0.276</td> <td> 0.783</td> <td>-1.08e+05</td> <td> 1.43e+05</td>\n",
       "</tr>\n",
       "<tr>\n",
       "  <th>body_Hatchback</th>                        <td> 1.505e+04</td> <td> 6.38e+04</td> <td>    0.236</td> <td> 0.814</td> <td> -1.1e+05</td> <td>  1.4e+05</td>\n",
       "</tr>\n",
       "<tr>\n",
       "  <th>body_Saloon</th>                           <td> 1.573e+04</td> <td> 6.38e+04</td> <td>    0.247</td> <td> 0.805</td> <td> -1.1e+05</td> <td> 1.41e+05</td>\n",
       "</tr>\n",
       "<tr>\n",
       "  <th>fuel_Diesel</th>                           <td> 3907.6702</td> <td> 3.87e+04</td> <td>    0.101</td> <td> 0.920</td> <td> -7.2e+04</td> <td> 7.98e+04</td>\n",
       "</tr>\n",
       "<tr>\n",
       "  <th>fuel_Hybrid – Diesel/Electric</th>         <td> 2.405e+04</td> <td> 3.87e+04</td> <td>    0.621</td> <td> 0.535</td> <td> -5.2e+04</td> <td>    1e+05</td>\n",
       "</tr>\n",
       "<tr>\n",
       "  <th>fuel_Hybrid – Petrol/Electric</th>         <td> 7555.3639</td> <td> 3.67e+04</td> <td>    0.206</td> <td> 0.837</td> <td>-6.45e+04</td> <td> 7.96e+04</td>\n",
       "</tr>\n",
       "<tr>\n",
       "  <th>fuel_Hybrid – Petrol/Electric Plug-in</th> <td> 7800.9023</td> <td> 3.87e+04</td> <td>    0.202</td> <td> 0.840</td> <td>-6.81e+04</td> <td> 8.37e+04</td>\n",
       "</tr>\n",
       "<tr>\n",
       "  <th>fuel_Petrol</th>                           <td> 5066.2631</td> <td> 3.87e+04</td> <td>    0.131</td> <td> 0.896</td> <td>-7.09e+04</td> <td>  8.1e+04</td>\n",
       "</tr>\n",
       "<tr>\n",
       "  <th>transmission_Automatic</th>                <td> 2.483e+04</td> <td> 9.57e+04</td> <td>    0.260</td> <td> 0.795</td> <td>-1.63e+05</td> <td> 2.13e+05</td>\n",
       "</tr>\n",
       "<tr>\n",
       "  <th>transmission_Manual</th>                   <td> 2.355e+04</td> <td> 9.57e+04</td> <td>    0.246</td> <td> 0.806</td> <td>-1.64e+05</td> <td> 2.11e+05</td>\n",
       "</tr>\n",
       "<tr>\n",
       "  <th>make_Audi</th>                             <td> 1.084e+04</td> <td> 3.57e+04</td> <td>    0.304</td> <td> 0.761</td> <td>-5.92e+04</td> <td> 8.09e+04</td>\n",
       "</tr>\n",
       "<tr>\n",
       "  <th>make_BMW</th>                              <td> 1.445e+04</td> <td> 4.76e+04</td> <td>    0.304</td> <td> 0.761</td> <td> -7.9e+04</td> <td> 1.08e+05</td>\n",
       "</tr>\n",
       "<tr>\n",
       "  <th>make_Fiat</th>                             <td> 6477.5278</td> <td> 3.57e+04</td> <td>    0.181</td> <td> 0.856</td> <td>-6.36e+04</td> <td> 7.66e+04</td>\n",
       "</tr>\n",
       "<tr>\n",
       "  <th>make_Lexus</th>                            <td> 7555.3639</td> <td> 3.67e+04</td> <td>    0.206</td> <td> 0.837</td> <td>-6.45e+04</td> <td> 7.96e+04</td>\n",
       "</tr>\n",
       "<tr>\n",
       "  <th>make_Mazda</th>                            <td> 9062.7713</td> <td> 3.57e+04</td> <td>    0.254</td> <td> 0.800</td> <td> -6.1e+04</td> <td> 7.91e+04</td>\n",
       "</tr>\n",
       "<tr>\n",
       "  <th>model_1</th>                               <td> 7159.8762</td> <td> 2.38e+04</td> <td>    0.301</td> <td> 0.764</td> <td>-3.96e+04</td> <td> 5.39e+04</td>\n",
       "</tr>\n",
       "<tr>\n",
       "  <th>model_500</th>                             <td> 6477.5278</td> <td> 3.57e+04</td> <td>    0.181</td> <td> 0.856</td> <td>-6.36e+04</td> <td> 7.66e+04</td>\n",
       "</tr>\n",
       "<tr>\n",
       "  <th>model_A3</th>                              <td> 1.084e+04</td> <td> 3.57e+04</td> <td>    0.304</td> <td> 0.761</td> <td>-5.92e+04</td> <td> 8.09e+04</td>\n",
       "</tr>\n",
       "<tr>\n",
       "  <th>model_BMW3</th>                            <td> 7290.4604</td> <td> 2.38e+04</td> <td>    0.306</td> <td> 0.759</td> <td>-3.95e+04</td> <td>  5.4e+04</td>\n",
       "</tr>\n",
       "<tr>\n",
       "  <th>model_CT</th>                              <td> 7555.3639</td> <td> 3.67e+04</td> <td>    0.206</td> <td> 0.837</td> <td>-6.45e+04</td> <td> 7.96e+04</td>\n",
       "</tr>\n",
       "<tr>\n",
       "  <th>model_Mazda3</th>                          <td> 9062.7713</td> <td> 3.57e+04</td> <td>    0.254</td> <td> 0.800</td> <td> -6.1e+04</td> <td> 7.91e+04</td>\n",
       "</tr>\n",
       "<tr>\n",
       "  <th>year_reg_15 reg</th>                       <td>  247.3734</td> <td>  1.4e+04</td> <td>    0.018</td> <td> 0.986</td> <td>-2.73e+04</td> <td> 2.78e+04</td>\n",
       "</tr>\n",
       "<tr>\n",
       "  <th>year_reg_16 reg</th>                       <td>  710.6180</td> <td> 1.43e+04</td> <td>    0.050</td> <td> 0.960</td> <td>-2.74e+04</td> <td> 2.89e+04</td>\n",
       "</tr>\n",
       "<tr>\n",
       "  <th>year_reg_17 reg</th>                       <td> 1631.0653</td> <td> 1.46e+04</td> <td>    0.112</td> <td> 0.911</td> <td>-2.71e+04</td> <td> 3.03e+04</td>\n",
       "</tr>\n",
       "<tr>\n",
       "  <th>year_reg_18 reg</th>                       <td> 2925.1546</td> <td> 1.49e+04</td> <td>    0.196</td> <td> 0.844</td> <td>-2.63e+04</td> <td> 3.22e+04</td>\n",
       "</tr>\n",
       "<tr>\n",
       "  <th>year_reg_19 reg</th>                       <td> 5590.1101</td> <td> 1.52e+04</td> <td>    0.368</td> <td> 0.713</td> <td>-2.42e+04</td> <td> 3.54e+04</td>\n",
       "</tr>\n",
       "<tr>\n",
       "  <th>year_reg_20 reg</th>                       <td> 1.086e+04</td> <td> 1.55e+04</td> <td>    0.702</td> <td> 0.483</td> <td>-1.95e+04</td> <td> 4.12e+04</td>\n",
       "</tr>\n",
       "<tr>\n",
       "  <th>year_reg_64 reg</th>                       <td>-1395.6620</td> <td> 1.42e+04</td> <td>   -0.099</td> <td> 0.922</td> <td>-2.92e+04</td> <td> 2.64e+04</td>\n",
       "</tr>\n",
       "<tr>\n",
       "  <th>year_reg_65 reg</th>                       <td>  725.0799</td> <td> 1.41e+04</td> <td>    0.051</td> <td> 0.959</td> <td> -2.7e+04</td> <td> 2.84e+04</td>\n",
       "</tr>\n",
       "<tr>\n",
       "  <th>year_reg_66 reg</th>                       <td> 1316.9959</td> <td> 1.44e+04</td> <td>    0.091</td> <td> 0.927</td> <td> -2.7e+04</td> <td> 2.96e+04</td>\n",
       "</tr>\n",
       "<tr>\n",
       "  <th>year_reg_67 reg</th>                       <td> 2344.9949</td> <td> 1.46e+04</td> <td>    0.160</td> <td> 0.873</td> <td>-2.64e+04</td> <td> 3.11e+04</td>\n",
       "</tr>\n",
       "<tr>\n",
       "  <th>year_reg_68 reg</th>                       <td> 4058.5040</td> <td> 1.49e+04</td> <td>    0.272</td> <td> 0.786</td> <td>-2.53e+04</td> <td> 3.34e+04</td>\n",
       "</tr>\n",
       "<tr>\n",
       "  <th>year_reg_69 reg</th>                       <td> 7683.6253</td> <td> 1.53e+04</td> <td>    0.504</td> <td> 0.615</td> <td>-2.23e+04</td> <td> 3.76e+04</td>\n",
       "</tr>\n",
       "<tr>\n",
       "  <th>year_reg_70 reg</th>                       <td> 1.169e+04</td> <td> 1.55e+04</td> <td>    0.756</td> <td> 0.450</td> <td>-1.87e+04</td> <td>  4.2e+04</td>\n",
       "</tr>\n",
       "</table>\n",
       "<table class=\"simpletable\">\n",
       "<tr>\n",
       "  <th>Omnibus:</th>       <td>170.956</td> <th>  Durbin-Watson:     </th> <td>   1.239</td> \n",
       "</tr>\n",
       "<tr>\n",
       "  <th>Prob(Omnibus):</th> <td> 0.000</td>  <th>  Jarque-Bera (JB):  </th> <td> 872.156</td> \n",
       "</tr>\n",
       "<tr>\n",
       "  <th>Skew:</th>          <td> 1.122</td>  <th>  Prob(JB):          </th> <td>4.11e-190</td>\n",
       "</tr>\n",
       "<tr>\n",
       "  <th>Kurtosis:</th>      <td> 8.329</td>  <th>  Cond. No.          </th> <td>1.21e+16</td> \n",
       "</tr>\n",
       "</table><br/><br/>Warnings:<br/>[1] Standard Errors assume that the covariance matrix of the errors is correctly specified.<br/>[2] The smallest eigenvalue is 4.63e-21. This might indicate that there are<br/>strong multicollinearity problems or that the design matrix is singular."
      ],
      "text/plain": [
       "<class 'statsmodels.iolib.summary.Summary'>\n",
       "\"\"\"\n",
       "                            OLS Regression Results                            \n",
       "==============================================================================\n",
       "Dep. Variable:                      y   R-squared:                       0.906\n",
       "Model:                            OLS   Adj. R-squared:                  0.900\n",
       "Method:                 Least Squares   F-statistic:                     144.9\n",
       "Date:                Mon, 28 Dec 2020   Prob (F-statistic):          5.19e-273\n",
       "Time:                        17:11:39   Log-Likelihood:                -5570.4\n",
       "No. Observations:                 626   AIC:                         1.122e+04\n",
       "Df Residuals:                     586   BIC:                         1.140e+04\n",
       "Df Model:                          39                                         \n",
       "Covariance Type:            nonrobust                                         \n",
       "=========================================================================================================\n",
       "                                            coef    std err          t      P>|t|      [0.025      0.975]\n",
       "---------------------------------------------------------------------------------------------------------\n",
       "const                                  4.838e+04   1.91e+05      0.253      0.800   -3.27e+05    4.24e+05\n",
       "BHP                                      -1.2768      2.719     -0.470      0.639      -6.617       4.063\n",
       "engine                                 3271.4169    309.112     10.583      0.000    2664.314    3878.520\n",
       "mileage                                  -0.0698      0.006    -12.515      0.000      -0.081      -0.059\n",
       "owners                                   95.7803    569.105      0.168      0.866   -1021.953    1213.513\n",
       "year                                    -63.6410    283.125     -0.225      0.822    -619.705     492.422\n",
       "se                                    -2210.7769    332.398     -6.651      0.000   -2863.614   -1557.940\n",
       "eco                                    1124.4759    981.070      1.146      0.252    -802.365    3051.316\n",
       "sport                                 -1230.4350    213.531     -5.762      0.000   -1649.815    -811.055\n",
       "m_sport                                2726.2872    245.895     11.087      0.000    2243.345    3209.229\n",
       "lux                                   -1166.3071    807.808     -1.444      0.149   -2752.858     420.244\n",
       "sat_nav                                -491.2462    256.259     -1.917      0.056    -994.545      12.052\n",
       "bluetooth                               333.0545    433.210      0.769      0.442    -517.778    1183.887\n",
       "leather                                -830.6099    455.675     -1.823      0.069   -1725.566      64.346\n",
       "three_door                              446.8255    842.388      0.530      0.596   -1207.643    2101.294\n",
       "name_len                                 23.1877      8.247      2.812      0.005       6.990      39.385\n",
       "ULEZ_Non-ULEZ                          2.365e+04   9.57e+04      0.247      0.805   -1.64e+05    2.12e+05\n",
       "ULEZ_ULEZ                              2.473e+04   9.56e+04      0.259      0.796   -1.63e+05    2.13e+05\n",
       "body_Estate                             1.76e+04   6.38e+04      0.276      0.783   -1.08e+05    1.43e+05\n",
       "body_Hatchback                         1.505e+04   6.38e+04      0.236      0.814    -1.1e+05     1.4e+05\n",
       "body_Saloon                            1.573e+04   6.38e+04      0.247      0.805    -1.1e+05    1.41e+05\n",
       "fuel_Diesel                            3907.6702   3.87e+04      0.101      0.920    -7.2e+04    7.98e+04\n",
       "fuel_Hybrid – Diesel/Electric          2.405e+04   3.87e+04      0.621      0.535    -5.2e+04       1e+05\n",
       "fuel_Hybrid – Petrol/Electric          7555.3639   3.67e+04      0.206      0.837   -6.45e+04    7.96e+04\n",
       "fuel_Hybrid – Petrol/Electric Plug-in  7800.9023   3.87e+04      0.202      0.840   -6.81e+04    8.37e+04\n",
       "fuel_Petrol                            5066.2631   3.87e+04      0.131      0.896   -7.09e+04     8.1e+04\n",
       "transmission_Automatic                 2.483e+04   9.57e+04      0.260      0.795   -1.63e+05    2.13e+05\n",
       "transmission_Manual                    2.355e+04   9.57e+04      0.246      0.806   -1.64e+05    2.11e+05\n",
       "make_Audi                              1.084e+04   3.57e+04      0.304      0.761   -5.92e+04    8.09e+04\n",
       "make_BMW                               1.445e+04   4.76e+04      0.304      0.761    -7.9e+04    1.08e+05\n",
       "make_Fiat                              6477.5278   3.57e+04      0.181      0.856   -6.36e+04    7.66e+04\n",
       "make_Lexus                             7555.3639   3.67e+04      0.206      0.837   -6.45e+04    7.96e+04\n",
       "make_Mazda                             9062.7713   3.57e+04      0.254      0.800    -6.1e+04    7.91e+04\n",
       "model_1                                7159.8762   2.38e+04      0.301      0.764   -3.96e+04    5.39e+04\n",
       "model_500                              6477.5278   3.57e+04      0.181      0.856   -6.36e+04    7.66e+04\n",
       "model_A3                               1.084e+04   3.57e+04      0.304      0.761   -5.92e+04    8.09e+04\n",
       "model_BMW3                             7290.4604   2.38e+04      0.306      0.759   -3.95e+04     5.4e+04\n",
       "model_CT                               7555.3639   3.67e+04      0.206      0.837   -6.45e+04    7.96e+04\n",
       "model_Mazda3                           9062.7713   3.57e+04      0.254      0.800    -6.1e+04    7.91e+04\n",
       "year_reg_15 reg                         247.3734    1.4e+04      0.018      0.986   -2.73e+04    2.78e+04\n",
       "year_reg_16 reg                         710.6180   1.43e+04      0.050      0.960   -2.74e+04    2.89e+04\n",
       "year_reg_17 reg                        1631.0653   1.46e+04      0.112      0.911   -2.71e+04    3.03e+04\n",
       "year_reg_18 reg                        2925.1546   1.49e+04      0.196      0.844   -2.63e+04    3.22e+04\n",
       "year_reg_19 reg                        5590.1101   1.52e+04      0.368      0.713   -2.42e+04    3.54e+04\n",
       "year_reg_20 reg                        1.086e+04   1.55e+04      0.702      0.483   -1.95e+04    4.12e+04\n",
       "year_reg_64 reg                       -1395.6620   1.42e+04     -0.099      0.922   -2.92e+04    2.64e+04\n",
       "year_reg_65 reg                         725.0799   1.41e+04      0.051      0.959    -2.7e+04    2.84e+04\n",
       "year_reg_66 reg                        1316.9959   1.44e+04      0.091      0.927    -2.7e+04    2.96e+04\n",
       "year_reg_67 reg                        2344.9949   1.46e+04      0.160      0.873   -2.64e+04    3.11e+04\n",
       "year_reg_68 reg                        4058.5040   1.49e+04      0.272      0.786   -2.53e+04    3.34e+04\n",
       "year_reg_69 reg                        7683.6253   1.53e+04      0.504      0.615   -2.23e+04    3.76e+04\n",
       "year_reg_70 reg                        1.169e+04   1.55e+04      0.756      0.450   -1.87e+04     4.2e+04\n",
       "==============================================================================\n",
       "Omnibus:                      170.956   Durbin-Watson:                   1.239\n",
       "Prob(Omnibus):                  0.000   Jarque-Bera (JB):              872.156\n",
       "Skew:                           1.122   Prob(JB):                    4.11e-190\n",
       "Kurtosis:                       8.329   Cond. No.                     1.21e+16\n",
       "==============================================================================\n",
       "\n",
       "Warnings:\n",
       "[1] Standard Errors assume that the covariance matrix of the errors is correctly specified.\n",
       "[2] The smallest eigenvalue is 4.63e-21. This might indicate that there are\n",
       "strong multicollinearity problems or that the design matrix is singular.\n",
       "\"\"\""
      ]
     },
     "execution_count": 29,
     "metadata": {},
     "output_type": "execute_result"
    }
   ],
   "source": [
    "X_sm = sm.add_constant(X)\n",
    "model = sm.OLS(y, X_sm)\n",
    "model.fit().summary()"
   ]
  },
  {
   "cell_type": "code",
   "execution_count": 31,
   "metadata": {},
   "outputs": [],
   "source": [
    "# Build linear regression model\n",
    "from sklearn.linear_model import LinearRegression\n",
    "from sklearn.model_selection import cross_val_score"
   ]
  },
  {
   "cell_type": "code",
   "execution_count": 35,
   "metadata": {},
   "outputs": [
    {
     "data": {
      "text/plain": [
       "-1414.9359076167216"
      ]
     },
     "execution_count": 35,
     "metadata": {},
     "output_type": "execute_result"
    }
   ],
   "source": [
    "lm = LinearRegression()\n",
    "lm.fit(X_train, y_train)\n",
    "\n",
    "np.mean(cross_val_score(lm, X_train, y_train, scoring = \"neg_mean_absolute_error\", cv=5))"
   ]
  },
  {
   "cell_type": "markdown",
   "metadata": {},
   "source": [
    "## lasso regression"
   ]
  },
  {
   "cell_type": "code",
   "execution_count": 36,
   "metadata": {},
   "outputs": [],
   "source": [
    "# Build linear regression model with L1 regularization\n",
    "from sklearn.linear_model import Lasso"
   ]
  },
  {
   "cell_type": "code",
   "execution_count": 37,
   "metadata": {},
   "outputs": [
    {
     "data": {
      "text/plain": [
       "-1404.8027511776872"
      ]
     },
     "execution_count": 37,
     "metadata": {},
     "output_type": "execute_result"
    }
   ],
   "source": [
    "lm_lasso = Lasso()\n",
    "lm_lasso.fit(X_train, y_train)\n",
    "\n",
    "np.mean(cross_val_score(lm_lasso, X_train, y_train, scoring = \"neg_mean_absolute_error\", cv=5))"
   ]
  },
  {
   "cell_type": "code",
   "execution_count": 62,
   "metadata": {},
   "outputs": [
    {
     "data": {
      "text/plain": [
       "[<matplotlib.lines.Line2D at 0x2986e800860>]"
      ]
     },
     "execution_count": 62,
     "metadata": {},
     "output_type": "execute_result"
    },
    {
     "data": {
      "image/png": "[encoded data removed]",
      "text/plain": [
       "<Figure size 432x288 with 1 Axes>"
      ]
     },
     "metadata": {
      "needs_background": "light"
     },
     "output_type": "display_data"
    }
   ],
   "source": [
    "# tune the model for the optimisation alpha\n",
    "alpha = []\n",
    "error = []\n",
    "\n",
    "for a in np.linspace(1,10,30):\n",
    "    alpha.append(a)\n",
    "    lm_lasso_tune = Lasso(alpha=a)\n",
    "    error.append(np.mean(cross_val_score(lm_lasso_tune, X_train, y_train, scoring = \"neg_mean_absolute_error\", cv=3)))\n",
    "\n",
    "plt.plot(alpha,error)"
   ]
  },
  {
   "cell_type": "code",
   "execution_count": 64,
   "metadata": {},
   "outputs": [
    {
     "data": {
      "text/html": [
       "<div>\n",
       "<style scoped>\n",
       "    .dataframe tbody tr th:only-of-type {\n",
       "        vertical-align: middle;\n",
       "    }\n",
       "\n",
       "    .dataframe tbody tr th {\n",
       "        vertical-align: top;\n",
       "    }\n",
       "\n",
       "    .dataframe thead th {\n",
       "        text-align: right;\n",
       "    }\n",
       "</style>\n",
       "<table border=\"1\" class=\"dataframe\">\n",
       "  <thead>\n",
       "    <tr style=\"text-align: right;\">\n",
       "      <th></th>\n",
       "      <th>alpha</th>\n",
       "      <th>error</th>\n",
       "    </tr>\n",
       "  </thead>\n",
       "  <tbody>\n",
       "    <tr>\n",
       "      <th>14</th>\n",
       "      <td>5.344828</td>\n",
       "      <td>-1398.860621</td>\n",
       "    </tr>\n",
       "  </tbody>\n",
       "</table>\n",
       "</div>"
      ],
      "text/plain": [
       "       alpha        error\n",
       "14  5.344828 -1398.860621"
      ]
     },
     "execution_count": 64,
     "metadata": {},
     "output_type": "execute_result"
    }
   ],
   "source": [
    "# find alpha value with minimum mean absolute error\n",
    "err = list(zip(alpha,error))\n",
    "df_err = pd.DataFrame(err, columns=[\"alpha\",\"error\"])\n",
    "df_err[df_err.error == np.max(df_err.error)]"
   ]
  },
  {
   "cell_type": "code",
   "execution_count": 80,
   "metadata": {},
   "outputs": [
    {
     "data": {
      "text/plain": [
       "-1398.8606213989249"
      ]
     },
     "execution_count": 80,
     "metadata": {},
     "output_type": "execute_result"
    }
   ],
   "source": [
    "lm_lasso = Lasso(alpha=5.344828)\n",
    "lm_lasso.fit(X_train, y_train)\n",
    "np.mean(cross_val_score(lm_lasso, X_train, y_train, scoring = \"neg_mean_absolute_error\", cv=3))"
   ]
  },
  {
   "cell_type": "markdown",
   "metadata": {},
   "source": [
    "## RandomForestRegressor"
   ]
  },
  {
   "cell_type": "code",
   "execution_count": 68,
   "metadata": {},
   "outputs": [
    {
     "data": {
      "text/plain": [
       "array([-1220.2691018 , -1322.80113772, -1196.45686747])"
      ]
     },
     "execution_count": 68,
     "metadata": {},
     "output_type": "execute_result"
    }
   ],
   "source": [
    "# build a random forest model\n",
    "from sklearn.ensemble import RandomForestRegressor\n",
    "rf = RandomForestRegressor(n_estimators=100)\n",
    "\n",
    "cross_val_score(rf, X_train, y_train, scoring = \"neg_mean_absolute_error\", cv=3)"
   ]
  },
  {
   "cell_type": "markdown",
   "metadata": {},
   "source": [
    "## hyperparameter tuning"
   ]
  },
  {
   "cell_type": "code",
   "execution_count": 71,
   "metadata": {},
   "outputs": [
    {
     "name": "stderr",
     "output_type": "stream",
     "text": [
      "D:\\Apps\\Anaconda\\lib\\site-packages\\sklearn\\model_selection\\_search.py:841: DeprecationWarning: The default of the `iid` parameter will change from True to False in version 0.22 and will be removed in 0.24. This will change numeric results when test-set sizes are unequal.\n",
      "  DeprecationWarning)\n"
     ]
    },
    {
     "data": {
      "text/plain": [
       "GridSearchCV(cv=3, error_score='raise-deprecating',\n",
       "       estimator=RandomForestRegressor(bootstrap=True, criterion='mse', max_depth=None,\n",
       "           max_features='auto', max_leaf_nodes=None,\n",
       "           min_impurity_decrease=0.0, min_impurity_split=None,\n",
       "           min_samples_leaf=1, min_samples_split=2,\n",
       "           min_weight_fraction_leaf=0.0, n_estimators=100, n_jobs=None,\n",
       "           oob_score=False, random_state=None, verbose=0, warm_start=False),\n",
       "       fit_params=None, iid='warn', n_jobs=None,\n",
       "       param_grid={'n_estimators': range(10, 300, 10), 'criterion': ['mse', 'mae'], 'max_features': ['auto', 'sqrt', 'log2']},\n",
       "       pre_dispatch='2*n_jobs', refit=True, return_train_score='warn',\n",
       "       scoring='neg_mean_absolute_error', verbose=0)"
      ]
     },
     "execution_count": 71,
     "metadata": {},
     "output_type": "execute_result"
    }
   ],
   "source": [
    "# tuning using GridSearchCV\n",
    "from sklearn.model_selection import GridSearchCV\n",
    "\n",
    "params = {\"n_estimators\": range(10,300,10),\n",
    "          \"criterion\":[\"mse\", \"mae\"],\n",
    "          \"max_features\":[\"auto\", \"sqrt\", \"log2\"]}\n",
    "\n",
    "gs = GridSearchCV(rf, params, scoring=\"neg_mean_absolute_error\", cv=3)\n",
    "gs.fit(X_train, y_train)"
   ]
  },
  {
   "cell_type": "code",
   "execution_count": 72,
   "metadata": {},
   "outputs": [
    {
     "data": {
      "text/plain": [
       "-1237.3833795918367"
      ]
     },
     "execution_count": 72,
     "metadata": {},
     "output_type": "execute_result"
    }
   ],
   "source": [
    "gs.best_score_"
   ]
  },
  {
   "cell_type": "code",
   "execution_count": 73,
   "metadata": {},
   "outputs": [
    {
     "data": {
      "text/plain": [
       "{'criterion': 'mse', 'max_features': 'auto', 'n_estimators': 70}"
      ]
     },
     "execution_count": 73,
     "metadata": {},
     "output_type": "execute_result"
    }
   ],
   "source": [
    "gs.best_params_"
   ]
  },
  {
   "cell_type": "markdown",
   "metadata": {},
   "source": [
    "## test ensembles"
   ]
  },
  {
   "cell_type": "code",
   "execution_count": 82,
   "metadata": {},
   "outputs": [],
   "source": [
    "# predict prices on test set\n",
    "pred_lm = lm.predict(X_test)\n",
    "pred_lm_lasso = lm_lasso.predict(X_test)\n",
    "pred_rf = gs.best_estimator_.predict(X_test)"
   ]
  },
  {
   "cell_type": "code",
   "execution_count": 83,
   "metadata": {},
   "outputs": [
    {
     "data": {
      "text/plain": [
       "{'Linear Regression': 1388.0480816788738,\n",
       " 'Lasso Regression': 1351.0519991933188,\n",
       " 'RandomForestRegressor': 1062.2834467120183}"
      ]
     },
     "execution_count": 83,
     "metadata": {},
     "output_type": "execute_result"
    }
   ],
   "source": [
    "from sklearn.metrics import mean_absolute_error\n",
    "valuation = {\"Linear Regression\": mean_absolute_error(y_test, pred_lm),\n",
    "             \"Lasso Regression\": mean_absolute_error(y_test, pred_lm_lasso),\n",
    "             \"RandomForestRegressor\": mean_absolute_error(y_test, pred_rf)}\n",
    "valuation"
   ]
  },
  {
   "cell_type": "markdown",
   "metadata": {},
   "source": [
    "# Deploy the model into production"
   ]
  },
  {
   "cell_type": "code",
   "execution_count": 85,
   "metadata": {},
   "outputs": [],
   "source": [
    "# pickle the model\n",
    "import pickle\n",
    "auto_estimator = {'model': gs.best_estimator_}\n",
    "pickle.dump(auto_estimator, open('model_file' + \".p\", \"wb\"))"
   ]
  },
  {
   "cell_type": "code",
   "execution_count": 96,
   "metadata": {},
   "outputs": [
    {
     "data": {
      "text/plain": [
       "array([17593.42857143])"
      ]
     },
     "execution_count": 96,
     "metadata": {},
     "output_type": "execute_result"
    }
   ],
   "source": [
    "# test the pickled model for prediction\n",
    "\n",
    "file_name = \"model_file.p\"\n",
    "with open(file_name, 'rb') as pickled:\n",
    "    data = pickle.load(pickled)\n",
    "    model = data['model']\n",
    "\n",
    "model.predict(X_test.iloc[1,:].values.reshape(1,-1))"
   ]
  },
  {
   "cell_type": "code",
   "execution_count": 98,
   "metadata": {},
   "outputs": [
    {
     "data": {
      "text/plain": [
       "[148.0,\n",
       " 1.5,\n",
       " 22115.0,\n",
       " 2.0,\n",
       " 2018.0,\n",
       " 0.0,\n",
       " 0.0,\n",
       " 0.0,\n",
       " 0.0,\n",
       " 0.0,\n",
       " 0.0,\n",
       " 0.0,\n",
       " 0.0,\n",
       " 0.0,\n",
       " 32.0,\n",
       " 0.0,\n",
       " 1.0,\n",
       " 0.0,\n",
       " 1.0,\n",
       " 0.0,\n",
       " 0.0,\n",
       " 0.0,\n",
       " 0.0,\n",
       " 0.0,\n",
       " 1.0,\n",
       " 0.0,\n",
       " 1.0,\n",
       " 1.0,\n",
       " 0.0,\n",
       " 0.0,\n",
       " 0.0,\n",
       " 0.0,\n",
       " 0.0,\n",
       " 0.0,\n",
       " 1.0,\n",
       " 0.0,\n",
       " 0.0,\n",
       " 0.0,\n",
       " 0.0,\n",
       " 0.0,\n",
       " 0.0,\n",
       " 1.0,\n",
       " 0.0,\n",
       " 0.0,\n",
       " 0.0,\n",
       " 0.0,\n",
       " 0.0,\n",
       " 0.0,\n",
       " 0.0,\n",
       " 0.0,\n",
       " 0.0]"
      ]
     },
     "execution_count": 98,
     "metadata": {},
     "output_type": "execute_result"
    }
   ],
   "source": [
    "list(X_test.iloc[1,:])"
   ]
  },
  {
   "cell_type": "code",
   "execution_count": null,
   "metadata": {},
   "outputs": [],
   "source": []
  }
 ],
 "metadata": {
  "kernelspec": {
   "display_name": "Python 3",
   "language": "python",
   "name": "python3"
  },
  "language_info": {
   "codemirror_mode": {
    "name": "ipython",
    "version": 3
   },
   "file_extension": ".py",
   "mimetype": "text/x-python",
   "name": "python",
   "nbconvert_exporter": "python",
   "pygments_lexer": "ipython3",
   "version": "3.7.3"
  }
 },
 "nbformat": 4,
 "nbformat_minor": 2
}
