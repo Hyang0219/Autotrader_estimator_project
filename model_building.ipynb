{
 "cells": [
  {
   "cell_type": "markdown",
   "metadata": {},
   "source": [
    "# Build and test the model for predicting the resale price of a second-hand car in the UK"
   ]
  },
  {
   "cell_type": "code",
   "execution_count": 1,
   "metadata": {},
   "outputs": [],
   "source": [
    "import pandas as pd\n",
    "import matplotlib.pyplot as plt\n",
    "import numpy as np"
   ]
  },
  {
   "cell_type": "code",
   "execution_count": 2,
   "metadata": {},
   "outputs": [],
   "source": [
    "df = pd.read_csv(\"autotrader_prices_eda.csv\")"
   ]
  },
  {
   "cell_type": "markdown",
   "metadata": {},
   "source": [
    "## choose relevant columns"
   ]
  },
  {
   "cell_type": "code",
   "execution_count": 3,
   "metadata": {},
   "outputs": [],
   "source": [
    "# Define numerical and categorical features\n",
    "numerical_features = []\n",
    "categorical_features = []\n",
    "\n",
    "for feature, content in df.items():\n",
    "    if pd.api.types.is_numeric_dtype(content):\n",
    "        numerical_features.append(feature)\n",
    "    else:\n",
    "        categorical_features.append(feature)"
   ]
  },
  {
   "cell_type": "code",
   "execution_count": 4,
   "metadata": {},
   "outputs": [
    {
     "data": {
      "text/plain": [
       "['ULEZ', 'body', 'fuel', 'transmission', 'year_reg', 'make', 'model']"
      ]
     },
     "execution_count": 4,
     "metadata": {},
     "output_type": "execute_result"
    }
   ],
   "source": [
    "categorical_features"
   ]
  },
  {
   "cell_type": "code",
   "execution_count": 5,
   "metadata": {},
   "outputs": [
    {
     "data": {
      "text/html": [
       "<div>\n",
       "<style scoped>\n",
       "    .dataframe tbody tr th:only-of-type {\n",
       "        vertical-align: middle;\n",
       "    }\n",
       "\n",
       "    .dataframe tbody tr th {\n",
       "        vertical-align: top;\n",
       "    }\n",
       "\n",
       "    .dataframe thead th {\n",
       "        text-align: right;\n",
       "    }\n",
       "</style>\n",
       "<table border=\"1\" class=\"dataframe\">\n",
       "  <thead>\n",
       "    <tr style=\"text-align: right;\">\n",
       "      <th></th>\n",
       "      <th>BHP</th>\n",
       "      <th>ULEZ</th>\n",
       "      <th>body</th>\n",
       "      <th>engine</th>\n",
       "      <th>fuel</th>\n",
       "      <th>mileage</th>\n",
       "      <th>owners</th>\n",
       "      <th>price</th>\n",
       "      <th>transmission</th>\n",
       "      <th>year</th>\n",
       "      <th>...</th>\n",
       "      <th>performance</th>\n",
       "      <th>2dr</th>\n",
       "      <th>3dr</th>\n",
       "      <th>4dr</th>\n",
       "      <th>5dr</th>\n",
       "      <th>dsg</th>\n",
       "      <th>speed</th>\n",
       "      <th>gti</th>\n",
       "      <th>gtd</th>\n",
       "      <th>gte</th>\n",
       "    </tr>\n",
       "  </thead>\n",
       "  <tbody>\n",
       "    <tr>\n",
       "      <th>0</th>\n",
       "      <td>123.0</td>\n",
       "      <td>ULEZ</td>\n",
       "      <td>Hatchback</td>\n",
       "      <td>1.4</td>\n",
       "      <td>Petrol</td>\n",
       "      <td>34414</td>\n",
       "      <td>2.0</td>\n",
       "      <td>9980</td>\n",
       "      <td>Manual</td>\n",
       "      <td>2017</td>\n",
       "      <td>...</td>\n",
       "      <td>0</td>\n",
       "      <td>0</td>\n",
       "      <td>0</td>\n",
       "      <td>0</td>\n",
       "      <td>0</td>\n",
       "      <td>0</td>\n",
       "      <td>0</td>\n",
       "      <td>0</td>\n",
       "      <td>0</td>\n",
       "      <td>0</td>\n",
       "    </tr>\n",
       "    <tr>\n",
       "      <th>1</th>\n",
       "      <td>114.0</td>\n",
       "      <td>ULEZ</td>\n",
       "      <td>Hatchback</td>\n",
       "      <td>1.4</td>\n",
       "      <td>Petrol</td>\n",
       "      <td>16773</td>\n",
       "      <td>2.0</td>\n",
       "      <td>11500</td>\n",
       "      <td>Manual</td>\n",
       "      <td>2017</td>\n",
       "      <td>...</td>\n",
       "      <td>0</td>\n",
       "      <td>0</td>\n",
       "      <td>1</td>\n",
       "      <td>0</td>\n",
       "      <td>0</td>\n",
       "      <td>0</td>\n",
       "      <td>0</td>\n",
       "      <td>0</td>\n",
       "      <td>0</td>\n",
       "      <td>0</td>\n",
       "    </tr>\n",
       "    <tr>\n",
       "      <th>2</th>\n",
       "      <td>114.0</td>\n",
       "      <td>ULEZ</td>\n",
       "      <td>Hatchback</td>\n",
       "      <td>1.6</td>\n",
       "      <td>Diesel</td>\n",
       "      <td>76922</td>\n",
       "      <td>2.0</td>\n",
       "      <td>8599</td>\n",
       "      <td>Manual</td>\n",
       "      <td>2017</td>\n",
       "      <td>...</td>\n",
       "      <td>0</td>\n",
       "      <td>0</td>\n",
       "      <td>0</td>\n",
       "      <td>0</td>\n",
       "      <td>0</td>\n",
       "      <td>0</td>\n",
       "      <td>0</td>\n",
       "      <td>0</td>\n",
       "      <td>0</td>\n",
       "      <td>0</td>\n",
       "    </tr>\n",
       "    <tr>\n",
       "      <th>3</th>\n",
       "      <td>114.0</td>\n",
       "      <td>ULEZ</td>\n",
       "      <td>Hatchback</td>\n",
       "      <td>1.4</td>\n",
       "      <td>Petrol</td>\n",
       "      <td>10950</td>\n",
       "      <td>2.0</td>\n",
       "      <td>12174</td>\n",
       "      <td>Manual</td>\n",
       "      <td>2017</td>\n",
       "      <td>...</td>\n",
       "      <td>0</td>\n",
       "      <td>0</td>\n",
       "      <td>0</td>\n",
       "      <td>0</td>\n",
       "      <td>1</td>\n",
       "      <td>0</td>\n",
       "      <td>0</td>\n",
       "      <td>0</td>\n",
       "      <td>0</td>\n",
       "      <td>0</td>\n",
       "    </tr>\n",
       "    <tr>\n",
       "      <th>4</th>\n",
       "      <td>114.0</td>\n",
       "      <td>ULEZ</td>\n",
       "      <td>Hatchback</td>\n",
       "      <td>1.6</td>\n",
       "      <td>Diesel</td>\n",
       "      <td>58278</td>\n",
       "      <td>2.0</td>\n",
       "      <td>9172</td>\n",
       "      <td>Manual</td>\n",
       "      <td>2017</td>\n",
       "      <td>...</td>\n",
       "      <td>0</td>\n",
       "      <td>0</td>\n",
       "      <td>1</td>\n",
       "      <td>0</td>\n",
       "      <td>0</td>\n",
       "      <td>0</td>\n",
       "      <td>0</td>\n",
       "      <td>0</td>\n",
       "      <td>0</td>\n",
       "      <td>0</td>\n",
       "    </tr>\n",
       "  </tbody>\n",
       "</table>\n",
       "<p>5 rows × 44 columns</p>\n",
       "</div>"
      ],
      "text/plain": [
       "     BHP  ULEZ       body  engine    fuel  mileage  owners  price  \\\n",
       "0  123.0  ULEZ  Hatchback     1.4  Petrol    34414     2.0   9980   \n",
       "1  114.0  ULEZ  Hatchback     1.4  Petrol    16773     2.0  11500   \n",
       "2  114.0  ULEZ  Hatchback     1.6  Diesel    76922     2.0   8599   \n",
       "3  114.0  ULEZ  Hatchback     1.4  Petrol    10950     2.0  12174   \n",
       "4  114.0  ULEZ  Hatchback     1.6  Diesel    58278     2.0   9172   \n",
       "\n",
       "  transmission  year  ... performance  2dr 3dr 4dr  5dr  dsg  speed  gti  gtd  \\\n",
       "0       Manual  2017  ...           0    0   0   0    0    0      0    0    0   \n",
       "1       Manual  2017  ...           0    0   1   0    0    0      0    0    0   \n",
       "2       Manual  2017  ...           0    0   0   0    0    0      0    0    0   \n",
       "3       Manual  2017  ...           0    0   0   0    1    0      0    0    0   \n",
       "4       Manual  2017  ...           0    0   1   0    0    0      0    0    0   \n",
       "\n",
       "   gte  \n",
       "0    0  \n",
       "1    0  \n",
       "2    0  \n",
       "3    0  \n",
       "4    0  \n",
       "\n",
       "[5 rows x 44 columns]"
      ]
     },
     "execution_count": 5,
     "metadata": {},
     "output_type": "execute_result"
    }
   ],
   "source": [
    "df.head()"
   ]
  },
  {
   "cell_type": "markdown",
   "metadata": {},
   "source": [
    "## Encode the categorical features\n",
    "* Using pandas get_dummies()"
   ]
  },
  {
   "cell_type": "code",
   "execution_count": 6,
   "metadata": {},
   "outputs": [
    {
     "data": {
      "text/html": [
       "<div>\n",
       "<style scoped>\n",
       "    .dataframe tbody tr th:only-of-type {\n",
       "        vertical-align: middle;\n",
       "    }\n",
       "\n",
       "    .dataframe tbody tr th {\n",
       "        vertical-align: top;\n",
       "    }\n",
       "\n",
       "    .dataframe thead th {\n",
       "        text-align: right;\n",
       "    }\n",
       "</style>\n",
       "<table border=\"1\" class=\"dataframe\">\n",
       "  <thead>\n",
       "    <tr style=\"text-align: right;\">\n",
       "      <th></th>\n",
       "      <th>BHP</th>\n",
       "      <th>engine</th>\n",
       "      <th>mileage</th>\n",
       "      <th>owners</th>\n",
       "      <th>price</th>\n",
       "      <th>year</th>\n",
       "      <th>name_length</th>\n",
       "      <th>missing_BHP</th>\n",
       "      <th>sport</th>\n",
       "      <th>se</th>\n",
       "      <th>...</th>\n",
       "      <th>model_C-Class</th>\n",
       "      <th>model_CT</th>\n",
       "      <th>model_Golf</th>\n",
       "      <th>model_Kona</th>\n",
       "      <th>model_Mazda3</th>\n",
       "      <th>model_Mazda6</th>\n",
       "      <th>model_NX</th>\n",
       "      <th>model_Qashqai</th>\n",
       "      <th>model_Tucson</th>\n",
       "      <th>model_e-Golf</th>\n",
       "    </tr>\n",
       "  </thead>\n",
       "  <tbody>\n",
       "    <tr>\n",
       "      <th>0</th>\n",
       "      <td>123.0</td>\n",
       "      <td>1.4</td>\n",
       "      <td>34414</td>\n",
       "      <td>2.0</td>\n",
       "      <td>9980</td>\n",
       "      <td>2017</td>\n",
       "      <td>65</td>\n",
       "      <td>0</td>\n",
       "      <td>1</td>\n",
       "      <td>1</td>\n",
       "      <td>...</td>\n",
       "      <td>0</td>\n",
       "      <td>0</td>\n",
       "      <td>0</td>\n",
       "      <td>0</td>\n",
       "      <td>0</td>\n",
       "      <td>0</td>\n",
       "      <td>0</td>\n",
       "      <td>0</td>\n",
       "      <td>0</td>\n",
       "      <td>0</td>\n",
       "    </tr>\n",
       "    <tr>\n",
       "      <th>1</th>\n",
       "      <td>114.0</td>\n",
       "      <td>1.4</td>\n",
       "      <td>16773</td>\n",
       "      <td>2.0</td>\n",
       "      <td>11500</td>\n",
       "      <td>2017</td>\n",
       "      <td>26</td>\n",
       "      <td>1</td>\n",
       "      <td>1</td>\n",
       "      <td>0</td>\n",
       "      <td>...</td>\n",
       "      <td>0</td>\n",
       "      <td>0</td>\n",
       "      <td>0</td>\n",
       "      <td>0</td>\n",
       "      <td>0</td>\n",
       "      <td>0</td>\n",
       "      <td>0</td>\n",
       "      <td>0</td>\n",
       "      <td>0</td>\n",
       "      <td>0</td>\n",
       "    </tr>\n",
       "    <tr>\n",
       "      <th>2</th>\n",
       "      <td>114.0</td>\n",
       "      <td>1.6</td>\n",
       "      <td>76922</td>\n",
       "      <td>2.0</td>\n",
       "      <td>8599</td>\n",
       "      <td>2017</td>\n",
       "      <td>63</td>\n",
       "      <td>0</td>\n",
       "      <td>1</td>\n",
       "      <td>1</td>\n",
       "      <td>...</td>\n",
       "      <td>0</td>\n",
       "      <td>0</td>\n",
       "      <td>0</td>\n",
       "      <td>0</td>\n",
       "      <td>0</td>\n",
       "      <td>0</td>\n",
       "      <td>0</td>\n",
       "      <td>0</td>\n",
       "      <td>0</td>\n",
       "      <td>0</td>\n",
       "    </tr>\n",
       "    <tr>\n",
       "      <th>3</th>\n",
       "      <td>114.0</td>\n",
       "      <td>1.4</td>\n",
       "      <td>10950</td>\n",
       "      <td>2.0</td>\n",
       "      <td>12174</td>\n",
       "      <td>2017</td>\n",
       "      <td>26</td>\n",
       "      <td>1</td>\n",
       "      <td>1</td>\n",
       "      <td>0</td>\n",
       "      <td>...</td>\n",
       "      <td>0</td>\n",
       "      <td>0</td>\n",
       "      <td>0</td>\n",
       "      <td>0</td>\n",
       "      <td>0</td>\n",
       "      <td>0</td>\n",
       "      <td>0</td>\n",
       "      <td>0</td>\n",
       "      <td>0</td>\n",
       "      <td>0</td>\n",
       "    </tr>\n",
       "    <tr>\n",
       "      <th>4</th>\n",
       "      <td>114.0</td>\n",
       "      <td>1.6</td>\n",
       "      <td>58278</td>\n",
       "      <td>2.0</td>\n",
       "      <td>9172</td>\n",
       "      <td>2017</td>\n",
       "      <td>25</td>\n",
       "      <td>1</td>\n",
       "      <td>1</td>\n",
       "      <td>0</td>\n",
       "      <td>...</td>\n",
       "      <td>0</td>\n",
       "      <td>0</td>\n",
       "      <td>0</td>\n",
       "      <td>0</td>\n",
       "      <td>0</td>\n",
       "      <td>0</td>\n",
       "      <td>0</td>\n",
       "      <td>0</td>\n",
       "      <td>0</td>\n",
       "      <td>0</td>\n",
       "    </tr>\n",
       "  </tbody>\n",
       "</table>\n",
       "<p>5 rows × 88 columns</p>\n",
       "</div>"
      ],
      "text/plain": [
       "     BHP  engine  mileage  owners  price  year  name_length  missing_BHP  \\\n",
       "0  123.0     1.4    34414     2.0   9980  2017           65            0   \n",
       "1  114.0     1.4    16773     2.0  11500  2017           26            1   \n",
       "2  114.0     1.6    76922     2.0   8599  2017           63            0   \n",
       "3  114.0     1.4    10950     2.0  12174  2017           26            1   \n",
       "4  114.0     1.6    58278     2.0   9172  2017           25            1   \n",
       "\n",
       "   sport  se  ...  model_C-Class  model_CT  model_Golf  model_Kona  \\\n",
       "0      1   1  ...              0         0           0           0   \n",
       "1      1   0  ...              0         0           0           0   \n",
       "2      1   1  ...              0         0           0           0   \n",
       "3      1   0  ...              0         0           0           0   \n",
       "4      1   0  ...              0         0           0           0   \n",
       "\n",
       "   model_Mazda3  model_Mazda6  model_NX  model_Qashqai  model_Tucson  \\\n",
       "0             0             0         0              0             0   \n",
       "1             0             0         0              0             0   \n",
       "2             0             0         0              0             0   \n",
       "3             0             0         0              0             0   \n",
       "4             0             0         0              0             0   \n",
       "\n",
       "   model_e-Golf  \n",
       "0             0  \n",
       "1             0  \n",
       "2             0  \n",
       "3             0  \n",
       "4             0  \n",
       "\n",
       "[5 rows x 88 columns]"
      ]
     },
     "execution_count": 6,
     "metadata": {},
     "output_type": "execute_result"
    }
   ],
   "source": [
    "df_dum = pd.get_dummies(df)\n",
    "df_dum.head()"
   ]
  },
  {
   "cell_type": "markdown",
   "metadata": {},
   "source": [
    "## train test split"
   ]
  },
  {
   "cell_type": "code",
   "execution_count": 7,
   "metadata": {},
   "outputs": [
    {
     "data": {
      "text/plain": [
       "((1233, 87), (1233,))"
      ]
     },
     "execution_count": 7,
     "metadata": {},
     "output_type": "execute_result"
    }
   ],
   "source": [
    "X = df_dum.drop(\"price\", axis=1)\n",
    "y = df_dum[\"price\"].values\n",
    "X.shape, y.shape"
   ]
  },
  {
   "cell_type": "code",
   "execution_count": 8,
   "metadata": {},
   "outputs": [],
   "source": [
    "from sklearn.model_selection import train_test_split"
   ]
  },
  {
   "cell_type": "code",
   "execution_count": 9,
   "metadata": {},
   "outputs": [],
   "source": [
    "X_train, X_test, y_train, y_test = train_test_split(X, y, test_size=0.2, random_state=42)"
   ]
  },
  {
   "cell_type": "code",
   "execution_count": 10,
   "metadata": {},
   "outputs": [
    {
     "data": {
      "text/plain": [
       "((986, 87), (247, 87), (986,), (247,))"
      ]
     },
     "execution_count": 10,
     "metadata": {},
     "output_type": "execute_result"
    }
   ],
   "source": [
    "X_train.shape, X_test.shape, y_train.shape, y_test.shape"
   ]
  },
  {
   "cell_type": "markdown",
   "metadata": {},
   "source": [
    "## multiple linear regression"
   ]
  },
  {
   "cell_type": "code",
   "execution_count": 11,
   "metadata": {},
   "outputs": [],
   "source": [
    "# Build Ordinary Least Square (OLS) as a baseline model\n",
    "import statsmodels.api as sm"
   ]
  },
  {
   "cell_type": "code",
   "execution_count": 12,
   "metadata": {},
   "outputs": [
    {
     "name": "stderr",
     "output_type": "stream",
     "text": [
      "D:\\Apps\\Anaconda\\lib\\site-packages\\numpy\\core\\fromnumeric.py:2389: FutureWarning: Method .ptp is deprecated and will be removed in a future version. Use numpy.ptp instead.\n",
      "  return ptp(axis=axis, out=out, **kwargs)\n"
     ]
    },
    {
     "data": {
      "text/html": [
       "<table class=\"simpletable\">\n",
       "<caption>OLS Regression Results</caption>\n",
       "<tr>\n",
       "  <th>Dep. Variable:</th>            <td>y</td>        <th>  R-squared:         </th> <td>   0.904</td> \n",
       "</tr>\n",
       "<tr>\n",
       "  <th>Model:</th>                   <td>OLS</td>       <th>  Adj. R-squared:    </th> <td>   0.897</td> \n",
       "</tr>\n",
       "<tr>\n",
       "  <th>Method:</th>             <td>Least Squares</td>  <th>  F-statistic:       </th> <td>   119.9</td> \n",
       "</tr>\n",
       "<tr>\n",
       "  <th>Date:</th>             <td>Wed, 30 Dec 2020</td> <th>  Prob (F-statistic):</th>  <td>  0.00</td>  \n",
       "</tr>\n",
       "<tr>\n",
       "  <th>Time:</th>                 <td>23:29:54</td>     <th>  Log-Likelihood:    </th> <td> -8647.7</td> \n",
       "</tr>\n",
       "<tr>\n",
       "  <th>No. Observations:</th>      <td>   986</td>      <th>  AIC:               </th> <td>1.744e+04</td>\n",
       "</tr>\n",
       "<tr>\n",
       "  <th>Df Residuals:</th>          <td>   913</td>      <th>  BIC:               </th> <td>1.780e+04</td>\n",
       "</tr>\n",
       "<tr>\n",
       "  <th>Df Model:</th>              <td>    72</td>      <th>                     </th>     <td> </td>    \n",
       "</tr>\n",
       "<tr>\n",
       "  <th>Covariance Type:</th>      <td>nonrobust</td>    <th>                     </th>     <td> </td>    \n",
       "</tr>\n",
       "</table>\n",
       "<table class=\"simpletable\">\n",
       "<tr>\n",
       "                    <td></td>                      <th>coef</th>     <th>std err</th>      <th>t</th>      <th>P>|t|</th>  <th>[0.025</th>    <th>0.975]</th>  \n",
       "</tr>\n",
       "<tr>\n",
       "  <th>const</th>                                <td>-4.881e+05</td> <td>  1.7e+05</td> <td>   -2.878</td> <td> 0.004</td> <td>-8.21e+05</td> <td>-1.55e+05</td>\n",
       "</tr>\n",
       "<tr>\n",
       "  <th>BHP</th>                                  <td>   21.1401</td> <td>    2.313</td> <td>    9.142</td> <td> 0.000</td> <td>   16.602</td> <td>   25.679</td>\n",
       "</tr>\n",
       "<tr>\n",
       "  <th>engine</th>                               <td> 2421.7140</td> <td>  340.223</td> <td>    7.118</td> <td> 0.000</td> <td> 1754.004</td> <td> 3089.424</td>\n",
       "</tr>\n",
       "<tr>\n",
       "  <th>mileage</th>                              <td>   -0.0511</td> <td>    0.005</td> <td>   -9.623</td> <td> 0.000</td> <td>   -0.062</td> <td>   -0.041</td>\n",
       "</tr>\n",
       "<tr>\n",
       "  <th>owners</th>                               <td>  645.4027</td> <td> 1655.370</td> <td>    0.390</td> <td> 0.697</td> <td>-2603.369</td> <td> 3894.175</td>\n",
       "</tr>\n",
       "<tr>\n",
       "  <th>year</th>                                 <td>  635.0681</td> <td>  218.206</td> <td>    2.910</td> <td> 0.004</td> <td>  206.824</td> <td> 1063.312</td>\n",
       "</tr>\n",
       "<tr>\n",
       "  <th>name_length</th>                          <td>  -10.3542</td> <td>    9.142</td> <td>   -1.133</td> <td> 0.258</td> <td>  -28.297</td> <td>    7.588</td>\n",
       "</tr>\n",
       "<tr>\n",
       "  <th>missing_BHP</th>                          <td>  234.3677</td> <td>  148.384</td> <td>    1.579</td> <td> 0.115</td> <td>  -56.846</td> <td>  525.582</td>\n",
       "</tr>\n",
       "<tr>\n",
       "  <th>sport</th>                                <td>  292.0630</td> <td>  290.660</td> <td>    1.005</td> <td> 0.315</td> <td> -278.376</td> <td>  862.502</td>\n",
       "</tr>\n",
       "<tr>\n",
       "  <th>se</th>                                   <td> -789.5298</td> <td>  227.958</td> <td>   -3.463</td> <td> 0.001</td> <td>-1236.913</td> <td> -342.147</td>\n",
       "</tr>\n",
       "<tr>\n",
       "  <th>amg</th>                                  <td> 2615.2768</td> <td>  367.612</td> <td>    7.114</td> <td> 0.000</td> <td> 1893.814</td> <td> 3336.740</td>\n",
       "</tr>\n",
       "<tr>\n",
       "  <th>tfsi</th>                                 <td>  696.3930</td> <td> 1466.708</td> <td>    0.475</td> <td> 0.635</td> <td>-2182.119</td> <td> 3574.905</td>\n",
       "</tr>\n",
       "<tr>\n",
       "  <th>nav</th>                                  <td> -128.6684</td> <td>  216.301</td> <td>   -0.595</td> <td> 0.552</td> <td> -553.173</td> <td>  295.837</td>\n",
       "</tr>\n",
       "<tr>\n",
       "  <th>tsi</th>                                  <td> 1867.5922</td> <td> 1402.056</td> <td>    1.332</td> <td> 0.183</td> <td> -884.036</td> <td> 4619.220</td>\n",
       "</tr>\n",
       "<tr>\n",
       "  <th>tdi</th>                                  <td> 1117.0221</td> <td> 1439.884</td> <td>    0.776</td> <td> 0.438</td> <td>-1708.845</td> <td> 3942.889</td>\n",
       "</tr>\n",
       "<tr>\n",
       "  <th>premium</th>                              <td>  237.4226</td> <td>  298.370</td> <td>    0.796</td> <td> 0.426</td> <td> -348.149</td> <td>  822.994</td>\n",
       "</tr>\n",
       "<tr>\n",
       "  <th>dci</th>                                  <td> 1150.6983</td> <td>  338.235</td> <td>    3.402</td> <td> 0.001</td> <td>  486.890</td> <td> 1814.507</td>\n",
       "</tr>\n",
       "<tr>\n",
       "  <th>m sport</th>                              <td> 1730.2184</td> <td>  418.497</td> <td>    4.134</td> <td> 0.000</td> <td>  908.890</td> <td> 2551.547</td>\n",
       "</tr>\n",
       "<tr>\n",
       "  <th>sportback</th>                            <td> -504.8513</td> <td>  447.241</td> <td>   -1.129</td> <td> 0.259</td> <td>-1382.592</td> <td>  372.889</td>\n",
       "</tr>\n",
       "<tr>\n",
       "  <th>edition</th>                              <td> 1045.6449</td> <td>  309.391</td> <td>    3.380</td> <td> 0.001</td> <td>  438.444</td> <td> 1652.845</td>\n",
       "</tr>\n",
       "<tr>\n",
       "  <th>tech</th>                                 <td>  791.5884</td> <td>  295.583</td> <td>    2.678</td> <td> 0.008</td> <td>  211.488</td> <td> 1371.689</td>\n",
       "</tr>\n",
       "<tr>\n",
       "  <th>crdi</th>                                 <td> 2056.8685</td> <td>  464.268</td> <td>    4.430</td> <td> 0.000</td> <td> 1145.712</td> <td> 2968.025</td>\n",
       "</tr>\n",
       "<tr>\n",
       "  <th>tronic</th>                               <td>  225.2244</td> <td>  344.723</td> <td>    0.653</td> <td> 0.514</td> <td> -451.317</td> <td>  901.766</td>\n",
       "</tr>\n",
       "<tr>\n",
       "  <th>cod</th>                                  <td>  356.7781</td> <td>  385.859</td> <td>    0.925</td> <td> 0.355</td> <td> -400.496</td> <td> 1114.052</td>\n",
       "</tr>\n",
       "<tr>\n",
       "  <th>s line</th>                               <td> 1480.9229</td> <td>  327.876</td> <td>    4.517</td> <td> 0.000</td> <td>  837.445</td> <td> 2124.400</td>\n",
       "</tr>\n",
       "<tr>\n",
       "  <th>bluetooth</th>                            <td> -407.9063</td> <td>  369.471</td> <td>   -1.104</td> <td> 0.270</td> <td>-1133.017</td> <td>  317.205</td>\n",
       "</tr>\n",
       "<tr>\n",
       "  <th>leather</th>                              <td>  308.2121</td> <td>  437.628</td> <td>    0.704</td> <td> 0.481</td> <td> -550.661</td> <td> 1167.085</td>\n",
       "</tr>\n",
       "<tr>\n",
       "  <th>performance</th>                          <td>    6.5695</td> <td>  627.275</td> <td>    0.010</td> <td> 0.992</td> <td>-1224.499</td> <td> 1237.638</td>\n",
       "</tr>\n",
       "<tr>\n",
       "  <th>2dr</th>                                  <td>-2737.6650</td> <td>  588.624</td> <td>   -4.651</td> <td> 0.000</td> <td>-3892.879</td> <td>-1582.451</td>\n",
       "</tr>\n",
       "<tr>\n",
       "  <th>3dr</th>                                  <td> -518.6391</td> <td>  484.906</td> <td>   -1.070</td> <td> 0.285</td> <td>-1470.299</td> <td>  433.020</td>\n",
       "</tr>\n",
       "<tr>\n",
       "  <th>4dr</th>                                  <td> -700.8432</td> <td>  528.099</td> <td>   -1.327</td> <td> 0.185</td> <td>-1737.273</td> <td>  335.586</td>\n",
       "</tr>\n",
       "<tr>\n",
       "  <th>5dr</th>                                  <td> -348.9821</td> <td>  295.803</td> <td>   -1.180</td> <td> 0.238</td> <td> -929.514</td> <td>  231.550</td>\n",
       "</tr>\n",
       "<tr>\n",
       "  <th>dsg</th>                                  <td> 1326.5507</td> <td>  385.824</td> <td>    3.438</td> <td> 0.001</td> <td>  569.347</td> <td> 2083.755</td>\n",
       "</tr>\n",
       "<tr>\n",
       "  <th>speed</th>                                <td> 1134.7373</td> <td>  477.228</td> <td>    2.378</td> <td> 0.018</td> <td>  198.146</td> <td> 2071.328</td>\n",
       "</tr>\n",
       "<tr>\n",
       "  <th>gti</th>                                  <td> 2869.1002</td> <td>  575.077</td> <td>    4.989</td> <td> 0.000</td> <td> 1740.474</td> <td> 3997.726</td>\n",
       "</tr>\n",
       "<tr>\n",
       "  <th>gtd</th>                                  <td> 3553.7791</td> <td>  468.736</td> <td>    7.582</td> <td> 0.000</td> <td> 2633.854</td> <td> 4473.704</td>\n",
       "</tr>\n",
       "<tr>\n",
       "  <th>gte</th>                                  <td> 3623.4387</td> <td>  684.042</td> <td>    5.297</td> <td> 0.000</td> <td> 2280.962</td> <td> 4965.915</td>\n",
       "</tr>\n",
       "<tr>\n",
       "  <th>ULEZ_Non-ULEZ</th>                        <td>-2.446e+05</td> <td> 8.48e+04</td> <td>   -2.885</td> <td> 0.004</td> <td>-4.11e+05</td> <td>-7.82e+04</td>\n",
       "</tr>\n",
       "<tr>\n",
       "  <th>ULEZ_ULEZ</th>                            <td>-2.435e+05</td> <td> 8.48e+04</td> <td>   -2.872</td> <td> 0.004</td> <td> -4.1e+05</td> <td>-7.71e+04</td>\n",
       "</tr>\n",
       "<tr>\n",
       "  <th>body_Convertible</th>                     <td> -7.74e+04</td> <td> 2.82e+04</td> <td>   -2.741</td> <td> 0.006</td> <td>-1.33e+05</td> <td> -2.2e+04</td>\n",
       "</tr>\n",
       "<tr>\n",
       "  <th>body_Coupe</th>                           <td>-7.795e+04</td> <td> 2.83e+04</td> <td>   -2.759</td> <td> 0.006</td> <td>-1.33e+05</td> <td>-2.25e+04</td>\n",
       "</tr>\n",
       "<tr>\n",
       "  <th>body_Estate</th>                          <td>-8.236e+04</td> <td> 2.83e+04</td> <td>   -2.912</td> <td> 0.004</td> <td>-1.38e+05</td> <td>-2.68e+04</td>\n",
       "</tr>\n",
       "<tr>\n",
       "  <th>body_Hatchback</th>                       <td>-8.334e+04</td> <td> 2.83e+04</td> <td>   -2.948</td> <td> 0.003</td> <td>-1.39e+05</td> <td>-2.78e+04</td>\n",
       "</tr>\n",
       "<tr>\n",
       "  <th>body_SUV</th>                             <td>-8.477e+04</td> <td> 2.83e+04</td> <td>   -2.995</td> <td> 0.003</td> <td> -1.4e+05</td> <td>-2.92e+04</td>\n",
       "</tr>\n",
       "<tr>\n",
       "  <th>body_Saloon</th>                          <td>-8.224e+04</td> <td> 2.83e+04</td> <td>   -2.910</td> <td> 0.004</td> <td>-1.38e+05</td> <td>-2.68e+04</td>\n",
       "</tr>\n",
       "<tr>\n",
       "  <th>fuel_Diesel</th>                          <td>-7.332e+04</td> <td> 2.42e+04</td> <td>   -3.027</td> <td> 0.003</td> <td>-1.21e+05</td> <td>-2.58e+04</td>\n",
       "</tr>\n",
       "<tr>\n",
       "  <th>fuel_Electric</th>                        <td> -6.06e+04</td> <td> 2.43e+04</td> <td>   -2.499</td> <td> 0.013</td> <td>-1.08e+05</td> <td> -1.3e+04</td>\n",
       "</tr>\n",
       "<tr>\n",
       "  <th>fuel_Hybrid  Diesel/Electric</th>         <td>-7.363e+04</td> <td> 2.42e+04</td> <td>   -3.038</td> <td> 0.002</td> <td>-1.21e+05</td> <td>-2.61e+04</td>\n",
       "</tr>\n",
       "<tr>\n",
       "  <th>fuel_Hybrid  Diesel/Electric Plug-in</th> <td>-6.342e+04</td> <td> 2.42e+04</td> <td>   -2.617</td> <td> 0.009</td> <td>-1.11e+05</td> <td>-1.59e+04</td>\n",
       "</tr>\n",
       "<tr>\n",
       "  <th>fuel_Hybrid  Petrol/Electric</th>         <td>-7.102e+04</td> <td> 2.43e+04</td> <td>   -2.926</td> <td> 0.004</td> <td>-1.19e+05</td> <td>-2.34e+04</td>\n",
       "</tr>\n",
       "<tr>\n",
       "  <th>fuel_Hybrid  Petrol/Electric Plug-in</th> <td>-7.389e+04</td> <td> 2.42e+04</td> <td>   -3.049</td> <td> 0.002</td> <td>-1.21e+05</td> <td>-2.63e+04</td>\n",
       "</tr>\n",
       "<tr>\n",
       "  <th>fuel_Petrol</th>                          <td>-7.218e+04</td> <td> 2.42e+04</td> <td>   -2.979</td> <td> 0.003</td> <td> -1.2e+05</td> <td>-2.46e+04</td>\n",
       "</tr>\n",
       "<tr>\n",
       "  <th>transmission_Automatic</th>               <td>-2.434e+05</td> <td> 8.48e+04</td> <td>   -2.871</td> <td> 0.004</td> <td> -4.1e+05</td> <td> -7.7e+04</td>\n",
       "</tr>\n",
       "<tr>\n",
       "  <th>transmission_Manual</th>                  <td>-2.447e+05</td> <td> 8.48e+04</td> <td>   -2.886</td> <td> 0.004</td> <td>-4.11e+05</td> <td>-7.83e+04</td>\n",
       "</tr>\n",
       "<tr>\n",
       "  <th>year_reg_17 reg</th>                      <td>-5.642e+04</td> <td> 1.85e+04</td> <td>   -3.043</td> <td> 0.002</td> <td>-9.28e+04</td> <td>   -2e+04</td>\n",
       "</tr>\n",
       "<tr>\n",
       "  <th>year_reg_18 reg</th>                      <td>-5.563e+04</td> <td> 1.88e+04</td> <td>   -2.966</td> <td> 0.003</td> <td>-9.24e+04</td> <td>-1.88e+04</td>\n",
       "</tr>\n",
       "<tr>\n",
       "  <th>year_reg_19 reg</th>                      <td>-5.478e+04</td> <td>  1.9e+04</td> <td>   -2.887</td> <td> 0.004</td> <td> -9.2e+04</td> <td>-1.75e+04</td>\n",
       "</tr>\n",
       "<tr>\n",
       "  <th>year_reg_20 reg</th>                      <td>-5.108e+04</td> <td> 1.92e+04</td> <td>   -2.662</td> <td> 0.008</td> <td>-8.87e+04</td> <td>-1.34e+04</td>\n",
       "</tr>\n",
       "<tr>\n",
       "  <th>year_reg_66 reg</th>                      <td>-5.714e+04</td> <td> 1.85e+04</td> <td>   -3.082</td> <td> 0.002</td> <td>-9.35e+04</td> <td>-2.08e+04</td>\n",
       "</tr>\n",
       "<tr>\n",
       "  <th>year_reg_67 reg</th>                      <td>  -5.6e+04</td> <td> 1.86e+04</td> <td>   -3.018</td> <td> 0.003</td> <td>-9.24e+04</td> <td>-1.96e+04</td>\n",
       "</tr>\n",
       "<tr>\n",
       "  <th>year_reg_68 reg</th>                      <td>-5.465e+04</td> <td> 1.88e+04</td> <td>   -2.905</td> <td> 0.004</td> <td>-9.16e+04</td> <td>-1.77e+04</td>\n",
       "</tr>\n",
       "<tr>\n",
       "  <th>year_reg_69 reg</th>                      <td>-5.368e+04</td> <td>  1.9e+04</td> <td>   -2.823</td> <td> 0.005</td> <td> -9.1e+04</td> <td>-1.64e+04</td>\n",
       "</tr>\n",
       "<tr>\n",
       "  <th>year_reg_70 reg</th>                      <td>-4.869e+04</td> <td> 1.92e+04</td> <td>   -2.537</td> <td> 0.011</td> <td>-8.63e+04</td> <td> -1.1e+04</td>\n",
       "</tr>\n",
       "<tr>\n",
       "  <th>make_Audi</th>                            <td>-5.735e+04</td> <td>    2e+04</td> <td>   -2.873</td> <td> 0.004</td> <td>-9.65e+04</td> <td>-1.82e+04</td>\n",
       "</tr>\n",
       "<tr>\n",
       "  <th>make_BMW</th>                             <td>  -5.8e+04</td> <td>    2e+04</td> <td>   -2.906</td> <td> 0.004</td> <td>-9.72e+04</td> <td>-1.88e+04</td>\n",
       "</tr>\n",
       "<tr>\n",
       "  <th>make_Fiat</th>                            <td>-4.519e+04</td> <td>  1.5e+04</td> <td>   -3.016</td> <td> 0.003</td> <td>-7.46e+04</td> <td>-1.58e+04</td>\n",
       "</tr>\n",
       "<tr>\n",
       "  <th>make_Hyundai</th>                         <td>-5.672e+04</td> <td> 1.99e+04</td> <td>   -2.845</td> <td> 0.005</td> <td>-9.59e+04</td> <td>-1.76e+04</td>\n",
       "</tr>\n",
       "<tr>\n",
       "  <th>make_Lexus</th>                           <td> -5.54e+04</td> <td> 1.99e+04</td> <td>   -2.780</td> <td> 0.006</td> <td>-9.45e+04</td> <td>-1.63e+04</td>\n",
       "</tr>\n",
       "<tr>\n",
       "  <th>make_Mazda</th>                           <td> -5.78e+04</td> <td>    2e+04</td> <td>   -2.896</td> <td> 0.004</td> <td> -9.7e+04</td> <td>-1.86e+04</td>\n",
       "</tr>\n",
       "<tr>\n",
       "  <th>make_Mercedes-Benz</th>                   <td>-5.644e+04</td> <td>    2e+04</td> <td>   -2.829</td> <td> 0.005</td> <td>-9.56e+04</td> <td>-1.73e+04</td>\n",
       "</tr>\n",
       "<tr>\n",
       "  <th>make_Nissan</th>                          <td>-4.209e+04</td> <td>  1.5e+04</td> <td>   -2.811</td> <td> 0.005</td> <td>-7.15e+04</td> <td>-1.27e+04</td>\n",
       "</tr>\n",
       "<tr>\n",
       "  <th>make_Volkswagen</th>                      <td> -5.91e+04</td> <td>    2e+04</td> <td>   -2.955</td> <td> 0.003</td> <td>-9.83e+04</td> <td>-1.98e+04</td>\n",
       "</tr>\n",
       "<tr>\n",
       "  <th>model_2-Series</th>                       <td>-2.951e+04</td> <td>    1e+04</td> <td>   -2.948</td> <td> 0.003</td> <td>-4.92e+04</td> <td>-9864.573</td>\n",
       "</tr>\n",
       "<tr>\n",
       "  <th>model_3-Series</th>                       <td>-2.848e+04</td> <td> 9957.226</td> <td>   -2.861</td> <td> 0.004</td> <td> -4.8e+04</td> <td>-8943.014</td>\n",
       "</tr>\n",
       "<tr>\n",
       "  <th>model_500</th>                            <td>-4.519e+04</td> <td>  1.5e+04</td> <td>   -3.016</td> <td> 0.003</td> <td>-7.46e+04</td> <td>-1.58e+04</td>\n",
       "</tr>\n",
       "<tr>\n",
       "  <th>model_A-Class</th>                        <td>-2.786e+04</td> <td> 9965.088</td> <td>   -2.796</td> <td> 0.005</td> <td>-4.74e+04</td> <td>-8302.573</td>\n",
       "</tr>\n",
       "<tr>\n",
       "  <th>model_A1</th>                             <td>-2.918e+04</td> <td> 9986.201</td> <td>   -2.922</td> <td> 0.004</td> <td>-4.88e+04</td> <td>-9583.880</td>\n",
       "</tr>\n",
       "<tr>\n",
       "  <th>model_A3</th>                             <td>-2.816e+04</td> <td> 9979.230</td> <td>   -2.822</td> <td> 0.005</td> <td>-4.77e+04</td> <td>-8578.467</td>\n",
       "</tr>\n",
       "<tr>\n",
       "  <th>model_C-Class</th>                        <td>-2.859e+04</td> <td> 9993.893</td> <td>   -2.860</td> <td> 0.004</td> <td>-4.82e+04</td> <td>-8971.334</td>\n",
       "</tr>\n",
       "<tr>\n",
       "  <th>model_CT</th>                             <td>-3.234e+04</td> <td>    1e+04</td> <td>   -3.234</td> <td> 0.001</td> <td> -5.2e+04</td> <td>-1.27e+04</td>\n",
       "</tr>\n",
       "<tr>\n",
       "  <th>model_Golf</th>                           <td>-2.823e+04</td> <td> 9978.024</td> <td>   -2.829</td> <td> 0.005</td> <td>-4.78e+04</td> <td>-8644.686</td>\n",
       "</tr>\n",
       "<tr>\n",
       "  <th>model_Kona</th>                           <td>-2.892e+04</td> <td> 9982.018</td> <td>   -2.897</td> <td> 0.004</td> <td>-4.85e+04</td> <td>-9330.658</td>\n",
       "</tr>\n",
       "<tr>\n",
       "  <th>model_Mazda3</th>                         <td> -2.87e+04</td> <td> 9951.008</td> <td>   -2.884</td> <td> 0.004</td> <td>-4.82e+04</td> <td>-9168.903</td>\n",
       "</tr>\n",
       "<tr>\n",
       "  <th>model_Mazda6</th>                         <td> -2.91e+04</td> <td>    1e+04</td> <td>   -2.904</td> <td> 0.004</td> <td>-4.88e+04</td> <td>-9433.238</td>\n",
       "</tr>\n",
       "<tr>\n",
       "  <th>model_NX</th>                             <td>-2.306e+04</td> <td> 9997.461</td> <td>   -2.306</td> <td> 0.021</td> <td>-4.27e+04</td> <td>-3436.971</td>\n",
       "</tr>\n",
       "<tr>\n",
       "  <th>model_Qashqai</th>                        <td>-4.209e+04</td> <td>  1.5e+04</td> <td>   -2.811</td> <td> 0.005</td> <td>-7.15e+04</td> <td>-1.27e+04</td>\n",
       "</tr>\n",
       "<tr>\n",
       "  <th>model_Tucson</th>                         <td> -2.78e+04</td> <td> 9967.781</td> <td>   -2.789</td> <td> 0.005</td> <td>-4.74e+04</td> <td>-8236.659</td>\n",
       "</tr>\n",
       "<tr>\n",
       "  <th>model_e-Golf</th>                         <td>-3.087e+04</td> <td> 1.01e+04</td> <td>   -3.057</td> <td> 0.002</td> <td>-5.07e+04</td> <td> -1.1e+04</td>\n",
       "</tr>\n",
       "</table>\n",
       "<table class=\"simpletable\">\n",
       "<tr>\n",
       "  <th>Omnibus:</th>       <td>385.304</td> <th>  Durbin-Watson:     </th> <td>   1.967</td>\n",
       "</tr>\n",
       "<tr>\n",
       "  <th>Prob(Omnibus):</th> <td> 0.000</td>  <th>  Jarque-Bera (JB):  </th> <td>4320.279</td>\n",
       "</tr>\n",
       "<tr>\n",
       "  <th>Skew:</th>          <td> 1.463</td>  <th>  Prob(JB):          </th> <td>    0.00</td>\n",
       "</tr>\n",
       "<tr>\n",
       "  <th>Kurtosis:</th>      <td>12.828</td>  <th>  Cond. No.          </th> <td>1.20e+16</td>\n",
       "</tr>\n",
       "</table><br/><br/>Warnings:<br/>[1] Standard Errors assume that the covariance matrix of the errors is correctly specified.<br/>[2] The smallest eigenvalue is 3.88e-21. This might indicate that there are<br/>strong multicollinearity problems or that the design matrix is singular."
      ],
      "text/plain": [
       "<class 'statsmodels.iolib.summary.Summary'>\n",
       "\"\"\"\n",
       "                            OLS Regression Results                            \n",
       "==============================================================================\n",
       "Dep. Variable:                      y   R-squared:                       0.904\n",
       "Model:                            OLS   Adj. R-squared:                  0.897\n",
       "Method:                 Least Squares   F-statistic:                     119.9\n",
       "Date:                Wed, 30 Dec 2020   Prob (F-statistic):               0.00\n",
       "Time:                        23:29:54   Log-Likelihood:                -8647.7\n",
       "No. Observations:                 986   AIC:                         1.744e+04\n",
       "Df Residuals:                     913   BIC:                         1.780e+04\n",
       "Df Model:                          72                                         \n",
       "Covariance Type:            nonrobust                                         \n",
       "========================================================================================================\n",
       "                                           coef    std err          t      P>|t|      [0.025      0.975]\n",
       "--------------------------------------------------------------------------------------------------------\n",
       "const                                -4.881e+05    1.7e+05     -2.878      0.004   -8.21e+05   -1.55e+05\n",
       "BHP                                     21.1401      2.313      9.142      0.000      16.602      25.679\n",
       "engine                                2421.7140    340.223      7.118      0.000    1754.004    3089.424\n",
       "mileage                                 -0.0511      0.005     -9.623      0.000      -0.062      -0.041\n",
       "owners                                 645.4027   1655.370      0.390      0.697   -2603.369    3894.175\n",
       "year                                   635.0681    218.206      2.910      0.004     206.824    1063.312\n",
       "name_length                            -10.3542      9.142     -1.133      0.258     -28.297       7.588\n",
       "missing_BHP                            234.3677    148.384      1.579      0.115     -56.846     525.582\n",
       "sport                                  292.0630    290.660      1.005      0.315    -278.376     862.502\n",
       "se                                    -789.5298    227.958     -3.463      0.001   -1236.913    -342.147\n",
       "amg                                   2615.2768    367.612      7.114      0.000    1893.814    3336.740\n",
       "tfsi                                   696.3930   1466.708      0.475      0.635   -2182.119    3574.905\n",
       "nav                                   -128.6684    216.301     -0.595      0.552    -553.173     295.837\n",
       "tsi                                   1867.5922   1402.056      1.332      0.183    -884.036    4619.220\n",
       "tdi                                   1117.0221   1439.884      0.776      0.438   -1708.845    3942.889\n",
       "premium                                237.4226    298.370      0.796      0.426    -348.149     822.994\n",
       "dci                                   1150.6983    338.235      3.402      0.001     486.890    1814.507\n",
       "m sport                               1730.2184    418.497      4.134      0.000     908.890    2551.547\n",
       "sportback                             -504.8513    447.241     -1.129      0.259   -1382.592     372.889\n",
       "edition                               1045.6449    309.391      3.380      0.001     438.444    1652.845\n",
       "tech                                   791.5884    295.583      2.678      0.008     211.488    1371.689\n",
       "crdi                                  2056.8685    464.268      4.430      0.000    1145.712    2968.025\n",
       "tronic                                 225.2244    344.723      0.653      0.514    -451.317     901.766\n",
       "cod                                    356.7781    385.859      0.925      0.355    -400.496    1114.052\n",
       "s line                                1480.9229    327.876      4.517      0.000     837.445    2124.400\n",
       "bluetooth                             -407.9063    369.471     -1.104      0.270   -1133.017     317.205\n",
       "leather                                308.2121    437.628      0.704      0.481    -550.661    1167.085\n",
       "performance                              6.5695    627.275      0.010      0.992   -1224.499    1237.638\n",
       "2dr                                  -2737.6650    588.624     -4.651      0.000   -3892.879   -1582.451\n",
       "3dr                                   -518.6391    484.906     -1.070      0.285   -1470.299     433.020\n",
       "4dr                                   -700.8432    528.099     -1.327      0.185   -1737.273     335.586\n",
       "5dr                                   -348.9821    295.803     -1.180      0.238    -929.514     231.550\n",
       "dsg                                   1326.5507    385.824      3.438      0.001     569.347    2083.755\n",
       "speed                                 1134.7373    477.228      2.378      0.018     198.146    2071.328\n",
       "gti                                   2869.1002    575.077      4.989      0.000    1740.474    3997.726\n",
       "gtd                                   3553.7791    468.736      7.582      0.000    2633.854    4473.704\n",
       "gte                                   3623.4387    684.042      5.297      0.000    2280.962    4965.915\n",
       "ULEZ_Non-ULEZ                        -2.446e+05   8.48e+04     -2.885      0.004   -4.11e+05   -7.82e+04\n",
       "ULEZ_ULEZ                            -2.435e+05   8.48e+04     -2.872      0.004    -4.1e+05   -7.71e+04\n",
       "body_Convertible                      -7.74e+04   2.82e+04     -2.741      0.006   -1.33e+05    -2.2e+04\n",
       "body_Coupe                           -7.795e+04   2.83e+04     -2.759      0.006   -1.33e+05   -2.25e+04\n",
       "body_Estate                          -8.236e+04   2.83e+04     -2.912      0.004   -1.38e+05   -2.68e+04\n",
       "body_Hatchback                       -8.334e+04   2.83e+04     -2.948      0.003   -1.39e+05   -2.78e+04\n",
       "body_SUV                             -8.477e+04   2.83e+04     -2.995      0.003    -1.4e+05   -2.92e+04\n",
       "body_Saloon                          -8.224e+04   2.83e+04     -2.910      0.004   -1.38e+05   -2.68e+04\n",
       "fuel_Diesel                          -7.332e+04   2.42e+04     -3.027      0.003   -1.21e+05   -2.58e+04\n",
       "fuel_Electric                         -6.06e+04   2.43e+04     -2.499      0.013   -1.08e+05    -1.3e+04\n",
       "fuel_Hybrid  Diesel/Electric         -7.363e+04   2.42e+04     -3.038      0.002   -1.21e+05   -2.61e+04\n",
       "fuel_Hybrid  Diesel/Electric Plug-in -6.342e+04   2.42e+04     -2.617      0.009   -1.11e+05   -1.59e+04\n",
       "fuel_Hybrid  Petrol/Electric         -7.102e+04   2.43e+04     -2.926      0.004   -1.19e+05   -2.34e+04\n",
       "fuel_Hybrid  Petrol/Electric Plug-in -7.389e+04   2.42e+04     -3.049      0.002   -1.21e+05   -2.63e+04\n",
       "fuel_Petrol                          -7.218e+04   2.42e+04     -2.979      0.003    -1.2e+05   -2.46e+04\n",
       "transmission_Automatic               -2.434e+05   8.48e+04     -2.871      0.004    -4.1e+05    -7.7e+04\n",
       "transmission_Manual                  -2.447e+05   8.48e+04     -2.886      0.004   -4.11e+05   -7.83e+04\n",
       "year_reg_17 reg                      -5.642e+04   1.85e+04     -3.043      0.002   -9.28e+04      -2e+04\n",
       "year_reg_18 reg                      -5.563e+04   1.88e+04     -2.966      0.003   -9.24e+04   -1.88e+04\n",
       "year_reg_19 reg                      -5.478e+04    1.9e+04     -2.887      0.004    -9.2e+04   -1.75e+04\n",
       "year_reg_20 reg                      -5.108e+04   1.92e+04     -2.662      0.008   -8.87e+04   -1.34e+04\n",
       "year_reg_66 reg                      -5.714e+04   1.85e+04     -3.082      0.002   -9.35e+04   -2.08e+04\n",
       "year_reg_67 reg                        -5.6e+04   1.86e+04     -3.018      0.003   -9.24e+04   -1.96e+04\n",
       "year_reg_68 reg                      -5.465e+04   1.88e+04     -2.905      0.004   -9.16e+04   -1.77e+04\n",
       "year_reg_69 reg                      -5.368e+04    1.9e+04     -2.823      0.005    -9.1e+04   -1.64e+04\n",
       "year_reg_70 reg                      -4.869e+04   1.92e+04     -2.537      0.011   -8.63e+04    -1.1e+04\n",
       "make_Audi                            -5.735e+04      2e+04     -2.873      0.004   -9.65e+04   -1.82e+04\n",
       "make_BMW                               -5.8e+04      2e+04     -2.906      0.004   -9.72e+04   -1.88e+04\n",
       "make_Fiat                            -4.519e+04    1.5e+04     -3.016      0.003   -7.46e+04   -1.58e+04\n",
       "make_Hyundai                         -5.672e+04   1.99e+04     -2.845      0.005   -9.59e+04   -1.76e+04\n",
       "make_Lexus                            -5.54e+04   1.99e+04     -2.780      0.006   -9.45e+04   -1.63e+04\n",
       "make_Mazda                            -5.78e+04      2e+04     -2.896      0.004    -9.7e+04   -1.86e+04\n",
       "make_Mercedes-Benz                   -5.644e+04      2e+04     -2.829      0.005   -9.56e+04   -1.73e+04\n",
       "make_Nissan                          -4.209e+04    1.5e+04     -2.811      0.005   -7.15e+04   -1.27e+04\n",
       "make_Volkswagen                       -5.91e+04      2e+04     -2.955      0.003   -9.83e+04   -1.98e+04\n",
       "model_2-Series                       -2.951e+04      1e+04     -2.948      0.003   -4.92e+04   -9864.573\n",
       "model_3-Series                       -2.848e+04   9957.226     -2.861      0.004    -4.8e+04   -8943.014\n",
       "model_500                            -4.519e+04    1.5e+04     -3.016      0.003   -7.46e+04   -1.58e+04\n",
       "model_A-Class                        -2.786e+04   9965.088     -2.796      0.005   -4.74e+04   -8302.573\n",
       "model_A1                             -2.918e+04   9986.201     -2.922      0.004   -4.88e+04   -9583.880\n",
       "model_A3                             -2.816e+04   9979.230     -2.822      0.005   -4.77e+04   -8578.467\n",
       "model_C-Class                        -2.859e+04   9993.893     -2.860      0.004   -4.82e+04   -8971.334\n",
       "model_CT                             -3.234e+04      1e+04     -3.234      0.001    -5.2e+04   -1.27e+04\n",
       "model_Golf                           -2.823e+04   9978.024     -2.829      0.005   -4.78e+04   -8644.686\n",
       "model_Kona                           -2.892e+04   9982.018     -2.897      0.004   -4.85e+04   -9330.658\n",
       "model_Mazda3                          -2.87e+04   9951.008     -2.884      0.004   -4.82e+04   -9168.903\n",
       "model_Mazda6                          -2.91e+04      1e+04     -2.904      0.004   -4.88e+04   -9433.238\n",
       "model_NX                             -2.306e+04   9997.461     -2.306      0.021   -4.27e+04   -3436.971\n",
       "model_Qashqai                        -4.209e+04    1.5e+04     -2.811      0.005   -7.15e+04   -1.27e+04\n",
       "model_Tucson                          -2.78e+04   9967.781     -2.789      0.005   -4.74e+04   -8236.659\n",
       "model_e-Golf                         -3.087e+04   1.01e+04     -3.057      0.002   -5.07e+04    -1.1e+04\n",
       "==============================================================================\n",
       "Omnibus:                      385.304   Durbin-Watson:                   1.967\n",
       "Prob(Omnibus):                  0.000   Jarque-Bera (JB):             4320.279\n",
       "Skew:                           1.463   Prob(JB):                         0.00\n",
       "Kurtosis:                      12.828   Cond. No.                     1.20e+16\n",
       "==============================================================================\n",
       "\n",
       "Warnings:\n",
       "[1] Standard Errors assume that the covariance matrix of the errors is correctly specified.\n",
       "[2] The smallest eigenvalue is 3.88e-21. This might indicate that there are\n",
       "strong multicollinearity problems or that the design matrix is singular.\n",
       "\"\"\""
      ]
     },
     "execution_count": 12,
     "metadata": {},
     "output_type": "execute_result"
    }
   ],
   "source": [
    "X_sm = sm.add_constant(X_train)\n",
    "model_OLS = sm.OLS(y_train, X_sm)\n",
    "model_OLS.fit().summary()"
   ]
  },
  {
   "cell_type": "code",
   "execution_count": 13,
   "metadata": {},
   "outputs": [
    {
     "data": {
      "text/plain": [
       "-1228.6161317565347"
      ]
     },
     "execution_count": 13,
     "metadata": {},
     "output_type": "execute_result"
    }
   ],
   "source": [
    "from sklearn.linear_model import LinearRegression\n",
    "from sklearn.model_selection import cross_val_score\n",
    "\n",
    "lm = LinearRegression()\n",
    "lm.fit(X_train, y_train)\n",
    "\n",
    "np.mean(cross_val_score(lm, X_train, y_train, scoring = \"neg_mean_absolute_error\", cv=5))"
   ]
  },
  {
   "cell_type": "markdown",
   "metadata": {},
   "source": [
    "## Lasso regression"
   ]
  },
  {
   "cell_type": "code",
   "execution_count": 14,
   "metadata": {},
   "outputs": [],
   "source": [
    "# Build linear regression model with L2 regularization\n",
    "from sklearn.linear_model import Lasso"
   ]
  },
  {
   "cell_type": "code",
   "execution_count": 15,
   "metadata": {},
   "outputs": [
    {
     "data": {
      "text/plain": [
       "-1213.874223484391"
      ]
     },
     "execution_count": 15,
     "metadata": {},
     "output_type": "execute_result"
    }
   ],
   "source": [
    "lm_lasso = Lasso(max_iter=10000)\n",
    "lm_lasso.fit(X_train, y_train)\n",
    "\n",
    "np.mean(cross_val_score(lm_lasso, X_train, y_train, scoring = \"neg_mean_absolute_error\", cv=5))"
   ]
  },
  {
   "cell_type": "markdown",
   "metadata": {},
   "source": [
    "### Hyperparameter tuning on regularisation parameter alpha"
   ]
  },
  {
   "cell_type": "code",
   "execution_count": 16,
   "metadata": {},
   "outputs": [
    {
     "data": {
      "text/plain": [
       "[<matplotlib.lines.Line2D at 0x2871208d860>]"
      ]
     },
     "execution_count": 16,
     "metadata": {},
     "output_type": "execute_result"
    },
    {
     "data": {
      "image/png": "[encoded data removed]",
      "text/plain": [
       "<Figure size 432x288 with 1 Axes>"
      ]
     },
     "metadata": {
      "needs_background": "light"
     },
     "output_type": "display_data"
    }
   ],
   "source": [
    "# tune the model for the optimisation alpha\n",
    "alpha = []\n",
    "error = []\n",
    "\n",
    "for a in np.linspace(1,5,30):\n",
    "    alpha.append(a)\n",
    "    lm_lasso_tune = Lasso(alpha=a, max_iter=10000)\n",
    "    error.append(np.mean(cross_val_score(lm_lasso_tune, X_train, y_train, scoring = \"neg_mean_absolute_error\", cv=5)))\n",
    "\n",
    "plt.plot(alpha,error)"
   ]
  },
  {
   "cell_type": "code",
   "execution_count": 17,
   "metadata": {},
   "outputs": [
    {
     "data": {
      "text/html": [
       "<div>\n",
       "<style scoped>\n",
       "    .dataframe tbody tr th:only-of-type {\n",
       "        vertical-align: middle;\n",
       "    }\n",
       "\n",
       "    .dataframe tbody tr th {\n",
       "        vertical-align: top;\n",
       "    }\n",
       "\n",
       "    .dataframe thead th {\n",
       "        text-align: right;\n",
       "    }\n",
       "</style>\n",
       "<table border=\"1\" class=\"dataframe\">\n",
       "  <thead>\n",
       "    <tr style=\"text-align: right;\">\n",
       "      <th></th>\n",
       "      <th>alpha</th>\n",
       "      <th>error</th>\n",
       "    </tr>\n",
       "  </thead>\n",
       "  <tbody>\n",
       "    <tr>\n",
       "      <th>3</th>\n",
       "      <td>1.413793</td>\n",
       "      <td>-1211.915347</td>\n",
       "    </tr>\n",
       "  </tbody>\n",
       "</table>\n",
       "</div>"
      ],
      "text/plain": [
       "      alpha        error\n",
       "3  1.413793 -1211.915347"
      ]
     },
     "execution_count": 17,
     "metadata": {},
     "output_type": "execute_result"
    }
   ],
   "source": [
    "# find alpha value with minimum mean absolute error\n",
    "err = list(zip(alpha,error))\n",
    "df_err = pd.DataFrame(err, columns=[\"alpha\",\"error\"])\n",
    "df_err[df_err.error == np.max(df_err.error)]"
   ]
  },
  {
   "cell_type": "code",
   "execution_count": 18,
   "metadata": {},
   "outputs": [
    {
     "data": {
      "text/plain": [
       "-1211.9153465263046"
      ]
     },
     "execution_count": 18,
     "metadata": {},
     "output_type": "execute_result"
    }
   ],
   "source": [
    "lm_lasso = Lasso(alpha=1.413793, max_iter=10000)\n",
    "lm_lasso.fit(X_train, y_train)\n",
    "np.mean(cross_val_score(lm_lasso, X_train, y_train, scoring = \"neg_mean_absolute_error\", cv=5))"
   ]
  },
  {
   "cell_type": "markdown",
   "metadata": {},
   "source": [
    "## RandomForestRegressor"
   ]
  },
  {
   "cell_type": "code",
   "execution_count": 19,
   "metadata": {},
   "outputs": [
    {
     "data": {
      "text/plain": [
       "-1255.4055573623596"
      ]
     },
     "execution_count": 19,
     "metadata": {},
     "output_type": "execute_result"
    }
   ],
   "source": [
    "# build a random forest model\n",
    "from sklearn.ensemble import RandomForestRegressor\n",
    "rf = RandomForestRegressor(n_estimators=100)\n",
    "\n",
    "np.mean(cross_val_score(rf, X_train, y_train, scoring = \"neg_mean_absolute_error\", cv=5))"
   ]
  },
  {
   "cell_type": "markdown",
   "metadata": {},
   "source": [
    "## hyperparameter tuning"
   ]
  },
  {
   "cell_type": "code",
   "execution_count": 20,
   "metadata": {},
   "outputs": [
    {
     "data": {
      "text/plain": [
       "GridSearchCV(cv=3, error_score='raise-deprecating',\n",
       "       estimator=RandomForestRegressor(bootstrap=True, criterion='mse', max_depth=None,\n",
       "           max_features='auto', max_leaf_nodes=None,\n",
       "           min_impurity_decrease=0.0, min_impurity_split=None,\n",
       "           min_samples_leaf=1, min_samples_split=2,\n",
       "           min_weight_fraction_leaf=0.0, n_estimators=100, n_jobs=None,\n",
       "           oob_score=False, random_state=None, verbose=0, warm_start=False),\n",
       "       fit_params=None, iid='warn', n_jobs=None,\n",
       "       param_grid={'n_estimators': range(10, 300, 10), 'criterion': ['mse', 'mae'], 'max_features': ['auto', 'sqrt', 'log2']},\n",
       "       pre_dispatch='2*n_jobs', refit=True, return_train_score='warn',\n",
       "       scoring='neg_mean_absolute_error', verbose=0)"
      ]
     },
     "execution_count": 20,
     "metadata": {},
     "output_type": "execute_result"
    }
   ],
   "source": [
    "# tuning using GridSearchCV\n",
    "from sklearn.model_selection import GridSearchCV\n",
    "\n",
    "params = {\"n_estimators\": range(10,300,10),\n",
    "          \"criterion\":[\"mse\", \"mae\"],\n",
    "          \"max_features\":[\"auto\", \"sqrt\", \"log2\"]}\n",
    "\n",
    "gs = GridSearchCV(rf, params, scoring=\"neg_mean_absolute_error\", cv=3)\n",
    "gs.fit(X_train, y_train)"
   ]
  },
  {
   "cell_type": "code",
   "execution_count": 21,
   "metadata": {},
   "outputs": [
    {
     "data": {
      "text/plain": [
       "-1195.853718728871"
      ]
     },
     "execution_count": 21,
     "metadata": {},
     "output_type": "execute_result"
    }
   ],
   "source": [
    "gs.best_score_"
   ]
  },
  {
   "cell_type": "code",
   "execution_count": 22,
   "metadata": {},
   "outputs": [
    {
     "data": {
      "text/plain": [
       "{'criterion': 'mse', 'max_features': 'sqrt', 'n_estimators': 180}"
      ]
     },
     "execution_count": 22,
     "metadata": {},
     "output_type": "execute_result"
    }
   ],
   "source": [
    "gs.best_params_"
   ]
  },
  {
   "cell_type": "markdown",
   "metadata": {},
   "source": [
    "## test ensembles"
   ]
  },
  {
   "cell_type": "code",
   "execution_count": 23,
   "metadata": {},
   "outputs": [],
   "source": [
    "# predict prices on test set\n",
    "pred_lm = lm.predict(X_test)\n",
    "pred_lm_lasso = lm_lasso.predict(X_test)\n",
    "pred_rf = gs.best_estimator_.predict(X_test)"
   ]
  },
  {
   "cell_type": "code",
   "execution_count": 24,
   "metadata": {},
   "outputs": [
    {
     "data": {
      "text/plain": [
       "{'Linear Regression': 1169.792098653403,\n",
       " 'Lasso Regression': 1168.529278650862,\n",
       " 'RandomForestRegressor': 1180.4008771929825}"
      ]
     },
     "execution_count": 24,
     "metadata": {},
     "output_type": "execute_result"
    }
   ],
   "source": [
    "from sklearn.metrics import mean_absolute_error\n",
    "valuation = {\"Linear Regression\": mean_absolute_error(y_test, pred_lm),\n",
    "             \"Lasso Regression\": mean_absolute_error(y_test, pred_lm_lasso),\n",
    "             \"RandomForestRegressor\": mean_absolute_error(y_test, pred_rf)}\n",
    "valuation"
   ]
  },
  {
   "cell_type": "markdown",
   "metadata": {},
   "source": [
    "# Deploy the model into production using pickle"
   ]
  },
  {
   "cell_type": "code",
   "execution_count": 27,
   "metadata": {},
   "outputs": [],
   "source": [
    "# pickle the model\n",
    "import pickle\n",
    "auto_estimator = {'model': lm_lasso}\n",
    "pickle.dump(auto_estimator, open('model_file' + \".p\", \"wb\"))"
   ]
  },
  {
   "cell_type": "code",
   "execution_count": 28,
   "metadata": {},
   "outputs": [
    {
     "data": {
      "text/plain": [
       "array([12713.61391287])"
      ]
     },
     "execution_count": 28,
     "metadata": {},
     "output_type": "execute_result"
    }
   ],
   "source": [
    "# test the pickled model for prediction\n",
    "\n",
    "file_name = \"model_file.p\"\n",
    "with open(file_name, 'rb') as pickled:\n",
    "    data = pickle.load(pickled)\n",
    "    model = data['model']\n",
    "\n",
    "model.predict(X_test.iloc[0,:].values.reshape(1,-1))"
   ]
  }
 ],
 "metadata": {
  "kernelspec": {
   "display_name": "Python 3",
   "language": "python",
   "name": "python3"
  },
  "language_info": {
   "codemirror_mode": {
    "name": "ipython",
    "version": 3
   },
   "file_extension": ".py",
   "mimetype": "text/x-python",
   "name": "python",
   "nbconvert_exporter": "python",
   "pygments_lexer": "ipython3",
   "version": "3.7.3"
  }
 },
 "nbformat": 4,
 "nbformat_minor": 2
}
