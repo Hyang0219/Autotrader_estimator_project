{
 "cells": [
  {
   "cell_type": "code",
   "execution_count": 1,
   "metadata": {},
   "outputs": [
    {
     "data": {
      "text/plain": [
       "'\\nCreated on Tuesday 15 Dec 2020\\n\\n@author: Hanlin\\n'"
      ]
     },
     "execution_count": 1,
     "metadata": {},
     "output_type": "execute_result"
    }
   ],
   "source": [
    "\"\"\"\n",
    "Created on Tuesday 15 Dec 2020\n",
    "\n",
    "@author: Hanlin\n",
    "\"\"\""
   ]
  },
  {
   "cell_type": "code",
   "execution_count": 2,
   "metadata": {},
   "outputs": [],
   "source": [
    "# Import all tools\n",
    "\n",
    "from autotrader_scraper import get_cars, save_csv, save_json\n",
    "import pandas as pd"
   ]
  },
  {
   "cell_type": "code",
   "execution_count": 2,
   "metadata": {},
   "outputs": [],
   "source": [
    "# Trial of scraping tool\n",
    "\n",
    "results_Audi_A5 = get_cars(\n",
    "        make = \"Audi\",\n",
    "        model = \"A5\",\n",
    "        postcode = \"CF23 8PG\",\n",
    "        radius = 30,\n",
    "        min_year = 2019,\n",
    "        max_year = 2020,\n",
    "        include_writeoff = \"include\",\n",
    "        max_attempts_per_page = 5,\n",
    "        verbose = False)"
   ]
  },
  {
   "cell_type": "code",
   "execution_count": 3,
   "metadata": {},
   "outputs": [
    {
     "data": {
      "text/html": [
       "<div>\n",
       "<style scoped>\n",
       "    .dataframe tbody tr th:only-of-type {\n",
       "        vertical-align: middle;\n",
       "    }\n",
       "\n",
       "    .dataframe tbody tr th {\n",
       "        vertical-align: top;\n",
       "    }\n",
       "\n",
       "    .dataframe thead th {\n",
       "        text-align: right;\n",
       "    }\n",
       "</style>\n",
       "<table border=\"1\" class=\"dataframe\">\n",
       "  <thead>\n",
       "    <tr style=\"text-align: right;\">\n",
       "      <th></th>\n",
       "      <th>BHP</th>\n",
       "      <th>ULEZ</th>\n",
       "      <th>body</th>\n",
       "      <th>engine</th>\n",
       "      <th>fuel</th>\n",
       "      <th>link</th>\n",
       "      <th>mileage</th>\n",
       "      <th>name</th>\n",
       "      <th>price</th>\n",
       "      <th>transmission</th>\n",
       "      <th>year</th>\n",
       "    </tr>\n",
       "  </thead>\n",
       "  <tbody>\n",
       "    <tr>\n",
       "      <th>0</th>\n",
       "      <td>NaN</td>\n",
       "      <td>ULEZ</td>\n",
       "      <td>Hatchback</td>\n",
       "      <td>2.0L</td>\n",
       "      <td>Petrol</td>\n",
       "      <td>https://www.autotrader.co.uk/car-details/20201...</td>\n",
       "      <td>18576</td>\n",
       "      <td>Audi A5 40 TFSI S Line 5dr S Tronic 2.0</td>\n",
       "      <td>£23,999</td>\n",
       "      <td>Automatic</td>\n",
       "      <td>2019 (19 reg)</td>\n",
       "    </tr>\n",
       "    <tr>\n",
       "      <th>1</th>\n",
       "      <td>148.0</td>\n",
       "      <td>ULEZ</td>\n",
       "      <td>Hatchback</td>\n",
       "      <td>2.0L</td>\n",
       "      <td>Petrol</td>\n",
       "      <td>https://www.autotrader.co.uk/car-details/20201...</td>\n",
       "      <td>2021</td>\n",
       "      <td>Audi A5 2L Black Edition TFSI 5dr</td>\n",
       "      <td>£27,700</td>\n",
       "      <td>Automatic</td>\n",
       "      <td>2019 (19 reg)</td>\n",
       "    </tr>\n",
       "  </tbody>\n",
       "</table>\n",
       "</div>"
      ],
      "text/plain": [
       "     BHP  ULEZ       body engine    fuel  \\\n",
       "0    NaN  ULEZ  Hatchback   2.0L  Petrol   \n",
       "1  148.0  ULEZ  Hatchback   2.0L  Petrol   \n",
       "\n",
       "                                                link  mileage  \\\n",
       "0  https://www.autotrader.co.uk/car-details/20201...    18576   \n",
       "1  https://www.autotrader.co.uk/car-details/20201...     2021   \n",
       "\n",
       "                                      name    price transmission  \\\n",
       "0  Audi A5 40 TFSI S Line 5dr S Tronic 2.0  £23,999    Automatic   \n",
       "1        Audi A5 2L Black Edition TFSI 5dr  £27,700    Automatic   \n",
       "\n",
       "            year  \n",
       "0  2019 (19 reg)  \n",
       "1  2019 (19 reg)  "
      ]
     },
     "execution_count": 3,
     "metadata": {},
     "output_type": "execute_result"
    }
   ],
   "source": [
    "# Glance at the raw data from the scrapper\n",
    "\n",
    "pd.DataFrame(results_Audi_A5).head(2)"
   ]
  },
  {
   "cell_type": "code",
   "execution_count": 3,
   "metadata": {},
   "outputs": [],
   "source": [
    "# Define the targeted make and model in a tuple list\n",
    "\n",
    "target_model = [(\"Lexus\",\"Ct 200h\"),\n",
    "                (\"Mazda\",\"Mazda3\")\n",
    "                ]"
   ]
  },
  {
   "cell_type": "code",
   "execution_count": 4,
   "metadata": {},
   "outputs": [],
   "source": [
    "# Function to generate all raw data from a list of tuples of the targeted make and model\n",
    "\n",
    "def generate_car_price(target=target_model):\n",
    "    results = []\n",
    "    for make, model in target:\n",
    "        results_price = get_cars(make = make,\n",
    "                                 model = model,\n",
    "                                 postcode = \"CF23 8PG\",\n",
    "                                 radius = 30,\n",
    "                                 min_year = 2019,\n",
    "                                 max_year = 2020,\n",
    "                                 include_writeoff = \"include\",\n",
    "                                 max_attempts_per_page = 5,\n",
    "                                 verbose = False)\n",
    "        results += results_price\n",
    "    return results"
   ]
  },
  {
   "cell_type": "code",
   "execution_count": 5,
   "metadata": {},
   "outputs": [],
   "source": [
    "# Scrape the data\n",
    "\n",
    "results = generate_car_price(target_model)"
   ]
  },
  {
   "cell_type": "code",
   "execution_count": 6,
   "metadata": {},
   "outputs": [
    {
     "data": {
      "text/plain": [
       "28"
      ]
     },
     "execution_count": 6,
     "metadata": {},
     "output_type": "execute_result"
    }
   ],
   "source": [
    "len(results)"
   ]
  },
  {
   "cell_type": "code",
   "execution_count": 7,
   "metadata": {},
   "outputs": [],
   "source": [
    "pd.DataFrame(results).to_csv(\"autorader_prices.csv\", index = False)"
   ]
  },
  {
   "cell_type": "code",
   "execution_count": null,
   "metadata": {},
   "outputs": [],
   "source": []
  }
 ],
 "metadata": {
  "kernelspec": {
   "display_name": "Python 3",
   "language": "python",
   "name": "python3"
  },
  "language_info": {
   "codemirror_mode": {
    "name": "ipython",
    "version": 3
   },
   "file_extension": ".py",
   "mimetype": "text/x-python",
   "name": "python",
   "nbconvert_exporter": "python",
   "pygments_lexer": "ipython3",
   "version": "3.7.3"
  }
 },
 "nbformat": 4,
 "nbformat_minor": 2
}
