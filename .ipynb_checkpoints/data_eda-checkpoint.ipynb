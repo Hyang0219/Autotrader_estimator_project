{
 "cells": [
  {
   "cell_type": "markdown",
   "metadata": {},
   "source": [
    "# Exploratory Data Analysis"
   ]
  },
  {
   "cell_type": "code",
   "execution_count": 237,
   "metadata": {},
   "outputs": [],
   "source": [
    "import pandas as pd\n",
    "import matplotlib.pyplot as plt\n",
    "import seaborn as sns"
   ]
  },
  {
   "cell_type": "code",
   "execution_count": 196,
   "metadata": {},
   "outputs": [],
   "source": [
    "df = pd.read_csv(\"autotrader_prices_cleaned.csv\")"
   ]
  },
  {
   "cell_type": "code",
   "execution_count": 197,
   "metadata": {},
   "outputs": [
    {
     "data": {
      "text/html": [
       "<div>\n",
       "<style scoped>\n",
       "    .dataframe tbody tr th:only-of-type {\n",
       "        vertical-align: middle;\n",
       "    }\n",
       "\n",
       "    .dataframe tbody tr th {\n",
       "        vertical-align: top;\n",
       "    }\n",
       "\n",
       "    .dataframe thead th {\n",
       "        text-align: right;\n",
       "    }\n",
       "</style>\n",
       "<table border=\"1\" class=\"dataframe\">\n",
       "  <thead>\n",
       "    <tr style=\"text-align: right;\">\n",
       "      <th></th>\n",
       "      <th>BHP</th>\n",
       "      <th>ULEZ</th>\n",
       "      <th>body</th>\n",
       "      <th>engine</th>\n",
       "      <th>fuel</th>\n",
       "      <th>mileage</th>\n",
       "      <th>name</th>\n",
       "      <th>owners</th>\n",
       "      <th>price</th>\n",
       "      <th>transmission</th>\n",
       "      <th>...</th>\n",
       "      <th>se</th>\n",
       "      <th>eco</th>\n",
       "      <th>sport</th>\n",
       "      <th>m_sport</th>\n",
       "      <th>lux</th>\n",
       "      <th>sat_nav</th>\n",
       "      <th>bluetooth</th>\n",
       "      <th>leather</th>\n",
       "      <th>three_door</th>\n",
       "      <th>year_reg</th>\n",
       "    </tr>\n",
       "  </thead>\n",
       "  <tbody>\n",
       "    <tr>\n",
       "      <th>0</th>\n",
       "      <td>108.0</td>\n",
       "      <td>ULEZ</td>\n",
       "      <td>Hatchback</td>\n",
       "      <td>1.6</td>\n",
       "      <td>Diesel</td>\n",
       "      <td>82850</td>\n",
       "      <td>Audi A3 1.6 TDI SE 5d 109 BHP Nav Prep - Bluet...</td>\n",
       "      <td>2.0</td>\n",
       "      <td>7991</td>\n",
       "      <td>Manual</td>\n",
       "      <td>...</td>\n",
       "      <td>1</td>\n",
       "      <td>0</td>\n",
       "      <td>0</td>\n",
       "      <td>0</td>\n",
       "      <td>0</td>\n",
       "      <td>1</td>\n",
       "      <td>1</td>\n",
       "      <td>0</td>\n",
       "      <td>0</td>\n",
       "      <td>15 reg</td>\n",
       "    </tr>\n",
       "    <tr>\n",
       "      <th>1</th>\n",
       "      <td>148.0</td>\n",
       "      <td>ULEZ</td>\n",
       "      <td>Hatchback</td>\n",
       "      <td>2.0</td>\n",
       "      <td>Diesel</td>\n",
       "      <td>38627</td>\n",
       "      <td>Audi A3 2.0 TDI SE 5d 148 BHP, £20 YEAR ROAD T...</td>\n",
       "      <td>2.0</td>\n",
       "      <td>10980</td>\n",
       "      <td>Manual</td>\n",
       "      <td>...</td>\n",
       "      <td>1</td>\n",
       "      <td>0</td>\n",
       "      <td>0</td>\n",
       "      <td>0</td>\n",
       "      <td>0</td>\n",
       "      <td>1</td>\n",
       "      <td>0</td>\n",
       "      <td>0</td>\n",
       "      <td>0</td>\n",
       "      <td>65 reg</td>\n",
       "    </tr>\n",
       "    <tr>\n",
       "      <th>2</th>\n",
       "      <td>108.0</td>\n",
       "      <td>ULEZ</td>\n",
       "      <td>Hatchback</td>\n",
       "      <td>1.6</td>\n",
       "      <td>Diesel</td>\n",
       "      <td>84812</td>\n",
       "      <td>Audi A3 1.6 TDI 110 Sport 5dr Satellite Naviga...</td>\n",
       "      <td>2.0</td>\n",
       "      <td>8350</td>\n",
       "      <td>Manual</td>\n",
       "      <td>...</td>\n",
       "      <td>0</td>\n",
       "      <td>0</td>\n",
       "      <td>1</td>\n",
       "      <td>0</td>\n",
       "      <td>0</td>\n",
       "      <td>1</td>\n",
       "      <td>0</td>\n",
       "      <td>0</td>\n",
       "      <td>0</td>\n",
       "      <td>15 reg</td>\n",
       "    </tr>\n",
       "    <tr>\n",
       "      <th>3</th>\n",
       "      <td>182.0</td>\n",
       "      <td>ULEZ</td>\n",
       "      <td>Hatchback</td>\n",
       "      <td>2.0</td>\n",
       "      <td>Diesel</td>\n",
       "      <td>74413</td>\n",
       "      <td>Audi A3 2.0 TDI Sport Sportback S Tronic quatt...</td>\n",
       "      <td>2.0</td>\n",
       "      <td>9699</td>\n",
       "      <td>Automatic</td>\n",
       "      <td>...</td>\n",
       "      <td>0</td>\n",
       "      <td>0</td>\n",
       "      <td>1</td>\n",
       "      <td>0</td>\n",
       "      <td>0</td>\n",
       "      <td>0</td>\n",
       "      <td>0</td>\n",
       "      <td>0</td>\n",
       "      <td>0</td>\n",
       "      <td>15 reg</td>\n",
       "    </tr>\n",
       "    <tr>\n",
       "      <th>4</th>\n",
       "      <td>108.0</td>\n",
       "      <td>ULEZ</td>\n",
       "      <td>Hatchback</td>\n",
       "      <td>1.6</td>\n",
       "      <td>Diesel</td>\n",
       "      <td>59152</td>\n",
       "      <td>Audi A3 1.6 TDI SE Sportback 5dr</td>\n",
       "      <td>2.0</td>\n",
       "      <td>8990</td>\n",
       "      <td>Manual</td>\n",
       "      <td>...</td>\n",
       "      <td>1</td>\n",
       "      <td>0</td>\n",
       "      <td>1</td>\n",
       "      <td>0</td>\n",
       "      <td>0</td>\n",
       "      <td>0</td>\n",
       "      <td>0</td>\n",
       "      <td>0</td>\n",
       "      <td>0</td>\n",
       "      <td>15 reg</td>\n",
       "    </tr>\n",
       "  </tbody>\n",
       "</table>\n",
       "<p>5 rows × 23 columns</p>\n",
       "</div>"
      ],
      "text/plain": [
       "     BHP  ULEZ       body  engine    fuel  mileage  \\\n",
       "0  108.0  ULEZ  Hatchback     1.6  Diesel    82850   \n",
       "1  148.0  ULEZ  Hatchback     2.0  Diesel    38627   \n",
       "2  108.0  ULEZ  Hatchback     1.6  Diesel    84812   \n",
       "3  182.0  ULEZ  Hatchback     2.0  Diesel    74413   \n",
       "4  108.0  ULEZ  Hatchback     1.6  Diesel    59152   \n",
       "\n",
       "                                                name  owners  price  \\\n",
       "0  Audi A3 1.6 TDI SE 5d 109 BHP Nav Prep - Bluet...     2.0   7991   \n",
       "1  Audi A3 2.0 TDI SE 5d 148 BHP, £20 YEAR ROAD T...     2.0  10980   \n",
       "2  Audi A3 1.6 TDI 110 Sport 5dr Satellite Naviga...     2.0   8350   \n",
       "3  Audi A3 2.0 TDI Sport Sportback S Tronic quatt...     2.0   9699   \n",
       "4                   Audi A3 1.6 TDI SE Sportback 5dr     2.0   8990   \n",
       "\n",
       "  transmission  ...  se eco sport  m_sport  lux  sat_nav  bluetooth  leather  \\\n",
       "0       Manual  ...   1   0     0        0    0        1          1        0   \n",
       "1       Manual  ...   1   0     0        0    0        1          0        0   \n",
       "2       Manual  ...   0   0     1        0    0        1          0        0   \n",
       "3    Automatic  ...   0   0     1        0    0        0          0        0   \n",
       "4       Manual  ...   1   0     1        0    0        0          0        0   \n",
       "\n",
       "   three_door  year_reg  \n",
       "0           0    15 reg  \n",
       "1           0    65 reg  \n",
       "2           0    15 reg  \n",
       "3           0    15 reg  \n",
       "4           0    15 reg  \n",
       "\n",
       "[5 rows x 23 columns]"
      ]
     },
     "execution_count": 197,
     "metadata": {},
     "output_type": "execute_result"
    }
   ],
   "source": [
    "df.head()"
   ]
  },
  {
   "cell_type": "code",
   "execution_count": 198,
   "metadata": {},
   "outputs": [
    {
     "data": {
      "text/plain": [
       "Index(['BHP', 'ULEZ', 'body', 'engine', 'fuel', 'mileage', 'name', 'owners',\n",
       "       'price', 'transmission', 'year', 'make', 'model', 'se', 'eco', 'sport',\n",
       "       'm_sport', 'lux', 'sat_nav', 'bluetooth', 'leather', 'three_door',\n",
       "       'year_reg'],\n",
       "      dtype='object')"
      ]
     },
     "execution_count": 198,
     "metadata": {},
     "output_type": "execute_result"
    }
   ],
   "source": [
    "df.columns"
   ]
  },
  {
   "cell_type": "code",
   "execution_count": 199,
   "metadata": {},
   "outputs": [
    {
     "data": {
      "text/plain": [
       "BMW       341\n",
       "Audi      183\n",
       "Fiat       66\n",
       "Mazda      14\n",
       "Lexus      13\n",
       "Mazda3      9\n",
       "Name: make, dtype: int64"
      ]
     },
     "execution_count": 199,
     "metadata": {},
     "output_type": "execute_result"
    }
   ],
   "source": [
    "# Check make variants - Mazda3 has not been correctly split into Mazda(make) and 3(model)\n",
    "df.make.value_counts()"
   ]
  },
  {
   "cell_type": "code",
   "execution_count": 200,
   "metadata": {},
   "outputs": [
    {
     "data": {
      "text/plain": [
       "1              201\n",
       "A3             183\n",
       "3              154\n",
       "500             66\n",
       "CT              12\n",
       "2L               5\n",
       "2.0              2\n",
       "2.2L             1\n",
       "Cthatchback      1\n",
       "2.2              1\n",
       "Name: model, dtype: int64"
      ]
     },
     "execution_count": 200,
     "metadata": {},
     "output_type": "execute_result"
    }
   ],
   "source": [
    "# Check model variants - some wrong itmes due to incorrect pre-processing of Mazda3\n",
    "df.model.value_counts()"
   ]
  },
  {
   "cell_type": "code",
   "execution_count": 201,
   "metadata": {},
   "outputs": [],
   "source": [
    "# Update Mazda3 into correct make and model\n",
    "index_mazda3 = df[df.make == \"Mazda3\"].index\n",
    "df.at[index_mazda3, \"model\"] = \"Mazda3\"\n",
    "df.at[index_mazda3, \"make\"] = \"Mazda\""
   ]
  },
  {
   "cell_type": "code",
   "execution_count": 202,
   "metadata": {},
   "outputs": [],
   "source": [
    "# Update model 3 into BMW 3 to differetiate from Mazda 3\n",
    "index_3 = df[df.model == \"3\"]\n",
    "index_bmw = index_3[index_3.make == \"BMW\"].index\n",
    "index_mazda = index_3[index_3.make == \"Mazda\"].index\n",
    "df.at[index_bmw, \"model\"] = \"BMW3\"\n",
    "df.at[index_mazda, \"model\"] = \"Mazda3\""
   ]
  },
  {
   "cell_type": "code",
   "execution_count": 203,
   "metadata": {},
   "outputs": [],
   "source": [
    "# Update Cthatchback to CT\n",
    "index_CT = df[df.model == \"Cthatchback\"].index\n",
    "df.at[index_CT, \"model\"] = \"CT\""
   ]
  },
  {
   "cell_type": "code",
   "execution_count": 204,
   "metadata": {},
   "outputs": [
    {
     "data": {
      "text/plain": [
       "BMW      341\n",
       "Audi     183\n",
       "Fiat      66\n",
       "Mazda     23\n",
       "Lexus     13\n",
       "Name: make, dtype: int64"
      ]
     },
     "execution_count": 204,
     "metadata": {},
     "output_type": "execute_result"
    }
   ],
   "source": [
    "df.make.value_counts()"
   ]
  },
  {
   "cell_type": "code",
   "execution_count": 205,
   "metadata": {},
   "outputs": [
    {
     "data": {
      "text/plain": [
       "1         201\n",
       "A3        183\n",
       "BMW3      140\n",
       "500        66\n",
       "Mazda3     23\n",
       "CT         13\n",
       "Name: model, dtype: int64"
      ]
     },
     "execution_count": 205,
     "metadata": {},
     "output_type": "execute_result"
    }
   ],
   "source": [
    "df.model.value_counts()"
   ]
  },
  {
   "cell_type": "code",
   "execution_count": 207,
   "metadata": {},
   "outputs": [],
   "source": [
    "# add name description length as a feature\n",
    "df[\"name_len\"] = df[\"name\"].apply(lambda x: len(x))"
   ]
  },
  {
   "cell_type": "code",
   "execution_count": 208,
   "metadata": {},
   "outputs": [
    {
     "data": {
      "text/html": [
       "<div>\n",
       "<style scoped>\n",
       "    .dataframe tbody tr th:only-of-type {\n",
       "        vertical-align: middle;\n",
       "    }\n",
       "\n",
       "    .dataframe tbody tr th {\n",
       "        vertical-align: top;\n",
       "    }\n",
       "\n",
       "    .dataframe thead th {\n",
       "        text-align: right;\n",
       "    }\n",
       "</style>\n",
       "<table border=\"1\" class=\"dataframe\">\n",
       "  <thead>\n",
       "    <tr style=\"text-align: right;\">\n",
       "      <th></th>\n",
       "      <th>BHP</th>\n",
       "      <th>engine</th>\n",
       "      <th>mileage</th>\n",
       "      <th>owners</th>\n",
       "      <th>price</th>\n",
       "      <th>year</th>\n",
       "      <th>se</th>\n",
       "      <th>eco</th>\n",
       "      <th>sport</th>\n",
       "      <th>m_sport</th>\n",
       "      <th>lux</th>\n",
       "      <th>sat_nav</th>\n",
       "      <th>bluetooth</th>\n",
       "      <th>leather</th>\n",
       "      <th>three_door</th>\n",
       "      <th>name_len</th>\n",
       "    </tr>\n",
       "  </thead>\n",
       "  <tbody>\n",
       "    <tr>\n",
       "      <th>count</th>\n",
       "      <td>626.000000</td>\n",
       "      <td>626.000000</td>\n",
       "      <td>626.000000</td>\n",
       "      <td>626.000000</td>\n",
       "      <td>626.000000</td>\n",
       "      <td>626.000000</td>\n",
       "      <td>626.000000</td>\n",
       "      <td>626.000000</td>\n",
       "      <td>626.000000</td>\n",
       "      <td>626.000000</td>\n",
       "      <td>626.000000</td>\n",
       "      <td>626.000000</td>\n",
       "      <td>626.000000</td>\n",
       "      <td>626.000000</td>\n",
       "      <td>626.000000</td>\n",
       "      <td>626.000000</td>\n",
       "    </tr>\n",
       "    <tr>\n",
       "      <th>mean</th>\n",
       "      <td>155.282748</td>\n",
       "      <td>1.794728</td>\n",
       "      <td>27150.118211</td>\n",
       "      <td>2.014377</td>\n",
       "      <td>15769.964856</td>\n",
       "      <td>2017.191693</td>\n",
       "      <td>0.613419</td>\n",
       "      <td>0.006390</td>\n",
       "      <td>0.607029</td>\n",
       "      <td>0.292332</td>\n",
       "      <td>0.009585</td>\n",
       "      <td>0.166134</td>\n",
       "      <td>0.033546</td>\n",
       "      <td>0.033546</td>\n",
       "      <td>0.007987</td>\n",
       "      <td>41.506390</td>\n",
       "    </tr>\n",
       "    <tr>\n",
       "      <th>std</th>\n",
       "      <td>55.263745</td>\n",
       "      <td>0.501091</td>\n",
       "      <td>18308.222440</td>\n",
       "      <td>0.143503</td>\n",
       "      <td>5783.856635</td>\n",
       "      <td>1.348775</td>\n",
       "      <td>0.487356</td>\n",
       "      <td>0.079744</td>\n",
       "      <td>0.488801</td>\n",
       "      <td>0.455198</td>\n",
       "      <td>0.097509</td>\n",
       "      <td>0.372499</td>\n",
       "      <td>0.180202</td>\n",
       "      <td>0.180202</td>\n",
       "      <td>0.089085</td>\n",
       "      <td>12.244213</td>\n",
       "    </tr>\n",
       "    <tr>\n",
       "      <th>min</th>\n",
       "      <td>68.000000</td>\n",
       "      <td>1.000000</td>\n",
       "      <td>10.000000</td>\n",
       "      <td>2.000000</td>\n",
       "      <td>3995.000000</td>\n",
       "      <td>2015.000000</td>\n",
       "      <td>0.000000</td>\n",
       "      <td>0.000000</td>\n",
       "      <td>0.000000</td>\n",
       "      <td>0.000000</td>\n",
       "      <td>0.000000</td>\n",
       "      <td>0.000000</td>\n",
       "      <td>0.000000</td>\n",
       "      <td>0.000000</td>\n",
       "      <td>0.000000</td>\n",
       "      <td>19.000000</td>\n",
       "    </tr>\n",
       "    <tr>\n",
       "      <th>25%</th>\n",
       "      <td>136.000000</td>\n",
       "      <td>1.500000</td>\n",
       "      <td>14663.250000</td>\n",
       "      <td>2.000000</td>\n",
       "      <td>12181.250000</td>\n",
       "      <td>2016.000000</td>\n",
       "      <td>0.000000</td>\n",
       "      <td>0.000000</td>\n",
       "      <td>0.000000</td>\n",
       "      <td>0.000000</td>\n",
       "      <td>0.000000</td>\n",
       "      <td>0.000000</td>\n",
       "      <td>0.000000</td>\n",
       "      <td>0.000000</td>\n",
       "      <td>0.000000</td>\n",
       "      <td>32.000000</td>\n",
       "    </tr>\n",
       "    <tr>\n",
       "      <th>50%</th>\n",
       "      <td>148.000000</td>\n",
       "      <td>1.600000</td>\n",
       "      <td>25153.500000</td>\n",
       "      <td>2.000000</td>\n",
       "      <td>15000.000000</td>\n",
       "      <td>2017.000000</td>\n",
       "      <td>1.000000</td>\n",
       "      <td>0.000000</td>\n",
       "      <td>1.000000</td>\n",
       "      <td>0.000000</td>\n",
       "      <td>0.000000</td>\n",
       "      <td>0.000000</td>\n",
       "      <td>0.000000</td>\n",
       "      <td>0.000000</td>\n",
       "      <td>0.000000</td>\n",
       "      <td>39.000000</td>\n",
       "    </tr>\n",
       "    <tr>\n",
       "      <th>75%</th>\n",
       "      <td>150.000000</td>\n",
       "      <td>2.000000</td>\n",
       "      <td>35429.500000</td>\n",
       "      <td>2.000000</td>\n",
       "      <td>18913.750000</td>\n",
       "      <td>2018.000000</td>\n",
       "      <td>1.000000</td>\n",
       "      <td>0.000000</td>\n",
       "      <td>1.000000</td>\n",
       "      <td>1.000000</td>\n",
       "      <td>0.000000</td>\n",
       "      <td>0.000000</td>\n",
       "      <td>0.000000</td>\n",
       "      <td>0.000000</td>\n",
       "      <td>0.000000</td>\n",
       "      <td>53.000000</td>\n",
       "    </tr>\n",
       "    <tr>\n",
       "      <th>max</th>\n",
       "      <td>340.000000</td>\n",
       "      <td>3.000000</td>\n",
       "      <td>124395.000000</td>\n",
       "      <td>4.000000</td>\n",
       "      <td>53000.000000</td>\n",
       "      <td>2020.000000</td>\n",
       "      <td>1.000000</td>\n",
       "      <td>1.000000</td>\n",
       "      <td>1.000000</td>\n",
       "      <td>1.000000</td>\n",
       "      <td>1.000000</td>\n",
       "      <td>1.000000</td>\n",
       "      <td>1.000000</td>\n",
       "      <td>1.000000</td>\n",
       "      <td>1.000000</td>\n",
       "      <td>64.000000</td>\n",
       "    </tr>\n",
       "  </tbody>\n",
       "</table>\n",
       "</div>"
      ],
      "text/plain": [
       "              BHP      engine        mileage      owners         price  \\\n",
       "count  626.000000  626.000000     626.000000  626.000000    626.000000   \n",
       "mean   155.282748    1.794728   27150.118211    2.014377  15769.964856   \n",
       "std     55.263745    0.501091   18308.222440    0.143503   5783.856635   \n",
       "min     68.000000    1.000000      10.000000    2.000000   3995.000000   \n",
       "25%    136.000000    1.500000   14663.250000    2.000000  12181.250000   \n",
       "50%    148.000000    1.600000   25153.500000    2.000000  15000.000000   \n",
       "75%    150.000000    2.000000   35429.500000    2.000000  18913.750000   \n",
       "max    340.000000    3.000000  124395.000000    4.000000  53000.000000   \n",
       "\n",
       "              year          se         eco       sport     m_sport  \\\n",
       "count   626.000000  626.000000  626.000000  626.000000  626.000000   \n",
       "mean   2017.191693    0.613419    0.006390    0.607029    0.292332   \n",
       "std       1.348775    0.487356    0.079744    0.488801    0.455198   \n",
       "min    2015.000000    0.000000    0.000000    0.000000    0.000000   \n",
       "25%    2016.000000    0.000000    0.000000    0.000000    0.000000   \n",
       "50%    2017.000000    1.000000    0.000000    1.000000    0.000000   \n",
       "75%    2018.000000    1.000000    0.000000    1.000000    1.000000   \n",
       "max    2020.000000    1.000000    1.000000    1.000000    1.000000   \n",
       "\n",
       "              lux     sat_nav   bluetooth     leather  three_door    name_len  \n",
       "count  626.000000  626.000000  626.000000  626.000000  626.000000  626.000000  \n",
       "mean     0.009585    0.166134    0.033546    0.033546    0.007987   41.506390  \n",
       "std      0.097509    0.372499    0.180202    0.180202    0.089085   12.244213  \n",
       "min      0.000000    0.000000    0.000000    0.000000    0.000000   19.000000  \n",
       "25%      0.000000    0.000000    0.000000    0.000000    0.000000   32.000000  \n",
       "50%      0.000000    0.000000    0.000000    0.000000    0.000000   39.000000  \n",
       "75%      0.000000    0.000000    0.000000    0.000000    0.000000   53.000000  \n",
       "max      1.000000    1.000000    1.000000    1.000000    1.000000   64.000000  "
      ]
     },
     "execution_count": 208,
     "metadata": {},
     "output_type": "execute_result"
    }
   ],
   "source": [
    "df.describe()"
   ]
  },
  {
   "cell_type": "code",
   "execution_count": 209,
   "metadata": {},
   "outputs": [
    {
     "data": {
      "text/plain": [
       "Index(['BHP', 'ULEZ', 'body', 'engine', 'fuel', 'mileage', 'name', 'owners',\n",
       "       'price', 'transmission', 'year', 'make', 'model', 'se', 'eco', 'sport',\n",
       "       'm_sport', 'lux', 'sat_nav', 'bluetooth', 'leather', 'three_door',\n",
       "       'year_reg', 'name_len'],\n",
       "      dtype='object')"
      ]
     },
     "execution_count": 209,
     "metadata": {},
     "output_type": "execute_result"
    }
   ],
   "source": [
    "df.columns"
   ]
  },
  {
   "cell_type": "markdown",
   "metadata": {},
   "source": [
    "## Histogram of some features"
   ]
  },
  {
   "cell_type": "code",
   "execution_count": 210,
   "metadata": {},
   "outputs": [
    {
     "data": {
      "text/plain": [
       "<matplotlib.axes._subplots.AxesSubplot at 0x15f8a6b92e8>"
      ]
     },
     "execution_count": 210,
     "metadata": {},
     "output_type": "execute_result"
    },
    {
     "data": {
      "image/png": "[encoded data removed]",
      "text/plain": [
       "<Figure size 432x288 with 1 Axes>"
      ]
     },
     "metadata": {
      "needs_background": "light"
     },
     "output_type": "display_data"
    }
   ],
   "source": [
    "df.BHP.hist()"
   ]
  },
  {
   "cell_type": "code",
   "execution_count": 211,
   "metadata": {},
   "outputs": [
    {
     "data": {
      "text/plain": [
       "<matplotlib.axes._subplots.AxesSubplot at 0x15f8b1115f8>"
      ]
     },
     "execution_count": 211,
     "metadata": {},
     "output_type": "execute_result"
    },
    {
     "data": {
      "image/png": "[encoded data removed]",
      "text/plain": [
       "<Figure size 432x288 with 1 Axes>"
      ]
     },
     "metadata": {
      "needs_background": "light"
     },
     "output_type": "display_data"
    }
   ],
   "source": [
    "df.price.hist()"
   ]
  },
  {
   "cell_type": "code",
   "execution_count": 212,
   "metadata": {},
   "outputs": [
    {
     "data": {
      "text/plain": [
       "<matplotlib.axes._subplots.AxesSubplot at 0x15f8aeefd30>"
      ]
     },
     "execution_count": 212,
     "metadata": {},
     "output_type": "execute_result"
    },
    {
     "data": {
      "image/png": "[encoded data removed]",
      "text/plain": [
       "<Figure size 432x288 with 1 Axes>"
      ]
     },
     "metadata": {
      "needs_background": "light"
     },
     "output_type": "display_data"
    }
   ],
   "source": [
    "df.mileage.hist()"
   ]
  },
  {
   "cell_type": "code",
   "execution_count": 213,
   "metadata": {},
   "outputs": [
    {
     "data": {
      "text/plain": [
       "<matplotlib.axes._subplots.AxesSubplot at 0x15f8af1c5c0>"
      ]
     },
     "execution_count": 213,
     "metadata": {},
     "output_type": "execute_result"
    },
    {
     "data": {
      "image/png": "[encoded data removed]",
      "text/plain": [
       "<Figure size 432x288 with 1 Axes>"
      ]
     },
     "metadata": {
      "needs_background": "light"
     },
     "output_type": "display_data"
    }
   ],
   "source": [
    "df.name_len.hist()"
   ]
  },
  {
   "cell_type": "markdown",
   "metadata": {},
   "source": [
    "## Boxplot of some features"
   ]
  },
  {
   "cell_type": "code",
   "execution_count": 215,
   "metadata": {},
   "outputs": [
    {
     "data": {
      "text/plain": [
       "<matplotlib.axes._subplots.AxesSubplot at 0x15f8afc5cf8>"
      ]
     },
     "execution_count": 215,
     "metadata": {},
     "output_type": "execute_result"
    },
    {
     "data": {
      "image/png": "[encoded data removed]",
      "text/plain": [
       "<Figure size 432x288 with 1 Axes>"
      ]
     },
     "metadata": {
      "needs_background": "light"
     },
     "output_type": "display_data"
    }
   ],
   "source": [
    "df.boxplot(column=[\"BHP\", \"price\", \"mileage\"])"
   ]
  },
  {
   "cell_type": "code",
   "execution_count": 217,
   "metadata": {},
   "outputs": [
    {
     "data": {
      "text/plain": [
       "<matplotlib.axes._subplots.AxesSubplot at 0x15f8a575c88>"
      ]
     },
     "execution_count": 217,
     "metadata": {},
     "output_type": "execute_result"
    },
    {
     "data": {
      "image/png": "[encoded data removed]",
      "text/plain": [
       "<Figure size 432x288 with 1 Axes>"
      ]
     },
     "metadata": {
      "needs_background": "light"
     },
     "output_type": "display_data"
    }
   ],
   "source": [
    "df.boxplot(column=[\"BHP\"])"
   ]
  },
  {
   "cell_type": "code",
   "execution_count": 226,
   "metadata": {},
   "outputs": [
    {
     "data": {
      "text/plain": [
       "(['BHP',\n",
       "  'engine',\n",
       "  'mileage',\n",
       "  'owners',\n",
       "  'price',\n",
       "  'year',\n",
       "  'se',\n",
       "  'eco',\n",
       "  'sport',\n",
       "  'm_sport',\n",
       "  'lux',\n",
       "  'sat_nav',\n",
       "  'bluetooth',\n",
       "  'leather',\n",
       "  'three_door',\n",
       "  'name_len'],\n",
       " ['ULEZ', 'body', 'fuel', 'name', 'transmission', 'make', 'model', 'year_reg'])"
      ]
     },
     "execution_count": 226,
     "metadata": {},
     "output_type": "execute_result"
    }
   ],
   "source": [
    "# Define numerical and categorical features\n",
    "numerical_features = []\n",
    "categorical_features = []\n",
    "\n",
    "for feature, content in df.items():\n",
    "    if pd.api.types.is_numeric_dtype(content):\n",
    "        numerical_features.append(feature)\n",
    "    else:\n",
    "        categorical_features.append(feature)\n",
    "\n",
    "numerical_features, categorical_features"
   ]
  },
  {
   "cell_type": "code",
   "execution_count": 231,
   "metadata": {},
   "outputs": [
    {
     "data": {
      "text/html": [
       "<div>\n",
       "<style scoped>\n",
       "    .dataframe tbody tr th:only-of-type {\n",
       "        vertical-align: middle;\n",
       "    }\n",
       "\n",
       "    .dataframe tbody tr th {\n",
       "        vertical-align: top;\n",
       "    }\n",
       "\n",
       "    .dataframe thead th {\n",
       "        text-align: right;\n",
       "    }\n",
       "</style>\n",
       "<table border=\"1\" class=\"dataframe\">\n",
       "  <thead>\n",
       "    <tr style=\"text-align: right;\">\n",
       "      <th></th>\n",
       "      <th>BHP</th>\n",
       "      <th>engine</th>\n",
       "      <th>mileage</th>\n",
       "      <th>price</th>\n",
       "      <th>year</th>\n",
       "      <th>name_len</th>\n",
       "    </tr>\n",
       "  </thead>\n",
       "  <tbody>\n",
       "    <tr>\n",
       "      <th>BHP</th>\n",
       "      <td>1.000000</td>\n",
       "      <td>0.792209</td>\n",
       "      <td>0.049269</td>\n",
       "      <td>0.471492</td>\n",
       "      <td>-0.016806</td>\n",
       "      <td>0.031012</td>\n",
       "    </tr>\n",
       "    <tr>\n",
       "      <th>engine</th>\n",
       "      <td>0.792209</td>\n",
       "      <td>1.000000</td>\n",
       "      <td>0.100450</td>\n",
       "      <td>0.446871</td>\n",
       "      <td>-0.061948</td>\n",
       "      <td>0.098410</td>\n",
       "    </tr>\n",
       "    <tr>\n",
       "      <th>mileage</th>\n",
       "      <td>0.049269</td>\n",
       "      <td>0.100450</td>\n",
       "      <td>1.000000</td>\n",
       "      <td>-0.455663</td>\n",
       "      <td>-0.623690</td>\n",
       "      <td>0.140290</td>\n",
       "    </tr>\n",
       "    <tr>\n",
       "      <th>price</th>\n",
       "      <td>0.471492</td>\n",
       "      <td>0.446871</td>\n",
       "      <td>-0.455663</td>\n",
       "      <td>1.000000</td>\n",
       "      <td>0.584107</td>\n",
       "      <td>0.147148</td>\n",
       "    </tr>\n",
       "    <tr>\n",
       "      <th>year</th>\n",
       "      <td>-0.016806</td>\n",
       "      <td>-0.061948</td>\n",
       "      <td>-0.623690</td>\n",
       "      <td>0.584107</td>\n",
       "      <td>1.000000</td>\n",
       "      <td>0.037129</td>\n",
       "    </tr>\n",
       "    <tr>\n",
       "      <th>name_len</th>\n",
       "      <td>0.031012</td>\n",
       "      <td>0.098410</td>\n",
       "      <td>0.140290</td>\n",
       "      <td>0.147148</td>\n",
       "      <td>0.037129</td>\n",
       "      <td>1.000000</td>\n",
       "    </tr>\n",
       "  </tbody>\n",
       "</table>\n",
       "</div>"
      ],
      "text/plain": [
       "               BHP    engine   mileage     price      year  name_len\n",
       "BHP       1.000000  0.792209  0.049269  0.471492 -0.016806  0.031012\n",
       "engine    0.792209  1.000000  0.100450  0.446871 -0.061948  0.098410\n",
       "mileage   0.049269  0.100450  1.000000 -0.455663 -0.623690  0.140290\n",
       "price     0.471492  0.446871 -0.455663  1.000000  0.584107  0.147148\n",
       "year     -0.016806 -0.061948 -0.623690  0.584107  1.000000  0.037129\n",
       "name_len  0.031012  0.098410  0.140290  0.147148  0.037129  1.000000"
      ]
     },
     "execution_count": 231,
     "metadata": {},
     "output_type": "execute_result"
    }
   ],
   "source": [
    "# Check correlation on numeric features\n",
    "df_num = [\"BHP\", \"engine\", \"mileage\", \"price\", \"year\", \"name_len\"] \n",
    "df[df_num].corr()"
   ]
  },
  {
   "cell_type": "code",
   "execution_count": 232,
   "metadata": {},
   "outputs": [
    {
     "data": {
      "text/plain": [
       "<matplotlib.axes._subplots.AxesSubplot at 0x15f8ba6aba8>"
      ]
     },
     "execution_count": 232,
     "metadata": {},
     "output_type": "execute_result"
    },
    {
     "data": {
      "image/png": "[encoded data removed]",
      "text/plain": [
       "<Figure size 432x288 with 2 Axes>"
      ]
     },
     "metadata": {
      "needs_background": "light"
     },
     "output_type": "display_data"
    }
   ],
   "source": [
    "cmap = sns.diverging_palette(220, 10, as_cmap=True)\n",
    "sns.heatmap(df[df_num].corr(),vmax=.3, center=0,\n",
    "           cmap=cmap, square=True, linewidths=.5, cbar_kws={\"shrink\": .5})"
   ]
  },
  {
   "cell_type": "code",
   "execution_count": 267,
   "metadata": {},
   "outputs": [
    {
     "data": {
      "text/html": [
       "<div>\n",
       "<style scoped>\n",
       "    .dataframe tbody tr th:only-of-type {\n",
       "        vertical-align: middle;\n",
       "    }\n",
       "\n",
       "    .dataframe tbody tr th {\n",
       "        vertical-align: top;\n",
       "    }\n",
       "\n",
       "    .dataframe thead th {\n",
       "        text-align: right;\n",
       "    }\n",
       "</style>\n",
       "<table border=\"1\" class=\"dataframe\">\n",
       "  <thead>\n",
       "    <tr style=\"text-align: right;\">\n",
       "      <th></th>\n",
       "      <th>price</th>\n",
       "      <th>se</th>\n",
       "      <th>eco</th>\n",
       "      <th>sport</th>\n",
       "      <th>m_sport</th>\n",
       "      <th>lux</th>\n",
       "      <th>sat_nav</th>\n",
       "      <th>bluetooth</th>\n",
       "      <th>leather</th>\n",
       "      <th>three_door</th>\n",
       "    </tr>\n",
       "  </thead>\n",
       "  <tbody>\n",
       "    <tr>\n",
       "      <th>price</th>\n",
       "      <td>1.000000</td>\n",
       "      <td>0.130072</td>\n",
       "      <td>-0.133563</td>\n",
       "      <td>0.211362</td>\n",
       "      <td>0.329845</td>\n",
       "      <td>0.029378</td>\n",
       "      <td>-0.166468</td>\n",
       "      <td>-0.145143</td>\n",
       "      <td>0.013180</td>\n",
       "      <td>0.012887</td>\n",
       "    </tr>\n",
       "    <tr>\n",
       "      <th>se</th>\n",
       "      <td>0.130072</td>\n",
       "      <td>1.000000</td>\n",
       "      <td>-0.101017</td>\n",
       "      <td>0.449339</td>\n",
       "      <td>0.510230</td>\n",
       "      <td>-0.056581</td>\n",
       "      <td>-0.024638</td>\n",
       "      <td>-0.088939</td>\n",
       "      <td>0.111465</td>\n",
       "      <td>0.071233</td>\n",
       "    </tr>\n",
       "    <tr>\n",
       "      <th>eco</th>\n",
       "      <td>-0.133563</td>\n",
       "      <td>-0.101017</td>\n",
       "      <td>1.000000</td>\n",
       "      <td>-0.099669</td>\n",
       "      <td>-0.051542</td>\n",
       "      <td>-0.007889</td>\n",
       "      <td>-0.035794</td>\n",
       "      <td>-0.014941</td>\n",
       "      <td>-0.014941</td>\n",
       "      <td>-0.007196</td>\n",
       "    </tr>\n",
       "    <tr>\n",
       "      <th>sport</th>\n",
       "      <td>0.211362</td>\n",
       "      <td>0.449339</td>\n",
       "      <td>-0.099669</td>\n",
       "      <td>1.000000</td>\n",
       "      <td>0.517130</td>\n",
       "      <td>-0.055127</td>\n",
       "      <td>0.016424</td>\n",
       "      <td>-0.122568</td>\n",
       "      <td>0.095408</td>\n",
       "      <td>0.072196</td>\n",
       "    </tr>\n",
       "    <tr>\n",
       "      <th>m_sport</th>\n",
       "      <td>0.329845</td>\n",
       "      <td>0.510230</td>\n",
       "      <td>-0.051542</td>\n",
       "      <td>0.517130</td>\n",
       "      <td>1.000000</td>\n",
       "      <td>-0.063227</td>\n",
       "      <td>-0.069852</td>\n",
       "      <td>-0.080733</td>\n",
       "      <td>0.192345</td>\n",
       "      <td>0.021241</td>\n",
       "    </tr>\n",
       "    <tr>\n",
       "      <th>lux</th>\n",
       "      <td>0.029378</td>\n",
       "      <td>-0.056581</td>\n",
       "      <td>-0.007889</td>\n",
       "      <td>-0.055127</td>\n",
       "      <td>-0.063227</td>\n",
       "      <td>1.000000</td>\n",
       "      <td>0.000141</td>\n",
       "      <td>-0.018328</td>\n",
       "      <td>0.072730</td>\n",
       "      <td>-0.008827</td>\n",
       "    </tr>\n",
       "    <tr>\n",
       "      <th>sat_nav</th>\n",
       "      <td>-0.166468</td>\n",
       "      <td>-0.024638</td>\n",
       "      <td>-0.035794</td>\n",
       "      <td>0.016424</td>\n",
       "      <td>-0.069852</td>\n",
       "      <td>0.000141</td>\n",
       "      <td>1.000000</td>\n",
       "      <td>0.012185</td>\n",
       "      <td>-0.011652</td>\n",
       "      <td>-0.040052</td>\n",
       "    </tr>\n",
       "    <tr>\n",
       "      <th>bluetooth</th>\n",
       "      <td>-0.145143</td>\n",
       "      <td>-0.088939</td>\n",
       "      <td>-0.014941</td>\n",
       "      <td>-0.122568</td>\n",
       "      <td>-0.080733</td>\n",
       "      <td>-0.018328</td>\n",
       "      <td>0.012185</td>\n",
       "      <td>1.000000</td>\n",
       "      <td>-0.034711</td>\n",
       "      <td>-0.016717</td>\n",
       "    </tr>\n",
       "    <tr>\n",
       "      <th>leather</th>\n",
       "      <td>0.013180</td>\n",
       "      <td>0.111465</td>\n",
       "      <td>-0.014941</td>\n",
       "      <td>0.095408</td>\n",
       "      <td>0.192345</td>\n",
       "      <td>0.072730</td>\n",
       "      <td>-0.011652</td>\n",
       "      <td>-0.034711</td>\n",
       "      <td>1.000000</td>\n",
       "      <td>-0.016717</td>\n",
       "    </tr>\n",
       "    <tr>\n",
       "      <th>three_door</th>\n",
       "      <td>0.012887</td>\n",
       "      <td>0.071233</td>\n",
       "      <td>-0.007196</td>\n",
       "      <td>0.072196</td>\n",
       "      <td>0.021241</td>\n",
       "      <td>-0.008827</td>\n",
       "      <td>-0.040052</td>\n",
       "      <td>-0.016717</td>\n",
       "      <td>-0.016717</td>\n",
       "      <td>1.000000</td>\n",
       "    </tr>\n",
       "  </tbody>\n",
       "</table>\n",
       "</div>"
      ],
      "text/plain": [
       "               price        se       eco     sport   m_sport       lux  \\\n",
       "price       1.000000  0.130072 -0.133563  0.211362  0.329845  0.029378   \n",
       "se          0.130072  1.000000 -0.101017  0.449339  0.510230 -0.056581   \n",
       "eco        -0.133563 -0.101017  1.000000 -0.099669 -0.051542 -0.007889   \n",
       "sport       0.211362  0.449339 -0.099669  1.000000  0.517130 -0.055127   \n",
       "m_sport     0.329845  0.510230 -0.051542  0.517130  1.000000 -0.063227   \n",
       "lux         0.029378 -0.056581 -0.007889 -0.055127 -0.063227  1.000000   \n",
       "sat_nav    -0.166468 -0.024638 -0.035794  0.016424 -0.069852  0.000141   \n",
       "bluetooth  -0.145143 -0.088939 -0.014941 -0.122568 -0.080733 -0.018328   \n",
       "leather     0.013180  0.111465 -0.014941  0.095408  0.192345  0.072730   \n",
       "three_door  0.012887  0.071233 -0.007196  0.072196  0.021241 -0.008827   \n",
       "\n",
       "             sat_nav  bluetooth   leather  three_door  \n",
       "price      -0.166468  -0.145143  0.013180    0.012887  \n",
       "se         -0.024638  -0.088939  0.111465    0.071233  \n",
       "eco        -0.035794  -0.014941 -0.014941   -0.007196  \n",
       "sport       0.016424  -0.122568  0.095408    0.072196  \n",
       "m_sport    -0.069852  -0.080733  0.192345    0.021241  \n",
       "lux         0.000141  -0.018328  0.072730   -0.008827  \n",
       "sat_nav     1.000000   0.012185 -0.011652   -0.040052  \n",
       "bluetooth   0.012185   1.000000 -0.034711   -0.016717  \n",
       "leather    -0.011652  -0.034711  1.000000   -0.016717  \n",
       "three_door -0.040052  -0.016717 -0.016717    1.000000  "
      ]
     },
     "execution_count": 267,
     "metadata": {},
     "output_type": "execute_result"
    }
   ],
   "source": [
    "bool_features = ['price', 'se', 'eco', 'sport', 'm_sport', 'lux', 'sat_nav',\n",
    "                 'bluetooth', 'leather', 'three_door']\n",
    "df[bool_features].corr()"
   ]
  },
  {
   "cell_type": "code",
   "execution_count": 268,
   "metadata": {},
   "outputs": [
    {
     "data": {
      "text/plain": [
       "<matplotlib.axes._subplots.AxesSubplot at 0x15f8d75e438>"
      ]
     },
     "execution_count": 268,
     "metadata": {},
     "output_type": "execute_result"
    },
    {
     "data": {
      "image/png": "[encoded data removed]",
      "text/plain": [
       "<Figure size 432x288 with 2 Axes>"
      ]
     },
     "metadata": {
      "needs_background": "light"
     },
     "output_type": "display_data"
    }
   ],
   "source": [
    "cmap = sns.diverging_palette(220, 10, as_cmap=True)\n",
    "sns.heatmap(df[bool_features].corr(),vmax=.3, center=0,\n",
    "           cmap=cmap, square=True, linewidths=.5, cbar_kws={\"shrink\": .5})"
   ]
  },
  {
   "cell_type": "code",
   "execution_count": 263,
   "metadata": {},
   "outputs": [],
   "source": [
    "# Create bar chart on categorical features\n",
    "df_cat = categorical_features + bool_features"
   ]
  },
  {
   "cell_type": "code",
   "execution_count": 238,
   "metadata": {},
   "outputs": [
    {
     "name": "stdout",
     "output_type": "stream",
     "text": [
      "graph for ULEZ: total = 2\n"
     ]
    },
    {
     "data": {
      "image/png": "[encoded data removed]",
      "text/plain": [
       "<Figure size 432x288 with 1 Axes>"
      ]
     },
     "metadata": {
      "needs_background": "light"
     },
     "output_type": "display_data"
    },
    {
     "name": "stdout",
     "output_type": "stream",
     "text": [
      "graph for body: total = 3\n"
     ]
    },
    {
     "data": {
      "image/png": "[encoded data removed]",
      "text/plain": [
       "<Figure size 432x288 with 1 Axes>"
      ]
     },
     "metadata": {
      "needs_background": "light"
     },
     "output_type": "display_data"
    },
    {
     "name": "stdout",
     "output_type": "stream",
     "text": [
      "graph for fuel: total = 5\n"
     ]
    },
    {
     "data": {
      "image/png": "[encoded data removed]",
      "text/plain": [
       "<Figure size 432x288 with 1 Axes>"
      ]
     },
     "metadata": {
      "needs_background": "light"
     },
     "output_type": "display_data"
    },
    {
     "name": "stdout",
     "output_type": "stream",
     "text": [
      "graph for name: total = 380\n"
     ]
    },
    {
     "data": {
      "image/png": "[encoded data removed]",
      "text/plain": [
       "<Figure size 432x288 with 1 Axes>"
      ]
     },
     "metadata": {
      "needs_background": "light"
     },
     "output_type": "display_data"
    },
    {
     "name": "stdout",
     "output_type": "stream",
     "text": [
      "graph for transmission: total = 2\n"
     ]
    },
    {
     "data": {
      "image/png": "[encoded data removed]",
      "text/plain": [
       "<Figure size 432x288 with 1 Axes>"
      ]
     },
     "metadata": {
      "needs_background": "light"
     },
     "output_type": "display_data"
    },
    {
     "name": "stdout",
     "output_type": "stream",
     "text": [
      "graph for make: total = 5\n"
     ]
    },
    {
     "data": {
      "image/png": "[encoded data removed]",
      "text/plain": [
       "<Figure size 432x288 with 1 Axes>"
      ]
     },
     "metadata": {
      "needs_background": "light"
     },
     "output_type": "display_data"
    },
    {
     "name": "stdout",
     "output_type": "stream",
     "text": [
      "graph for model: total = 6\n"
     ]
    },
    {
     "data": {
      "image/png": "[encoded data removed]",
      "text/plain": [
       "<Figure size 432x288 with 1 Axes>"
      ]
     },
     "metadata": {
      "needs_background": "light"
     },
     "output_type": "display_data"
    },
    {
     "name": "stdout",
     "output_type": "stream",
     "text": [
      "graph for year_reg: total = 13\n"
     ]
    },
    {
     "data": {
      "image/png": "[encoded data removed]",
      "text/plain": [
       "<Figure size 432x288 with 1 Axes>"
      ]
     },
     "metadata": {
      "needs_background": "light"
     },
     "output_type": "display_data"
    },
    {
     "name": "stdout",
     "output_type": "stream",
     "text": [
      "graph for se: total = 2\n"
     ]
    },
    {
     "data": {
      "image/png": "[encoded data removed]",
      "text/plain": [
       "<Figure size 432x288 with 1 Axes>"
      ]
     },
     "metadata": {
      "needs_background": "light"
     },
     "output_type": "display_data"
    },
    {
     "name": "stdout",
     "output_type": "stream",
     "text": [
      "graph for eco: total = 2\n"
     ]
    },
    {
     "data": {
      "image/png": "[encoded data removed]",
      "text/plain": [
       "<Figure size 432x288 with 1 Axes>"
      ]
     },
     "metadata": {
      "needs_background": "light"
     },
     "output_type": "display_data"
    },
    {
     "name": "stdout",
     "output_type": "stream",
     "text": [
      "graph for sport: total = 2\n"
     ]
    },
    {
     "data": {
      "image/png": "[encoded data removed]",
      "text/plain": [
       "<Figure size 432x288 with 1 Axes>"
      ]
     },
     "metadata": {
      "needs_background": "light"
     },
     "output_type": "display_data"
    },
    {
     "name": "stdout",
     "output_type": "stream",
     "text": [
      "graph for m_sport: total = 2\n"
     ]
    },
    {
     "data": {
      "image/png": "[encoded data removed]",
      "text/plain": [
       "<Figure size 432x288 with 1 Axes>"
      ]
     },
     "metadata": {
      "needs_background": "light"
     },
     "output_type": "display_data"
    },
    {
     "name": "stdout",
     "output_type": "stream",
     "text": [
      "graph for lux: total = 2\n"
     ]
    },
    {
     "data": {
      "image/png": "[encoded data removed]",
      "text/plain": [
       "<Figure size 432x288 with 1 Axes>"
      ]
     },
     "metadata": {
      "needs_background": "light"
     },
     "output_type": "display_data"
    },
    {
     "name": "stdout",
     "output_type": "stream",
     "text": [
      "graph for sat_nav: total = 2\n"
     ]
    },
    {
     "data": {
      "image/png": "[encoded data removed]",
      "text/plain": [
       "<Figure size 432x288 with 1 Axes>"
      ]
     },
     "metadata": {
      "needs_background": "light"
     },
     "output_type": "display_data"
    },
    {
     "name": "stdout",
     "output_type": "stream",
     "text": [
      "graph for bluetooth: total = 2\n"
     ]
    },
    {
     "data": {
      "image/png": "[encoded data removed]",
      "text/plain": [
       "<Figure size 432x288 with 1 Axes>"
      ]
     },
     "metadata": {
      "needs_background": "light"
     },
     "output_type": "display_data"
    },
    {
     "name": "stdout",
     "output_type": "stream",
     "text": [
      "graph for leather: total = 2\n"
     ]
    },
    {
     "data": {
      "image/png": "[encoded data removed]",
      "text/plain": [
       "<Figure size 432x288 with 1 Axes>"
      ]
     },
     "metadata": {
      "needs_background": "light"
     },
     "output_type": "display_data"
    },
    {
     "name": "stdout",
     "output_type": "stream",
     "text": [
      "graph for three_door: total = 2\n"
     ]
    },
    {
     "data": {
      "image/png": "[encoded data removed]",
      "text/plain": [
       "<Figure size 432x288 with 1 Axes>"
      ]
     },
     "metadata": {
      "needs_background": "light"
     },
     "output_type": "display_data"
    }
   ],
   "source": [
    "for feature in df_cat:\n",
    "    cat_num = df[feature].value_counts()\n",
    "    print(\"graph for %s: total = %d\" % (feature, len(cat_num)))\n",
    "    chart = sns.barplot(x=cat_num.index, y=cat_num)\n",
    "    chart.set_xticklabels(chart.get_xticklabels(), rotation=90)\n",
    "    plt.show()"
   ]
  },
  {
   "cell_type": "code",
   "execution_count": 241,
   "metadata": {},
   "outputs": [
    {
     "data": {
      "text/html": [
       "<div>\n",
       "<style scoped>\n",
       "    .dataframe tbody tr th:only-of-type {\n",
       "        vertical-align: middle;\n",
       "    }\n",
       "\n",
       "    .dataframe tbody tr th {\n",
       "        vertical-align: top;\n",
       "    }\n",
       "\n",
       "    .dataframe thead th {\n",
       "        text-align: right;\n",
       "    }\n",
       "</style>\n",
       "<table border=\"1\" class=\"dataframe\">\n",
       "  <thead>\n",
       "    <tr style=\"text-align: right;\">\n",
       "      <th></th>\n",
       "      <th></th>\n",
       "      <th>price</th>\n",
       "    </tr>\n",
       "    <tr>\n",
       "      <th>make</th>\n",
       "      <th>model</th>\n",
       "      <th></th>\n",
       "    </tr>\n",
       "  </thead>\n",
       "  <tbody>\n",
       "    <tr>\n",
       "      <th>Audi</th>\n",
       "      <th>A3</th>\n",
       "      <td>16630.710383</td>\n",
       "    </tr>\n",
       "    <tr>\n",
       "      <th rowspan=\"2\" valign=\"top\">BMW</th>\n",
       "      <th>1</th>\n",
       "      <td>14690.855721</td>\n",
       "    </tr>\n",
       "    <tr>\n",
       "      <th>BMW3</th>\n",
       "      <td>19683.764286</td>\n",
       "    </tr>\n",
       "    <tr>\n",
       "      <th>Fiat</th>\n",
       "      <th>500</th>\n",
       "      <td>7725.151515</td>\n",
       "    </tr>\n",
       "    <tr>\n",
       "      <th>Lexus</th>\n",
       "      <th>CT</th>\n",
       "      <td>18438.846154</td>\n",
       "    </tr>\n",
       "    <tr>\n",
       "      <th>Mazda</th>\n",
       "      <th>Mazda3</th>\n",
       "      <td>16105.391304</td>\n",
       "    </tr>\n",
       "  </tbody>\n",
       "</table>\n",
       "</div>"
      ],
      "text/plain": [
       "                     price\n",
       "make  model               \n",
       "Audi  A3      16630.710383\n",
       "BMW   1       14690.855721\n",
       "      BMW3    19683.764286\n",
       "Fiat  500      7725.151515\n",
       "Lexus CT      18438.846154\n",
       "Mazda Mazda3  16105.391304"
      ]
     },
     "execution_count": 241,
     "metadata": {},
     "output_type": "execute_result"
    }
   ],
   "source": [
    "# pivot tables\n",
    "pd.pivot_table(df, index = [\"make\",\"model\"], values = \"price\")"
   ]
  },
  {
   "cell_type": "code",
   "execution_count": 245,
   "metadata": {},
   "outputs": [
    {
     "data": {
      "text/html": [
       "<div>\n",
       "<style scoped>\n",
       "    .dataframe tbody tr th:only-of-type {\n",
       "        vertical-align: middle;\n",
       "    }\n",
       "\n",
       "    .dataframe tbody tr th {\n",
       "        vertical-align: top;\n",
       "    }\n",
       "\n",
       "    .dataframe thead th {\n",
       "        text-align: right;\n",
       "    }\n",
       "</style>\n",
       "<table border=\"1\" class=\"dataframe\">\n",
       "  <thead>\n",
       "    <tr style=\"text-align: right;\">\n",
       "      <th></th>\n",
       "      <th></th>\n",
       "      <th>price</th>\n",
       "    </tr>\n",
       "    <tr>\n",
       "      <th>year_reg</th>\n",
       "      <th>model</th>\n",
       "      <th></th>\n",
       "    </tr>\n",
       "  </thead>\n",
       "  <tbody>\n",
       "    <tr>\n",
       "      <th rowspan=\"4\" valign=\"top\">70 reg</th>\n",
       "      <th>CT</th>\n",
       "      <td>4</td>\n",
       "    </tr>\n",
       "    <tr>\n",
       "      <th>BMW3</th>\n",
       "      <td>6</td>\n",
       "    </tr>\n",
       "    <tr>\n",
       "      <th>A3</th>\n",
       "      <td>14</td>\n",
       "    </tr>\n",
       "    <tr>\n",
       "      <th>1</th>\n",
       "      <td>1</td>\n",
       "    </tr>\n",
       "    <tr>\n",
       "      <th rowspan=\"5\" valign=\"top\">69 reg</th>\n",
       "      <th>A3</th>\n",
       "      <td>6</td>\n",
       "    </tr>\n",
       "    <tr>\n",
       "      <th>1</th>\n",
       "      <td>8</td>\n",
       "    </tr>\n",
       "    <tr>\n",
       "      <th>500</th>\n",
       "      <td>10</td>\n",
       "    </tr>\n",
       "    <tr>\n",
       "      <th>BMW3</th>\n",
       "      <td>9</td>\n",
       "    </tr>\n",
       "    <tr>\n",
       "      <th>Mazda3</th>\n",
       "      <td>10</td>\n",
       "    </tr>\n",
       "    <tr>\n",
       "      <th rowspan=\"5\" valign=\"top\">68 reg</th>\n",
       "      <th>CT</th>\n",
       "      <td>1</td>\n",
       "    </tr>\n",
       "    <tr>\n",
       "      <th>BMW3</th>\n",
       "      <td>6</td>\n",
       "    </tr>\n",
       "    <tr>\n",
       "      <th>A3</th>\n",
       "      <td>11</td>\n",
       "    </tr>\n",
       "    <tr>\n",
       "      <th>500</th>\n",
       "      <td>4</td>\n",
       "    </tr>\n",
       "    <tr>\n",
       "      <th>1</th>\n",
       "      <td>10</td>\n",
       "    </tr>\n",
       "    <tr>\n",
       "      <th rowspan=\"6\" valign=\"top\">67 reg</th>\n",
       "      <th>A3</th>\n",
       "      <td>29</td>\n",
       "    </tr>\n",
       "    <tr>\n",
       "      <th>1</th>\n",
       "      <td>39</td>\n",
       "    </tr>\n",
       "    <tr>\n",
       "      <th>500</th>\n",
       "      <td>11</td>\n",
       "    </tr>\n",
       "    <tr>\n",
       "      <th>Mazda3</th>\n",
       "      <td>5</td>\n",
       "    </tr>\n",
       "    <tr>\n",
       "      <th>BMW3</th>\n",
       "      <td>22</td>\n",
       "    </tr>\n",
       "    <tr>\n",
       "      <th>CT</th>\n",
       "      <td>2</td>\n",
       "    </tr>\n",
       "    <tr>\n",
       "      <th rowspan=\"5\" valign=\"top\">66 reg</th>\n",
       "      <th>CT</th>\n",
       "      <td>1</td>\n",
       "    </tr>\n",
       "    <tr>\n",
       "      <th>BMW3</th>\n",
       "      <td>14</td>\n",
       "    </tr>\n",
       "    <tr>\n",
       "      <th>A3</th>\n",
       "      <td>30</td>\n",
       "    </tr>\n",
       "    <tr>\n",
       "      <th>500</th>\n",
       "      <td>5</td>\n",
       "    </tr>\n",
       "    <tr>\n",
       "      <th>1</th>\n",
       "      <td>27</td>\n",
       "    </tr>\n",
       "    <tr>\n",
       "      <th rowspan=\"4\" valign=\"top\">65 reg</th>\n",
       "      <th>BMW3</th>\n",
       "      <td>11</td>\n",
       "    </tr>\n",
       "    <tr>\n",
       "      <th>A3</th>\n",
       "      <td>9</td>\n",
       "    </tr>\n",
       "    <tr>\n",
       "      <th>500</th>\n",
       "      <td>6</td>\n",
       "    </tr>\n",
       "    <tr>\n",
       "      <th>1</th>\n",
       "      <td>19</td>\n",
       "    </tr>\n",
       "    <tr>\n",
       "      <th>64 reg</th>\n",
       "      <th>1</th>\n",
       "      <td>1</td>\n",
       "    </tr>\n",
       "    <tr>\n",
       "      <th>...</th>\n",
       "      <th>...</th>\n",
       "      <td>...</td>\n",
       "    </tr>\n",
       "    <tr>\n",
       "      <th rowspan=\"4\" valign=\"top\">20 reg</th>\n",
       "      <th>A3</th>\n",
       "      <td>4</td>\n",
       "    </tr>\n",
       "    <tr>\n",
       "      <th>500</th>\n",
       "      <td>1</td>\n",
       "    </tr>\n",
       "    <tr>\n",
       "      <th>1</th>\n",
       "      <td>2</td>\n",
       "    </tr>\n",
       "    <tr>\n",
       "      <th>BMW3</th>\n",
       "      <td>2</td>\n",
       "    </tr>\n",
       "    <tr>\n",
       "      <th rowspan=\"5\" valign=\"top\">19 reg</th>\n",
       "      <th>CT</th>\n",
       "      <td>3</td>\n",
       "    </tr>\n",
       "    <tr>\n",
       "      <th>BMW3</th>\n",
       "      <td>5</td>\n",
       "    </tr>\n",
       "    <tr>\n",
       "      <th>A3</th>\n",
       "      <td>9</td>\n",
       "    </tr>\n",
       "    <tr>\n",
       "      <th>500</th>\n",
       "      <td>5</td>\n",
       "    </tr>\n",
       "    <tr>\n",
       "      <th>1</th>\n",
       "      <td>7</td>\n",
       "    </tr>\n",
       "    <tr>\n",
       "      <th rowspan=\"6\" valign=\"top\">18 reg</th>\n",
       "      <th>1</th>\n",
       "      <td>10</td>\n",
       "    </tr>\n",
       "    <tr>\n",
       "      <th>BMW3</th>\n",
       "      <td>20</td>\n",
       "    </tr>\n",
       "    <tr>\n",
       "      <th>500</th>\n",
       "      <td>4</td>\n",
       "    </tr>\n",
       "    <tr>\n",
       "      <th>A3</th>\n",
       "      <td>19</td>\n",
       "    </tr>\n",
       "    <tr>\n",
       "      <th>CT</th>\n",
       "      <td>1</td>\n",
       "    </tr>\n",
       "    <tr>\n",
       "      <th>Mazda3</th>\n",
       "      <td>4</td>\n",
       "    </tr>\n",
       "    <tr>\n",
       "      <th rowspan=\"5\" valign=\"top\">17 reg</th>\n",
       "      <th>Mazda3</th>\n",
       "      <td>2</td>\n",
       "    </tr>\n",
       "    <tr>\n",
       "      <th>BMW3</th>\n",
       "      <td>26</td>\n",
       "    </tr>\n",
       "    <tr>\n",
       "      <th>A3</th>\n",
       "      <td>35</td>\n",
       "    </tr>\n",
       "    <tr>\n",
       "      <th>500</th>\n",
       "      <td>7</td>\n",
       "    </tr>\n",
       "    <tr>\n",
       "      <th>1</th>\n",
       "      <td>53</td>\n",
       "    </tr>\n",
       "    <tr>\n",
       "      <th rowspan=\"6\" valign=\"top\">16 reg</th>\n",
       "      <th>Mazda3</th>\n",
       "      <td>1</td>\n",
       "    </tr>\n",
       "    <tr>\n",
       "      <th>CT</th>\n",
       "      <td>1</td>\n",
       "    </tr>\n",
       "    <tr>\n",
       "      <th>BMW3</th>\n",
       "      <td>13</td>\n",
       "    </tr>\n",
       "    <tr>\n",
       "      <th>A3</th>\n",
       "      <td>6</td>\n",
       "    </tr>\n",
       "    <tr>\n",
       "      <th>500</th>\n",
       "      <td>8</td>\n",
       "    </tr>\n",
       "    <tr>\n",
       "      <th>1</th>\n",
       "      <td>16</td>\n",
       "    </tr>\n",
       "    <tr>\n",
       "      <th rowspan=\"4\" valign=\"top\">15 reg</th>\n",
       "      <th>A3</th>\n",
       "      <td>11</td>\n",
       "    </tr>\n",
       "    <tr>\n",
       "      <th>500</th>\n",
       "      <td>5</td>\n",
       "    </tr>\n",
       "    <tr>\n",
       "      <th>BMW3</th>\n",
       "      <td>6</td>\n",
       "    </tr>\n",
       "    <tr>\n",
       "      <th>1</th>\n",
       "      <td>8</td>\n",
       "    </tr>\n",
       "  </tbody>\n",
       "</table>\n",
       "<p>61 rows × 1 columns</p>\n",
       "</div>"
      ],
      "text/plain": [
       "                 price\n",
       "year_reg model        \n",
       "70 reg   CT          4\n",
       "         BMW3        6\n",
       "         A3         14\n",
       "         1           1\n",
       "69 reg   A3          6\n",
       "         1           8\n",
       "         500        10\n",
       "         BMW3        9\n",
       "         Mazda3     10\n",
       "68 reg   CT          1\n",
       "         BMW3        6\n",
       "         A3         11\n",
       "         500         4\n",
       "         1          10\n",
       "67 reg   A3         29\n",
       "         1          39\n",
       "         500        11\n",
       "         Mazda3      5\n",
       "         BMW3       22\n",
       "         CT          2\n",
       "66 reg   CT          1\n",
       "         BMW3       14\n",
       "         A3         30\n",
       "         500         5\n",
       "         1          27\n",
       "65 reg   BMW3       11\n",
       "         A3          9\n",
       "         500         6\n",
       "         1          19\n",
       "64 reg   1           1\n",
       "...                ...\n",
       "20 reg   A3          4\n",
       "         500         1\n",
       "         1           2\n",
       "         BMW3        2\n",
       "19 reg   CT          3\n",
       "         BMW3        5\n",
       "         A3          9\n",
       "         500         5\n",
       "         1           7\n",
       "18 reg   1          10\n",
       "         BMW3       20\n",
       "         500         4\n",
       "         A3         19\n",
       "         CT          1\n",
       "         Mazda3      4\n",
       "17 reg   Mazda3      2\n",
       "         BMW3       26\n",
       "         A3         35\n",
       "         500         7\n",
       "         1          53\n",
       "16 reg   Mazda3      1\n",
       "         CT          1\n",
       "         BMW3       13\n",
       "         A3          6\n",
       "         500         8\n",
       "         1          16\n",
       "15 reg   A3         11\n",
       "         500         5\n",
       "         BMW3        6\n",
       "         1           8\n",
       "\n",
       "[61 rows x 1 columns]"
      ]
     },
     "execution_count": 245,
     "metadata": {},
     "output_type": "execute_result"
    }
   ],
   "source": [
    "pd.pivot_table(df, index = [\"year_reg\", \"model\"], values = \"price\", aggfunc = \"count\").sort_values(\"year_reg\", ascending = False)"
   ]
  },
  {
   "cell_type": "code",
   "execution_count": 248,
   "metadata": {},
   "outputs": [
    {
     "data": {
      "text/html": [
       "<div>\n",
       "<style scoped>\n",
       "    .dataframe tbody tr th:only-of-type {\n",
       "        vertical-align: middle;\n",
       "    }\n",
       "\n",
       "    .dataframe tbody tr th {\n",
       "        vertical-align: top;\n",
       "    }\n",
       "\n",
       "    .dataframe thead th {\n",
       "        text-align: right;\n",
       "    }\n",
       "</style>\n",
       "<table border=\"1\" class=\"dataframe\">\n",
       "  <thead>\n",
       "    <tr style=\"text-align: right;\">\n",
       "      <th></th>\n",
       "      <th>price</th>\n",
       "    </tr>\n",
       "    <tr>\n",
       "      <th>year_reg</th>\n",
       "      <th></th>\n",
       "    </tr>\n",
       "  </thead>\n",
       "  <tbody>\n",
       "    <tr>\n",
       "      <th>70 reg</th>\n",
       "      <td>40250.000000</td>\n",
       "    </tr>\n",
       "    <tr>\n",
       "      <th>20 reg</th>\n",
       "      <td>29562.500000</td>\n",
       "    </tr>\n",
       "    <tr>\n",
       "      <th>69 reg</th>\n",
       "      <td>26236.764706</td>\n",
       "    </tr>\n",
       "    <tr>\n",
       "      <th>19 reg</th>\n",
       "      <td>23072.833333</td>\n",
       "    </tr>\n",
       "    <tr>\n",
       "      <th>18 reg</th>\n",
       "      <td>18172.300000</td>\n",
       "    </tr>\n",
       "    <tr>\n",
       "      <th>68 reg</th>\n",
       "      <td>17465.625000</td>\n",
       "    </tr>\n",
       "    <tr>\n",
       "      <th>67 reg</th>\n",
       "      <td>16071.622951</td>\n",
       "    </tr>\n",
       "    <tr>\n",
       "      <th>66 reg</th>\n",
       "      <td>15465.463415</td>\n",
       "    </tr>\n",
       "    <tr>\n",
       "      <th>17 reg</th>\n",
       "      <td>14852.367089</td>\n",
       "    </tr>\n",
       "    <tr>\n",
       "      <th>16 reg</th>\n",
       "      <td>14074.724138</td>\n",
       "    </tr>\n",
       "    <tr>\n",
       "      <th>65 reg</th>\n",
       "      <td>12812.500000</td>\n",
       "    </tr>\n",
       "    <tr>\n",
       "      <th>15 reg</th>\n",
       "      <td>12346.357143</td>\n",
       "    </tr>\n",
       "    <tr>\n",
       "      <th>64 reg</th>\n",
       "      <td>7890.000000</td>\n",
       "    </tr>\n",
       "  </tbody>\n",
       "</table>\n",
       "</div>"
      ],
      "text/plain": [
       "                 price\n",
       "year_reg              \n",
       "70 reg    40250.000000\n",
       "20 reg    29562.500000\n",
       "69 reg    26236.764706\n",
       "19 reg    23072.833333\n",
       "18 reg    18172.300000\n",
       "68 reg    17465.625000\n",
       "67 reg    16071.622951\n",
       "66 reg    15465.463415\n",
       "17 reg    14852.367089\n",
       "16 reg    14074.724138\n",
       "65 reg    12812.500000\n",
       "15 reg    12346.357143\n",
       "64 reg     7890.000000"
      ]
     },
     "execution_count": 248,
     "metadata": {},
     "output_type": "execute_result"
    }
   ],
   "source": [
    "pd.pivot_table(df[df.make==\"BMW\"], index = [\"year_reg\"], values = \"price\").sort_values(\"price\", ascending = False)"
   ]
  },
  {
   "cell_type": "code",
   "execution_count": 252,
   "metadata": {},
   "outputs": [
    {
     "data": {
      "text/html": [
       "<div>\n",
       "<style scoped>\n",
       "    .dataframe tbody tr th:only-of-type {\n",
       "        vertical-align: middle;\n",
       "    }\n",
       "\n",
       "    .dataframe tbody tr th {\n",
       "        vertical-align: top;\n",
       "    }\n",
       "\n",
       "    .dataframe thead th {\n",
       "        text-align: right;\n",
       "    }\n",
       "</style>\n",
       "<table border=\"1\" class=\"dataframe\">\n",
       "  <thead>\n",
       "    <tr style=\"text-align: right;\">\n",
       "      <th></th>\n",
       "      <th></th>\n",
       "      <th>price</th>\n",
       "    </tr>\n",
       "    <tr>\n",
       "      <th>fuel</th>\n",
       "      <th>transmission</th>\n",
       "      <th></th>\n",
       "    </tr>\n",
       "  </thead>\n",
       "  <tbody>\n",
       "    <tr>\n",
       "      <th rowspan=\"2\" valign=\"top\">Diesel</th>\n",
       "      <th>Automatic</th>\n",
       "      <td>18274.781690</td>\n",
       "    </tr>\n",
       "    <tr>\n",
       "      <th>Manual</th>\n",
       "      <td>13416.037736</td>\n",
       "    </tr>\n",
       "    <tr>\n",
       "      <th>Hybrid – Diesel/Electric</th>\n",
       "      <th>Automatic</th>\n",
       "      <td>53000.000000</td>\n",
       "    </tr>\n",
       "    <tr>\n",
       "      <th>Hybrid – Petrol/Electric</th>\n",
       "      <th>Automatic</th>\n",
       "      <td>18438.846154</td>\n",
       "    </tr>\n",
       "    <tr>\n",
       "      <th>Hybrid – Petrol/Electric Plug-in</th>\n",
       "      <th>Automatic</th>\n",
       "      <td>22268.750000</td>\n",
       "    </tr>\n",
       "    <tr>\n",
       "      <th rowspan=\"2\" valign=\"top\">Petrol</th>\n",
       "      <th>Automatic</th>\n",
       "      <td>19693.953704</td>\n",
       "    </tr>\n",
       "    <tr>\n",
       "      <th>Manual</th>\n",
       "      <td>12863.623037</td>\n",
       "    </tr>\n",
       "  </tbody>\n",
       "</table>\n",
       "</div>"
      ],
      "text/plain": [
       "                                                      price\n",
       "fuel                             transmission              \n",
       "Diesel                           Automatic     18274.781690\n",
       "                                 Manual        13416.037736\n",
       "Hybrid – Diesel/Electric         Automatic     53000.000000\n",
       "Hybrid – Petrol/Electric         Automatic     18438.846154\n",
       "Hybrid – Petrol/Electric Plug-in Automatic     22268.750000\n",
       "Petrol                           Automatic     19693.953704\n",
       "                                 Manual        12863.623037"
      ]
     },
     "execution_count": 252,
     "metadata": {},
     "output_type": "execute_result"
    }
   ],
   "source": [
    "pd.pivot_table(df, index = [\"fuel\",\"transmission\"], values = \"price\")"
   ]
  },
  {
   "cell_type": "code",
   "execution_count": 260,
   "metadata": {},
   "outputs": [
    {
     "data": {
      "text/html": [
       "<div>\n",
       "<style scoped>\n",
       "    .dataframe tbody tr th:only-of-type {\n",
       "        vertical-align: middle;\n",
       "    }\n",
       "\n",
       "    .dataframe tbody tr th {\n",
       "        vertical-align: top;\n",
       "    }\n",
       "\n",
       "    .dataframe thead th {\n",
       "        text-align: right;\n",
       "    }\n",
       "</style>\n",
       "<table border=\"1\" class=\"dataframe\">\n",
       "  <thead>\n",
       "    <tr style=\"text-align: right;\">\n",
       "      <th>leather</th>\n",
       "      <th>0</th>\n",
       "      <th>1</th>\n",
       "    </tr>\n",
       "    <tr>\n",
       "      <th>model</th>\n",
       "      <th></th>\n",
       "      <th></th>\n",
       "    </tr>\n",
       "  </thead>\n",
       "  <tbody>\n",
       "    <tr>\n",
       "      <th>1</th>\n",
       "      <td>197.0</td>\n",
       "      <td>4.0</td>\n",
       "    </tr>\n",
       "    <tr>\n",
       "      <th>500</th>\n",
       "      <td>66.0</td>\n",
       "      <td>NaN</td>\n",
       "    </tr>\n",
       "    <tr>\n",
       "      <th>A3</th>\n",
       "      <td>182.0</td>\n",
       "      <td>1.0</td>\n",
       "    </tr>\n",
       "    <tr>\n",
       "      <th>BMW3</th>\n",
       "      <td>126.0</td>\n",
       "      <td>14.0</td>\n",
       "    </tr>\n",
       "    <tr>\n",
       "      <th>CT</th>\n",
       "      <td>12.0</td>\n",
       "      <td>1.0</td>\n",
       "    </tr>\n",
       "    <tr>\n",
       "      <th>Mazda3</th>\n",
       "      <td>22.0</td>\n",
       "      <td>1.0</td>\n",
       "    </tr>\n",
       "  </tbody>\n",
       "</table>\n",
       "</div>"
      ],
      "text/plain": [
       "leather      0     1\n",
       "model               \n",
       "1        197.0   4.0\n",
       "500       66.0   NaN\n",
       "A3       182.0   1.0\n",
       "BMW3     126.0  14.0\n",
       "CT        12.0   1.0\n",
       "Mazda3    22.0   1.0"
      ]
     },
     "execution_count": 260,
     "metadata": {},
     "output_type": "execute_result"
    }
   ],
   "source": [
    "pd.pivot_table(df, index = \"model\", columns = ['leather'], values = \"price\", aggfunc = \"count\")"
   ]
  }
 ],
 "metadata": {
  "kernelspec": {
   "display_name": "Python 3",
   "language": "python",
   "name": "python3"
  },
  "language_info": {
   "codemirror_mode": {
    "name": "ipython",
    "version": 3
   },
   "file_extension": ".py",
   "mimetype": "text/x-python",
   "name": "python",
   "nbconvert_exporter": "python",
   "pygments_lexer": "ipython3",
   "version": "3.7.3"
  }
 },
 "nbformat": 4,
 "nbformat_minor": 2
}
