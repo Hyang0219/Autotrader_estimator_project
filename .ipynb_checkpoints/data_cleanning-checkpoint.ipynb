{
 "cells": [
  {
   "cell_type": "markdown",
   "metadata": {},
   "source": [
    "# Data Cleaning\n",
    "Clean the raw data collected from the scrapper and prepare the data ready for exploratory data analysis"
   ]
  },
  {
   "cell_type": "code",
   "execution_count": 1,
   "metadata": {},
   "outputs": [],
   "source": [
    "import pandas as pd\n",
    "import numpy as np\n",
    "import matplotlib.pyplot as plt\n",
    "\n",
    "df = pd.read_csv(\"autotrader_prices_raw.csv\", encoding= 'unicode_escape')"
   ]
  },
  {
   "cell_type": "code",
   "execution_count": 2,
   "metadata": {},
   "outputs": [
    {
     "data": {
      "text/html": [
       "<div>\n",
       "<style scoped>\n",
       "    .dataframe tbody tr th:only-of-type {\n",
       "        vertical-align: middle;\n",
       "    }\n",
       "\n",
       "    .dataframe tbody tr th {\n",
       "        vertical-align: top;\n",
       "    }\n",
       "\n",
       "    .dataframe thead th {\n",
       "        text-align: right;\n",
       "    }\n",
       "</style>\n",
       "<table border=\"1\" class=\"dataframe\">\n",
       "  <thead>\n",
       "    <tr style=\"text-align: right;\">\n",
       "      <th></th>\n",
       "      <th>BHP</th>\n",
       "      <th>ULEZ</th>\n",
       "      <th>body</th>\n",
       "      <th>engine</th>\n",
       "      <th>fuel</th>\n",
       "      <th>link</th>\n",
       "      <th>mileage</th>\n",
       "      <th>name</th>\n",
       "      <th>owners</th>\n",
       "      <th>price</th>\n",
       "      <th>transmission</th>\n",
       "      <th>year</th>\n",
       "    </tr>\n",
       "  </thead>\n",
       "  <tbody>\n",
       "    <tr>\n",
       "      <th>0</th>\n",
       "      <td>123.0</td>\n",
       "      <td>ULEZ</td>\n",
       "      <td>Hatchback</td>\n",
       "      <td>1.4L</td>\n",
       "      <td>Petrol</td>\n",
       "      <td>https://www.autotrader.co.uk/car-details/20201...</td>\n",
       "      <td>34414</td>\n",
       "      <td>Audi A1 1.4 TFSI SPORT 3d 123 BHP, SPORTS SEAT...</td>\n",
       "      <td>NaN</td>\n",
       "      <td>??9,980</td>\n",
       "      <td>Manual</td>\n",
       "      <td>2017 (17 reg)</td>\n",
       "    </tr>\n",
       "    <tr>\n",
       "      <th>1</th>\n",
       "      <td>NaN</td>\n",
       "      <td>ULEZ</td>\n",
       "      <td>Hatchback</td>\n",
       "      <td>1.4L</td>\n",
       "      <td>Petrol</td>\n",
       "      <td>https://www.autotrader.co.uk/car-details/20201...</td>\n",
       "      <td>16773</td>\n",
       "      <td>Audi A1 TFSI Sport 3dr 1.4</td>\n",
       "      <td>NaN</td>\n",
       "      <td>??11,500</td>\n",
       "      <td>Manual</td>\n",
       "      <td>2017 (67 reg)</td>\n",
       "    </tr>\n",
       "    <tr>\n",
       "      <th>2</th>\n",
       "      <td>114.0</td>\n",
       "      <td>ULEZ</td>\n",
       "      <td>Hatchback</td>\n",
       "      <td>1.6L</td>\n",
       "      <td>Diesel</td>\n",
       "      <td>https://www.autotrader.co.uk/car-details/20200...</td>\n",
       "      <td>76922</td>\n",
       "      <td>Audi A1 1.6 TDI SPORT 3d 114 BHP PARKING SENSO...</td>\n",
       "      <td>NaN</td>\n",
       "      <td>??8,599</td>\n",
       "      <td>Manual</td>\n",
       "      <td>2017 (17 reg)</td>\n",
       "    </tr>\n",
       "    <tr>\n",
       "      <th>3</th>\n",
       "      <td>NaN</td>\n",
       "      <td>ULEZ</td>\n",
       "      <td>Hatchback</td>\n",
       "      <td>1.4L</td>\n",
       "      <td>Petrol</td>\n",
       "      <td>https://www.autotrader.co.uk/car-details/20201...</td>\n",
       "      <td>10950</td>\n",
       "      <td>Audi A1 1.4 TFSI Sport 5dr</td>\n",
       "      <td>NaN</td>\n",
       "      <td>??12,174</td>\n",
       "      <td>Manual</td>\n",
       "      <td>2017 (67 reg)</td>\n",
       "    </tr>\n",
       "    <tr>\n",
       "      <th>4</th>\n",
       "      <td>NaN</td>\n",
       "      <td>ULEZ</td>\n",
       "      <td>Hatchback</td>\n",
       "      <td>1.6L</td>\n",
       "      <td>Diesel</td>\n",
       "      <td>https://www.autotrader.co.uk/car-details/20201...</td>\n",
       "      <td>58278</td>\n",
       "      <td>Audi A1 1.6 TDI Sport 3dr</td>\n",
       "      <td>NaN</td>\n",
       "      <td>??9,172</td>\n",
       "      <td>Manual</td>\n",
       "      <td>2017 (67 reg)</td>\n",
       "    </tr>\n",
       "  </tbody>\n",
       "</table>\n",
       "</div>"
      ],
      "text/plain": [
       "     BHP  ULEZ       body engine    fuel  \\\n",
       "0  123.0  ULEZ  Hatchback   1.4L  Petrol   \n",
       "1    NaN  ULEZ  Hatchback   1.4L  Petrol   \n",
       "2  114.0  ULEZ  Hatchback   1.6L  Diesel   \n",
       "3    NaN  ULEZ  Hatchback   1.4L  Petrol   \n",
       "4    NaN  ULEZ  Hatchback   1.6L  Diesel   \n",
       "\n",
       "                                                link  mileage  \\\n",
       "0  https://www.autotrader.co.uk/car-details/20201...    34414   \n",
       "1  https://www.autotrader.co.uk/car-details/20201...    16773   \n",
       "2  https://www.autotrader.co.uk/car-details/20200...    76922   \n",
       "3  https://www.autotrader.co.uk/car-details/20201...    10950   \n",
       "4  https://www.autotrader.co.uk/car-details/20201...    58278   \n",
       "\n",
       "                                                name  owners     price  \\\n",
       "0  Audi A1 1.4 TFSI SPORT 3d 123 BHP, SPORTS SEAT...     NaN   ??9,980   \n",
       "1                         Audi A1 TFSI Sport 3dr 1.4     NaN  ??11,500   \n",
       "2  Audi A1 1.6 TDI SPORT 3d 114 BHP PARKING SENSO...     NaN   ??8,599   \n",
       "3                         Audi A1 1.4 TFSI Sport 5dr     NaN  ??12,174   \n",
       "4                          Audi A1 1.6 TDI Sport 3dr     NaN   ??9,172   \n",
       "\n",
       "  transmission           year  \n",
       "0       Manual  2017 (17 reg)  \n",
       "1       Manual  2017 (67 reg)  \n",
       "2       Manual  2017 (17 reg)  \n",
       "3       Manual  2017 (67 reg)  \n",
       "4       Manual  2017 (67 reg)  "
      ]
     },
     "execution_count": 2,
     "metadata": {},
     "output_type": "execute_result"
    }
   ],
   "source": [
    "df.head()"
   ]
  },
  {
   "cell_type": "code",
   "execution_count": 3,
   "metadata": {},
   "outputs": [
    {
     "name": "stdout",
     "output_type": "stream",
     "text": [
      "<class 'pandas.core.frame.DataFrame'>\n",
      "RangeIndex: 1233 entries, 0 to 1232\n",
      "Data columns (total 12 columns):\n",
      "BHP             773 non-null float64\n",
      "ULEZ            1223 non-null object\n",
      "body            1233 non-null object\n",
      "engine          1227 non-null object\n",
      "fuel            1232 non-null object\n",
      "link            1233 non-null object\n",
      "mileage         1233 non-null int64\n",
      "name            1233 non-null object\n",
      "owners          17 non-null float64\n",
      "price           1233 non-null object\n",
      "transmission    1232 non-null object\n",
      "year            1233 non-null object\n",
      "dtypes: float64(2), int64(1), object(9)\n",
      "memory usage: 115.7+ KB\n"
     ]
    }
   ],
   "source": [
    "df.info()"
   ]
  },
  {
   "cell_type": "code",
   "execution_count": 4,
   "metadata": {},
   "outputs": [
    {
     "data": {
      "text/html": [
       "<div>\n",
       "<style scoped>\n",
       "    .dataframe tbody tr th:only-of-type {\n",
       "        vertical-align: middle;\n",
       "    }\n",
       "\n",
       "    .dataframe tbody tr th {\n",
       "        vertical-align: top;\n",
       "    }\n",
       "\n",
       "    .dataframe thead th {\n",
       "        text-align: right;\n",
       "    }\n",
       "</style>\n",
       "<table border=\"1\" class=\"dataframe\">\n",
       "  <thead>\n",
       "    <tr style=\"text-align: right;\">\n",
       "      <th></th>\n",
       "      <th>BHP</th>\n",
       "      <th>mileage</th>\n",
       "      <th>owners</th>\n",
       "    </tr>\n",
       "  </thead>\n",
       "  <tbody>\n",
       "    <tr>\n",
       "      <th>count</th>\n",
       "      <td>773.000000</td>\n",
       "      <td>1233.000000</td>\n",
       "      <td>17.000000</td>\n",
       "    </tr>\n",
       "    <tr>\n",
       "      <th>mean</th>\n",
       "      <td>154.737387</td>\n",
       "      <td>19593.000000</td>\n",
       "      <td>2.058824</td>\n",
       "    </tr>\n",
       "    <tr>\n",
       "      <th>std</th>\n",
       "      <td>58.945633</td>\n",
       "      <td>13701.411563</td>\n",
       "      <td>0.242536</td>\n",
       "    </tr>\n",
       "    <tr>\n",
       "      <th>min</th>\n",
       "      <td>68.000000</td>\n",
       "      <td>10.000000</td>\n",
       "      <td>2.000000</td>\n",
       "    </tr>\n",
       "    <tr>\n",
       "      <th>25%</th>\n",
       "      <td>114.000000</td>\n",
       "      <td>10665.000000</td>\n",
       "      <td>2.000000</td>\n",
       "    </tr>\n",
       "    <tr>\n",
       "      <th>50%</th>\n",
       "      <td>138.000000</td>\n",
       "      <td>16805.000000</td>\n",
       "      <td>2.000000</td>\n",
       "    </tr>\n",
       "    <tr>\n",
       "      <th>75%</th>\n",
       "      <td>181.000000</td>\n",
       "      <td>26179.000000</td>\n",
       "      <td>2.000000</td>\n",
       "    </tr>\n",
       "    <tr>\n",
       "      <th>max</th>\n",
       "      <td>469.000000</td>\n",
       "      <td>124395.000000</td>\n",
       "      <td>3.000000</td>\n",
       "    </tr>\n",
       "  </tbody>\n",
       "</table>\n",
       "</div>"
      ],
      "text/plain": [
       "              BHP        mileage     owners\n",
       "count  773.000000    1233.000000  17.000000\n",
       "mean   154.737387   19593.000000   2.058824\n",
       "std     58.945633   13701.411563   0.242536\n",
       "min     68.000000      10.000000   2.000000\n",
       "25%    114.000000   10665.000000   2.000000\n",
       "50%    138.000000   16805.000000   2.000000\n",
       "75%    181.000000   26179.000000   2.000000\n",
       "max    469.000000  124395.000000   3.000000"
      ]
     },
     "execution_count": 4,
     "metadata": {},
     "output_type": "execute_result"
    }
   ],
   "source": [
    "df.describe()"
   ]
  },
  {
   "cell_type": "code",
   "execution_count": 5,
   "metadata": {},
   "outputs": [
    {
     "data": {
      "text/plain": [
       "BHP              460\n",
       "ULEZ              10\n",
       "body               0\n",
       "engine             6\n",
       "fuel               1\n",
       "link               0\n",
       "mileage            0\n",
       "name               0\n",
       "owners          1216\n",
       "price              0\n",
       "transmission       1\n",
       "year               0\n",
       "dtype: int64"
      ]
     },
     "execution_count": 5,
     "metadata": {},
     "output_type": "execute_result"
    }
   ],
   "source": [
    "df.isna().sum()"
   ]
  },
  {
   "cell_type": "markdown",
   "metadata": {},
   "source": [
    "## Data cleaning"
   ]
  },
  {
   "cell_type": "code",
   "execution_count": 6,
   "metadata": {},
   "outputs": [],
   "source": [
    "# create a copy of the dataframe\n",
    "df_clean = df.copy()"
   ]
  },
  {
   "cell_type": "markdown",
   "metadata": {},
   "source": [
    "### Filling ULEZ compliance\n",
    "Assuming Non-ULEZ if information missing in the \"ULEZ\" column"
   ]
  },
  {
   "cell_type": "code",
   "execution_count": 7,
   "metadata": {},
   "outputs": [],
   "source": [
    "df_clean[\"ULEZ\"].fillna(\"Non-ULEZ\", inplace=True)"
   ]
  },
  {
   "cell_type": "code",
   "execution_count": 8,
   "metadata": {},
   "outputs": [
    {
     "data": {
      "text/plain": [
       "ULEZ        1223\n",
       "Non-ULEZ      10\n",
       "Name: ULEZ, dtype: int64"
      ]
     },
     "execution_count": 8,
     "metadata": {},
     "output_type": "execute_result"
    }
   ],
   "source": [
    "df_clean[\"ULEZ\"].value_counts()"
   ]
  },
  {
   "cell_type": "markdown",
   "metadata": {},
   "source": [
    "### Engine size parsing\n",
    "* Fill the missingg values\n",
    "* Get rid of the Liter \"L\" and convert to float"
   ]
  },
  {
   "cell_type": "code",
   "execution_count": 9,
   "metadata": {},
   "outputs": [
    {
     "data": {
      "text/html": [
       "<div>\n",
       "<style scoped>\n",
       "    .dataframe tbody tr th:only-of-type {\n",
       "        vertical-align: middle;\n",
       "    }\n",
       "\n",
       "    .dataframe tbody tr th {\n",
       "        vertical-align: top;\n",
       "    }\n",
       "\n",
       "    .dataframe thead th {\n",
       "        text-align: right;\n",
       "    }\n",
       "</style>\n",
       "<table border=\"1\" class=\"dataframe\">\n",
       "  <thead>\n",
       "    <tr style=\"text-align: right;\">\n",
       "      <th></th>\n",
       "      <th>BHP</th>\n",
       "      <th>ULEZ</th>\n",
       "      <th>body</th>\n",
       "      <th>engine</th>\n",
       "      <th>fuel</th>\n",
       "      <th>link</th>\n",
       "      <th>mileage</th>\n",
       "      <th>name</th>\n",
       "      <th>owners</th>\n",
       "      <th>price</th>\n",
       "      <th>transmission</th>\n",
       "      <th>year</th>\n",
       "    </tr>\n",
       "  </thead>\n",
       "  <tbody>\n",
       "    <tr>\n",
       "      <th>295</th>\n",
       "      <td>201.0</td>\n",
       "      <td>ULEZ</td>\n",
       "      <td>SUV</td>\n",
       "      <td>NaN</td>\n",
       "      <td>Electric</td>\n",
       "      <td>https://www.autotrader.co.uk/car-details/20201...</td>\n",
       "      <td>23946</td>\n",
       "      <td>Hyundai Kona Premium SE 5dr</td>\n",
       "      <td>NaN</td>\n",
       "      <td>??27,125</td>\n",
       "      <td>Automatic</td>\n",
       "      <td>2018 (68 reg)</td>\n",
       "    </tr>\n",
       "    <tr>\n",
       "      <th>328</th>\n",
       "      <td>NaN</td>\n",
       "      <td>Non-ULEZ</td>\n",
       "      <td>SUV</td>\n",
       "      <td>NaN</td>\n",
       "      <td>Electric</td>\n",
       "      <td>https://www.autotrader.co.uk/car-details/20200...</td>\n",
       "      <td>6295</td>\n",
       "      <td>Hyundai Kona Electric Premium SE (204PS) 64kWh...</td>\n",
       "      <td>NaN</td>\n",
       "      <td>??31,890</td>\n",
       "      <td>Automatic</td>\n",
       "      <td>2020 (69 reg)</td>\n",
       "    </tr>\n",
       "    <tr>\n",
       "      <th>583</th>\n",
       "      <td>NaN</td>\n",
       "      <td>ULEZ</td>\n",
       "      <td>Hatchback</td>\n",
       "      <td>NaN</td>\n",
       "      <td>Electric</td>\n",
       "      <td>https://www.autotrader.co.uk/car-details/20200...</td>\n",
       "      <td>10665</td>\n",
       "      <td>Volkswagen 99kW e-Golf 35kWh 5dr Auto</td>\n",
       "      <td>NaN</td>\n",
       "      <td>??22,490</td>\n",
       "      <td>Automatic</td>\n",
       "      <td>2019 (69 reg)</td>\n",
       "    </tr>\n",
       "    <tr>\n",
       "      <th>608</th>\n",
       "      <td>NaN</td>\n",
       "      <td>ULEZ</td>\n",
       "      <td>Hatchback</td>\n",
       "      <td>NaN</td>\n",
       "      <td>Electric</td>\n",
       "      <td>https://www.autotrader.co.uk/car-details/20201...</td>\n",
       "      <td>5086</td>\n",
       "      <td>Volkswagen Golf e-5dr Auto</td>\n",
       "      <td>NaN</td>\n",
       "      <td>??23,000</td>\n",
       "      <td>Automatic</td>\n",
       "      <td>2019 (69 reg)</td>\n",
       "    </tr>\n",
       "    <tr>\n",
       "      <th>615</th>\n",
       "      <td>NaN</td>\n",
       "      <td>ULEZ</td>\n",
       "      <td>Hatchback</td>\n",
       "      <td>NaN</td>\n",
       "      <td>Electric</td>\n",
       "      <td>https://www.autotrader.co.uk/car-details/20200...</td>\n",
       "      <td>6347</td>\n",
       "      <td>Volkswagen 99kW e-Golf 35kWh 5dr Auto</td>\n",
       "      <td>NaN</td>\n",
       "      <td>??23,290</td>\n",
       "      <td>Automatic</td>\n",
       "      <td>2020 (69 reg)</td>\n",
       "    </tr>\n",
       "    <tr>\n",
       "      <th>914</th>\n",
       "      <td>NaN</td>\n",
       "      <td>Non-ULEZ</td>\n",
       "      <td>Hatchback</td>\n",
       "      <td>NaN</td>\n",
       "      <td>Petrol</td>\n",
       "      <td>https://www.autotrader.co.uk/car-details/20201...</td>\n",
       "      <td>27271</td>\n",
       "      <td>Nissan Qashqai 1.2 Dig-t 115 Acenta Smrt Vsn P...</td>\n",
       "      <td>NaN</td>\n",
       "      <td>??10,499</td>\n",
       "      <td>Manual</td>\n",
       "      <td>2017 (17 reg)</td>\n",
       "    </tr>\n",
       "  </tbody>\n",
       "</table>\n",
       "</div>"
      ],
      "text/plain": [
       "       BHP      ULEZ       body engine      fuel  \\\n",
       "295  201.0      ULEZ        SUV    NaN  Electric   \n",
       "328    NaN  Non-ULEZ        SUV    NaN  Electric   \n",
       "583    NaN      ULEZ  Hatchback    NaN  Electric   \n",
       "608    NaN      ULEZ  Hatchback    NaN  Electric   \n",
       "615    NaN      ULEZ  Hatchback    NaN  Electric   \n",
       "914    NaN  Non-ULEZ  Hatchback    NaN    Petrol   \n",
       "\n",
       "                                                  link  mileage  \\\n",
       "295  https://www.autotrader.co.uk/car-details/20201...    23946   \n",
       "328  https://www.autotrader.co.uk/car-details/20200...     6295   \n",
       "583  https://www.autotrader.co.uk/car-details/20200...    10665   \n",
       "608  https://www.autotrader.co.uk/car-details/20201...     5086   \n",
       "615  https://www.autotrader.co.uk/car-details/20200...     6347   \n",
       "914  https://www.autotrader.co.uk/car-details/20201...    27271   \n",
       "\n",
       "                                                  name  owners     price  \\\n",
       "295                        Hyundai Kona Premium SE 5dr     NaN  ??27,125   \n",
       "328  Hyundai Kona Electric Premium SE (204PS) 64kWh...     NaN  ??31,890   \n",
       "583              Volkswagen 99kW e-Golf 35kWh 5dr Auto     NaN  ??22,490   \n",
       "608                         Volkswagen Golf e-5dr Auto     NaN  ??23,000   \n",
       "615              Volkswagen 99kW e-Golf 35kWh 5dr Auto     NaN  ??23,290   \n",
       "914  Nissan Qashqai 1.2 Dig-t 115 Acenta Smrt Vsn P...     NaN  ??10,499   \n",
       "\n",
       "    transmission           year  \n",
       "295    Automatic  2018 (68 reg)  \n",
       "328    Automatic  2020 (69 reg)  \n",
       "583    Automatic  2019 (69 reg)  \n",
       "608    Automatic  2019 (69 reg)  \n",
       "615    Automatic  2020 (69 reg)  \n",
       "914       Manual  2017 (17 reg)  "
      ]
     },
     "execution_count": 9,
     "metadata": {},
     "output_type": "execute_result"
    }
   ],
   "source": [
    "# locate missing values\n",
    "df_clean[df_clean.engine.isna()]"
   ]
  },
  {
   "cell_type": "code",
   "execution_count": 10,
   "metadata": {},
   "outputs": [],
   "source": [
    "# update engine to 0 liter for electric cars and 1.2L for car #914\n",
    "index_elec = df_clean[df_clean.engine.isna()].index\n",
    "df_clean.at[index_elec, \"engine\"] = \"0.0L\"\n",
    "df_clean.iloc[914,3] = \"1.2L\""
   ]
  },
  {
   "cell_type": "code",
   "execution_count": 11,
   "metadata": {},
   "outputs": [],
   "source": [
    "df_clean[\"engine\"] = df_clean[\"engine\"].apply(lambda x: float(x[:-1]))"
   ]
  },
  {
   "cell_type": "code",
   "execution_count": 12,
   "metadata": {},
   "outputs": [
    {
     "data": {
      "text/plain": [
       "2.0    255\n",
       "1.5    233\n",
       "1.6    153\n",
       "1.3    140\n",
       "1.2     98\n",
       "1.4     95\n",
       "1.0     90\n",
       "2.1     55\n",
       "1.7     43\n",
       "3.0     39\n",
       "1.8     10\n",
       "2.5     10\n",
       "2.2      6\n",
       "0.0      5\n",
       "4.0      1\n",
       "Name: engine, dtype: int64"
      ]
     },
     "execution_count": 12,
     "metadata": {},
     "output_type": "execute_result"
    }
   ],
   "source": [
    "df_clean[\"engine\"].value_counts()"
   ]
  },
  {
   "cell_type": "markdown",
   "metadata": {},
   "source": [
    "### Remove link"
   ]
  },
  {
   "cell_type": "code",
   "execution_count": 13,
   "metadata": {},
   "outputs": [],
   "source": [
    "df_clean.drop([\"link\"], axis=1, inplace=True)"
   ]
  },
  {
   "cell_type": "markdown",
   "metadata": {},
   "source": [
    "### Parsing name into multiple extra features"
   ]
  },
  {
   "cell_type": "markdown",
   "metadata": {},
   "source": [
    "#### Create \"make\" and \"model\" columns"
   ]
  },
  {
   "cell_type": "code",
   "execution_count": 14,
   "metadata": {},
   "outputs": [],
   "source": [
    "df_clean[\"make\"] = df_clean[\"name\"].apply(lambda x:x.split()[0])\n",
    "df_clean[\"model\"] = df_clean[\"name\"].apply(lambda x:x.split()[1])"
   ]
  },
  {
   "cell_type": "code",
   "execution_count": 15,
   "metadata": {},
   "outputs": [
    {
     "data": {
      "text/plain": [
       "Mercedes-Benz    248\n",
       "Nissan           234\n",
       "Volkswagen       215\n",
       "Audi             200\n",
       "Hyundai          126\n",
       "BMW              109\n",
       "Fiat              43\n",
       "Mazda             23\n",
       "Lexus             20\n",
       "Mazda3             8\n",
       "Mazda6             7\n",
       "Name: make, dtype: int64"
      ]
     },
     "execution_count": 15,
     "metadata": {},
     "output_type": "execute_result"
    }
   ],
   "source": [
    "df_clean[\"make\"].value_counts()"
   ]
  },
  {
   "cell_type": "code",
   "execution_count": 16,
   "metadata": {},
   "outputs": [
    {
     "data": {
      "text/plain": [
       "Qashqai        234\n",
       "Golf           213\n",
       "A              123\n",
       "A3             120\n",
       "C               90\n",
       "Tucson          87\n",
       "3               83\n",
       "A1              79\n",
       "500             43\n",
       "2               42\n",
       "Kona            39\n",
       "A-Class         21\n",
       "C-Class         14\n",
       "NX              10\n",
       "2L              10\n",
       "CT               9\n",
       "6                7\n",
       "2.2L             2\n",
       "99kW             2\n",
       "2.0              2\n",
       "Cthatchback      1\n",
       "1.0              1\n",
       "2.2              1\n",
       "Name: model, dtype: int64"
      ]
     },
     "execution_count": 16,
     "metadata": {},
     "output_type": "execute_result"
    }
   ],
   "source": [
    "df_clean[\"model\"].value_counts()"
   ]
  },
  {
   "cell_type": "markdown",
   "metadata": {},
   "source": [
    "There are cases the information not correctly processed in the **make** and **model** columns, so need to clean them below"
   ]
  },
  {
   "cell_type": "code",
   "execution_count": 17,
   "metadata": {},
   "outputs": [],
   "source": [
    "# Update Mazda3 and Mazda6 into correct make and model\n",
    "index_mazda3 = df_clean[df_clean.make == \"Mazda3\"].index\n",
    "df_clean.at[index_mazda3, \"model\"] = \"Mazda3\"\n",
    "df_clean.at[index_mazda3, \"make\"] = \"Mazda\"\n",
    "\n",
    "index_mazda6 = df_clean[df_clean.make == \"Mazda6\"].index\n",
    "df_clean.at[index_mazda6, \"model\"] = \"Mazda6\"\n",
    "df_clean.at[index_mazda6, \"make\"] = \"Mazda\"\n",
    "\n",
    "index_6 = df_clean[df_clean.model==\"6\"].index\n",
    "df_clean.at[index_6, \"model\"] = \"Mazda6\""
   ]
  },
  {
   "cell_type": "code",
   "execution_count": 18,
   "metadata": {},
   "outputs": [],
   "source": [
    "# Update model BMW 3 into 3-Series to differetiate from Mazda 3\n",
    "index_3 = df_clean[df_clean.model == \"3\"]\n",
    "index_bmw = index_3[index_3.make == \"BMW\"].index\n",
    "index_mazda = index_3[index_3.make == \"Mazda\"].index\n",
    "df_clean.at[index_bmw, \"model\"] = \"3-Series\"\n",
    "df_clean.at[index_mazda, \"model\"] = \"Mazda3\""
   ]
  },
  {
   "cell_type": "code",
   "execution_count": 19,
   "metadata": {},
   "outputs": [],
   "source": [
    "# Update model BMW 2 into 2-Series\n",
    "index_2 = df_clean[df_clean.model==\"2\"].index\n",
    "df_clean.at[index_2, \"model\"] = \"2-Series\""
   ]
  },
  {
   "cell_type": "code",
   "execution_count": 20,
   "metadata": {},
   "outputs": [],
   "source": [
    "# Update model e-Golf\n",
    "index_e_golf = df_clean[df_clean.model==\"99kW\"].index\n",
    "df_clean.at[index_e_golf, \"model\"] = \"e-Golf\""
   ]
  },
  {
   "cell_type": "code",
   "execution_count": 21,
   "metadata": {},
   "outputs": [],
   "source": [
    "# Update model CT\n",
    "index_CT = df_clean[df_clean.model == \"Cthatchback\"].index\n",
    "df_clean.at[index_CT, \"model\"] = \"CT\""
   ]
  },
  {
   "cell_type": "code",
   "execution_count": 22,
   "metadata": {},
   "outputs": [],
   "source": [
    "# Update model A1\n",
    "index_1 = df_clean[df_clean.model == \"1.0\"].index\n",
    "df_clean.at[index_1, \"model\"] = \"A1\""
   ]
  },
  {
   "cell_type": "code",
   "execution_count": 23,
   "metadata": {},
   "outputs": [],
   "source": [
    "# Update model A and C to A-Class and C-Class\n",
    "index_A = df_clean[df_clean.model == \"A\"].index\n",
    "df_clean.at[index_A, \"model\"] = \"A-Class\"\n",
    "\n",
    "index_C = df_clean[df_clean.model == \"C\"].index\n",
    "df_clean.at[index_C, \"model\"] = \"C-Class\""
   ]
  },
  {
   "cell_type": "code",
   "execution_count": 24,
   "metadata": {},
   "outputs": [
    {
     "data": {
      "text/plain": [
       "Mercedes-Benz    248\n",
       "Nissan           234\n",
       "Volkswagen       215\n",
       "Audi             200\n",
       "Hyundai          126\n",
       "BMW              109\n",
       "Fiat              43\n",
       "Mazda             38\n",
       "Lexus             20\n",
       "Name: make, dtype: int64"
      ]
     },
     "execution_count": 24,
     "metadata": {},
     "output_type": "execute_result"
    }
   ],
   "source": [
    "df_clean[\"make\"].value_counts()"
   ]
  },
  {
   "cell_type": "code",
   "execution_count": 25,
   "metadata": {},
   "outputs": [
    {
     "data": {
      "text/plain": [
       "Qashqai     234\n",
       "Golf        213\n",
       "A-Class     144\n",
       "A3          120\n",
       "C-Class     104\n",
       "Tucson       87\n",
       "A1           80\n",
       "3-Series     67\n",
       "500          43\n",
       "2-Series     42\n",
       "Kona         39\n",
       "Mazda3       24\n",
       "Mazda6       14\n",
       "NX           10\n",
       "CT           10\n",
       "e-Golf        2\n",
       "Name: model, dtype: int64"
      ]
     },
     "execution_count": 25,
     "metadata": {},
     "output_type": "execute_result"
    }
   ],
   "source": [
    "df_clean[\"model\"].value_counts()"
   ]
  },
  {
   "cell_type": "markdown",
   "metadata": {},
   "source": [
    "#### Filling missing BHP\n",
    "* Find all samples which has \"BHP\",\"PS\" and \"kW\" in the \"name\" column\n",
    "* Extract numbers in the \"name\" column\n",
    "* Update the column BHP with the highest number from the \"BHP\" or \"PS\" or \"kW\" value\n",
    "* Convert PS to BHP using 1 PS = 0.98 BHP\n",
    "* Convert kw to BHP for electric cars using 1 kw = 1.34 BHP"
   ]
  },
  {
   "cell_type": "code",
   "execution_count": 26,
   "metadata": {},
   "outputs": [],
   "source": [
    "import re\n",
    "\n",
    "df_clean[\"name_BHP\"] = df_clean.name.apply(lambda x: np.max(list(map(int, re.findall(r'\\d+', x)))) if \"bhp\" in x.lower() else np.nan)\n",
    "df_clean[\"name_PS\"] = df_clean.name.apply(lambda x: np.max(list(map(int, re.findall(r'\\d+', x)))) if \"ps\" in x.lower() else np.nan)\n",
    "df_clean[\"name_kW\"] = df_clean.name.apply(lambda x: np.max(list(map(int, re.findall(r'\\d+', x)))) if \"kw\" in x.lower() else np.nan)\n",
    "\n",
    "\n",
    "# update from name_BHP\n",
    "index_noBHP = df_clean[df_clean.BHP.isna()].index\n",
    "df_clean.at[index_noBHP, \"BHP\"] = df_clean[\"name_BHP\"]\n",
    "index_noBHP = df_clean[df_clean.BHP.isna()].index\n",
    "df_clean.at[index_noBHP, \"BHP\"] = df_clean[\"name_PS\"]*0.98\n",
    "index_noBHP = df_clean[df_clean.BHP.isna()].index\n",
    "df_clean.at[index_noBHP, \"BHP\"] = df_clean[\"name_kW\"]*1.34\n",
    "\n",
    "df_clean.drop([\"name_BHP\",\"name_PS\", \"name_kW\"], axis=1, inplace=True)"
   ]
  },
  {
   "cell_type": "markdown",
   "metadata": {},
   "source": [
    "* Fill remaining missing values with median of the same model"
   ]
  },
  {
   "cell_type": "code",
   "execution_count": 27,
   "metadata": {},
   "outputs": [],
   "source": [
    "# Highlight missing BHP to filled with median\n",
    "df_clean[\"missing_BHP\"] = df_clean[\"BHP\"].apply(lambda x: 1 if pd.isnull(x) else 0)"
   ]
  },
  {
   "cell_type": "code",
   "execution_count": 28,
   "metadata": {},
   "outputs": [
    {
     "data": {
      "text/plain": [
       "{'Qashqai': 128.0,\n",
       " 'Golf': 148.0,\n",
       " 'A-Class': 120.0,\n",
       " 'A3': 148.0,\n",
       " 'C-Class': 191.0,\n",
       " 'Tucson': 130.0,\n",
       " 'A1': 114.0,\n",
       " '3-Series': 192.0,\n",
       " '500': 68.0,\n",
       " '2-Series': 190.0,\n",
       " 'Kona': 118.0,\n",
       " 'Mazda3': 119.0,\n",
       " 'Mazda6': 143.0,\n",
       " 'NX': 194.0,\n",
       " 'CT': 134.0,\n",
       " 'e-Golf': 132.66}"
      ]
     },
     "execution_count": 28,
     "metadata": {},
     "output_type": "execute_result"
    }
   ],
   "source": [
    "BHP_median = {}\n",
    "\n",
    "for model in df_clean.model.value_counts().keys():\n",
    "    med = df_clean[df_clean.model == model].BHP.median()\n",
    "    BHP_median[model] = med\n",
    "    \n",
    "BHP_median"
   ]
  },
  {
   "cell_type": "code",
   "execution_count": 29,
   "metadata": {},
   "outputs": [],
   "source": [
    "index_noBHP = df_clean[df_clean.BHP.isna()].index\n",
    "df_clean.at[index_noBHP, \"BHP\"] = df_clean.model.apply(lambda x: BHP_median[x])"
   ]
  },
  {
   "cell_type": "markdown",
   "metadata": {},
   "source": [
    "#### Feature engineering to create more trainable variables"
   ]
  },
  {
   "cell_type": "code",
   "execution_count": 30,
   "metadata": {},
   "outputs": [
    {
     "data": {
      "text/plain": [
       "0    906\n",
       "1    327\n",
       "Name: se, dtype: int64"
      ]
     },
     "execution_count": 30,
     "metadata": {},
     "output_type": "execute_result"
    }
   ],
   "source": [
    "# diffentiate from \"ECO\", SE\", \"Sport\", \"M Sport\", \"Lux\", Nav/Satellite\", \"Bluetooth\",\n",
    "# \"Leather\", \"3-door\", \n",
    "df_clean[\"se\"] = df_clean[\"name\"].apply(lambda x: 1 if \"se\" in x.lower() else 0)\n",
    "df_clean[\"se\"].value_counts()"
   ]
  },
  {
   "cell_type": "code",
   "execution_count": 31,
   "metadata": {},
   "outputs": [
    {
     "data": {
      "text/plain": [
       "0    1145\n",
       "1      88\n",
       "Name: s line, dtype: int64"
      ]
     },
     "execution_count": 31,
     "metadata": {},
     "output_type": "execute_result"
    }
   ],
   "source": [
    "df_clean[\"s line\"] = df_clean[\"name\"].apply(lambda x: 1 if \"s line\" in x.lower() else 0)\n",
    "df_clean[\"s line\"].value_counts()"
   ]
  },
  {
   "cell_type": "code",
   "execution_count": 32,
   "metadata": {},
   "outputs": [
    {
     "data": {
      "text/plain": [
       "0    926\n",
       "1    307\n",
       "Name: sport, dtype: int64"
      ]
     },
     "execution_count": 32,
     "metadata": {},
     "output_type": "execute_result"
    }
   ],
   "source": [
    "df_clean[\"sport\"] = df_clean[\"name\"].apply(lambda x: 1 if \"sport\" in x.lower() else 0)\n",
    "df_clean[\"sport\"].value_counts()"
   ]
  },
  {
   "cell_type": "code",
   "execution_count": 33,
   "metadata": {},
   "outputs": [
    {
     "data": {
      "text/plain": [
       "0    1159\n",
       "1      74\n",
       "Name: m_sport, dtype: int64"
      ]
     },
     "execution_count": 33,
     "metadata": {},
     "output_type": "execute_result"
    }
   ],
   "source": [
    "df_clean[\"m_sport\"] = df_clean[\"name\"].apply(lambda x: 1 if \"m sport\" in x.lower() else 0)\n",
    "df_clean[\"m_sport\"].value_counts()"
   ]
  },
  {
   "cell_type": "code",
   "execution_count": 34,
   "metadata": {},
   "outputs": [
    {
     "data": {
      "text/plain": [
       "0    1072\n",
       "1     161\n",
       "Name: amg, dtype: int64"
      ]
     },
     "execution_count": 34,
     "metadata": {},
     "output_type": "execute_result"
    }
   ],
   "source": [
    "df_clean[\"amg\"] = df_clean[\"name\"].apply(lambda x: 1 if \"amg\" in x.lower() else 0)\n",
    "df_clean[\"amg\"].value_counts()"
   ]
  },
  {
   "cell_type": "code",
   "execution_count": 35,
   "metadata": {},
   "outputs": [
    {
     "data": {
      "text/plain": [
       "0    1022\n",
       "1     211\n",
       "Name: sat_nav, dtype: int64"
      ]
     },
     "execution_count": 35,
     "metadata": {},
     "output_type": "execute_result"
    }
   ],
   "source": [
    "df_clean[\"sat_nav\"] = df_clean[\"name\"].apply(lambda x: 1 if \"sat\" in x.lower() or \"nav\" in x.lower() or \"navigation\" in x.lower() else 0)\n",
    "df_clean[\"sat_nav\"].value_counts()"
   ]
  },
  {
   "cell_type": "code",
   "execution_count": 36,
   "metadata": {},
   "outputs": [
    {
     "data": {
      "text/plain": [
       "0    1204\n",
       "1      29\n",
       "Name: bluetooth, dtype: int64"
      ]
     },
     "execution_count": 36,
     "metadata": {},
     "output_type": "execute_result"
    }
   ],
   "source": [
    "df_clean[\"bluetooth\"] = df_clean[\"name\"].apply(lambda x: 1 if \"bluetooth\" in x.lower() else 0)\n",
    "df_clean[\"bluetooth\"].value_counts()"
   ]
  },
  {
   "cell_type": "code",
   "execution_count": 37,
   "metadata": {},
   "outputs": [
    {
     "data": {
      "text/plain": [
       "0    1210\n",
       "1      23\n",
       "Name: leather, dtype: int64"
      ]
     },
     "execution_count": 37,
     "metadata": {},
     "output_type": "execute_result"
    }
   ],
   "source": [
    "df_clean[\"leather\"] = df_clean[\"name\"].apply(lambda x: 1 if \"leather\" in x.lower() else 0)\n",
    "df_clean[\"leather\"].value_counts()"
   ]
  },
  {
   "cell_type": "code",
   "execution_count": 38,
   "metadata": {},
   "outputs": [
    {
     "data": {
      "text/plain": [
       "0    1168\n",
       "1      65\n",
       "Name: sportback, dtype: int64"
      ]
     },
     "execution_count": 38,
     "metadata": {},
     "output_type": "execute_result"
    }
   ],
   "source": [
    "df_clean[\"sportback\"] = df_clean[\"name\"].apply(lambda x: 1 if \"sportback\" in x.lower() else 0)\n",
    "df_clean[\"sportback\"].value_counts()"
   ]
  },
  {
   "cell_type": "code",
   "execution_count": 39,
   "metadata": {},
   "outputs": [
    {
     "data": {
      "text/plain": [
       "0    1219\n",
       "1      14\n",
       "Name: performance, dtype: int64"
      ]
     },
     "execution_count": 39,
     "metadata": {},
     "output_type": "execute_result"
    }
   ],
   "source": [
    "df_clean[\"performance\"] = df_clean[\"name\"].apply(lambda x: 1 if \"performance\" in x.lower() else 0)\n",
    "df_clean[\"performance\"].value_counts()"
   ]
  },
  {
   "cell_type": "code",
   "execution_count": 40,
   "metadata": {},
   "outputs": [
    {
     "data": {
      "text/plain": [
       "0    1220\n",
       "1      13\n",
       "Name: parking, dtype: int64"
      ]
     },
     "execution_count": 40,
     "metadata": {},
     "output_type": "execute_result"
    }
   ],
   "source": [
    "df_clean[\"parking\"] = df_clean[\"name\"].apply(lambda x: 1 if \"camera\" in x.lower()\n",
    "                                            or \"rear\" in x.lower() \n",
    "                                            or \"parking\" in x.lower() \n",
    "                                            or \"sensor\" in x.lower() \n",
    "                                            or \"dashcam\" in x.lower() else 0)\n",
    "df_clean[\"parking\"].value_counts()"
   ]
  },
  {
   "cell_type": "code",
   "execution_count": 41,
   "metadata": {},
   "outputs": [
    {
     "data": {
      "text/plain": [
       "0    1213\n",
       "1      20\n",
       "Name: gti, dtype: int64"
      ]
     },
     "execution_count": 41,
     "metadata": {},
     "output_type": "execute_result"
    }
   ],
   "source": [
    "df_clean[\"gti\"] = df_clean[\"name\"].apply(lambda x: 1 if \"gti\" in x.lower() else 0)\n",
    "df_clean[\"gti\"].value_counts()"
   ]
  },
  {
   "cell_type": "code",
   "execution_count": 42,
   "metadata": {},
   "outputs": [
    {
     "data": {
      "text/plain": [
       "0    1209\n",
       "1      24\n",
       "Name: gtd, dtype: int64"
      ]
     },
     "execution_count": 42,
     "metadata": {},
     "output_type": "execute_result"
    }
   ],
   "source": [
    "df_clean[\"gtd\"] = df_clean[\"name\"].apply(lambda x: 1 if \"gtd\" in x.lower() else 0)\n",
    "df_clean[\"gtd\"].value_counts()"
   ]
  },
  {
   "cell_type": "code",
   "execution_count": 43,
   "metadata": {},
   "outputs": [
    {
     "data": {
      "text/plain": [
       "0    1212\n",
       "1      21\n",
       "Name: gte, dtype: int64"
      ]
     },
     "execution_count": 43,
     "metadata": {},
     "output_type": "execute_result"
    }
   ],
   "source": [
    "df_clean[\"gte\"] = df_clean[\"name\"].apply(lambda x: 1 if \"gte\" in x.lower() else 0)\n",
    "df_clean[\"gte\"].value_counts()"
   ]
  },
  {
   "cell_type": "markdown",
   "metadata": {},
   "source": [
    "#### Filling missing owners\n",
    "Fill missing values with median value"
   ]
  },
  {
   "cell_type": "code",
   "execution_count": 44,
   "metadata": {},
   "outputs": [],
   "source": [
    "df_clean[\"owners\"].fillna(df.owners.median(), inplace=True)"
   ]
  },
  {
   "cell_type": "markdown",
   "metadata": {},
   "source": [
    "#### Filling missing transimission\n",
    "Fill missing values with most frequent value"
   ]
  },
  {
   "cell_type": "code",
   "execution_count": 45,
   "metadata": {},
   "outputs": [
    {
     "data": {
      "text/plain": [
       "Manual       696\n",
       "Automatic    536\n",
       "Name: transmission, dtype: int64"
      ]
     },
     "execution_count": 45,
     "metadata": {},
     "output_type": "execute_result"
    }
   ],
   "source": [
    "df_clean[\"transmission\"].value_counts()"
   ]
  },
  {
   "cell_type": "code",
   "execution_count": 46,
   "metadata": {},
   "outputs": [],
   "source": [
    "df_clean[\"transmission\"].fillna(\"Manual\", inplace=True)"
   ]
  },
  {
   "cell_type": "markdown",
   "metadata": {},
   "source": [
    "#### Parsing years"
   ]
  },
  {
   "cell_type": "code",
   "execution_count": 47,
   "metadata": {},
   "outputs": [],
   "source": [
    "import datetime\n",
    "\n",
    "df_clean[\"year_reg\"] = df_clean[\"year\"].apply(lambda x: x.split(\"(\")[1].replace(\")\",\"\"))\n",
    "df_clean[\"year\"] = df_clean[\"year\"].apply(lambda x: int(x.split(\"(\")[0]))"
   ]
  },
  {
   "cell_type": "code",
   "execution_count": 48,
   "metadata": {},
   "outputs": [],
   "source": [
    "df_clean[\"age\"] = datetime.date.today().year - df_clean[\"year\"]"
   ]
  },
  {
   "cell_type": "markdown",
   "metadata": {},
   "source": [
    "#### Parsing price"
   ]
  },
  {
   "cell_type": "code",
   "execution_count": 49,
   "metadata": {},
   "outputs": [],
   "source": [
    "df_clean[\"price\"] = df_clean[\"price\"].apply(lambda x: int(x.replace(\"??\",\"\").replace(\",\",\"\")))"
   ]
  },
  {
   "cell_type": "markdown",
   "metadata": {},
   "source": [
    "#### Parsing fuel"
   ]
  },
  {
   "cell_type": "code",
   "execution_count": 50,
   "metadata": {},
   "outputs": [
    {
     "data": {
      "text/plain": [
       "282    Fiat\n",
       "Name: make, dtype: object"
      ]
     },
     "execution_count": 50,
     "metadata": {},
     "output_type": "execute_result"
    }
   ],
   "source": [
    "df_fuel = df_clean[df_clean.fuel.isna()]\n",
    "df_fuel.make"
   ]
  },
  {
   "cell_type": "code",
   "execution_count": 51,
   "metadata": {},
   "outputs": [
    {
     "data": {
      "text/plain": [
       "Petrol    42\n",
       "Name: fuel, dtype: int64"
      ]
     },
     "execution_count": 51,
     "metadata": {},
     "output_type": "execute_result"
    }
   ],
   "source": [
    "df_fuel = df_clean[df_clean.make == \"Fiat\"]\n",
    "df_fuel.fuel.value_counts()"
   ]
  },
  {
   "cell_type": "code",
   "execution_count": 52,
   "metadata": {},
   "outputs": [],
   "source": [
    "df_clean[\"fuel\"].fillna(\"Petrol\", inplace=True)"
   ]
  },
  {
   "cell_type": "markdown",
   "metadata": {},
   "source": [
    "### Check and save"
   ]
  },
  {
   "cell_type": "code",
   "execution_count": 53,
   "metadata": {},
   "outputs": [
    {
     "data": {
      "text/html": [
       "<div>\n",
       "<style scoped>\n",
       "    .dataframe tbody tr th:only-of-type {\n",
       "        vertical-align: middle;\n",
       "    }\n",
       "\n",
       "    .dataframe tbody tr th {\n",
       "        vertical-align: top;\n",
       "    }\n",
       "\n",
       "    .dataframe thead th {\n",
       "        text-align: right;\n",
       "    }\n",
       "</style>\n",
       "<table border=\"1\" class=\"dataframe\">\n",
       "  <thead>\n",
       "    <tr style=\"text-align: right;\">\n",
       "      <th></th>\n",
       "      <th>BHP</th>\n",
       "      <th>ULEZ</th>\n",
       "      <th>body</th>\n",
       "      <th>engine</th>\n",
       "      <th>fuel</th>\n",
       "      <th>mileage</th>\n",
       "      <th>name</th>\n",
       "      <th>owners</th>\n",
       "      <th>price</th>\n",
       "      <th>transmission</th>\n",
       "      <th>...</th>\n",
       "      <th>bluetooth</th>\n",
       "      <th>leather</th>\n",
       "      <th>sportback</th>\n",
       "      <th>performance</th>\n",
       "      <th>parking</th>\n",
       "      <th>gti</th>\n",
       "      <th>gtd</th>\n",
       "      <th>gte</th>\n",
       "      <th>year_reg</th>\n",
       "      <th>age</th>\n",
       "    </tr>\n",
       "  </thead>\n",
       "  <tbody>\n",
       "    <tr>\n",
       "      <th>0</th>\n",
       "      <td>123.0</td>\n",
       "      <td>ULEZ</td>\n",
       "      <td>Hatchback</td>\n",
       "      <td>1.4</td>\n",
       "      <td>Petrol</td>\n",
       "      <td>34414</td>\n",
       "      <td>Audi A1 1.4 TFSI SPORT 3d 123 BHP, SPORTS SEAT...</td>\n",
       "      <td>2.0</td>\n",
       "      <td>9980</td>\n",
       "      <td>Manual</td>\n",
       "      <td>...</td>\n",
       "      <td>0</td>\n",
       "      <td>0</td>\n",
       "      <td>0</td>\n",
       "      <td>0</td>\n",
       "      <td>1</td>\n",
       "      <td>0</td>\n",
       "      <td>0</td>\n",
       "      <td>0</td>\n",
       "      <td>17 reg</td>\n",
       "      <td>3</td>\n",
       "    </tr>\n",
       "    <tr>\n",
       "      <th>1</th>\n",
       "      <td>114.0</td>\n",
       "      <td>ULEZ</td>\n",
       "      <td>Hatchback</td>\n",
       "      <td>1.4</td>\n",
       "      <td>Petrol</td>\n",
       "      <td>16773</td>\n",
       "      <td>Audi A1 TFSI Sport 3dr 1.4</td>\n",
       "      <td>2.0</td>\n",
       "      <td>11500</td>\n",
       "      <td>Manual</td>\n",
       "      <td>...</td>\n",
       "      <td>0</td>\n",
       "      <td>0</td>\n",
       "      <td>0</td>\n",
       "      <td>0</td>\n",
       "      <td>0</td>\n",
       "      <td>0</td>\n",
       "      <td>0</td>\n",
       "      <td>0</td>\n",
       "      <td>67 reg</td>\n",
       "      <td>3</td>\n",
       "    </tr>\n",
       "    <tr>\n",
       "      <th>2</th>\n",
       "      <td>114.0</td>\n",
       "      <td>ULEZ</td>\n",
       "      <td>Hatchback</td>\n",
       "      <td>1.6</td>\n",
       "      <td>Diesel</td>\n",
       "      <td>76922</td>\n",
       "      <td>Audi A1 1.6 TDI SPORT 3d 114 BHP PARKING SENSO...</td>\n",
       "      <td>2.0</td>\n",
       "      <td>8599</td>\n",
       "      <td>Manual</td>\n",
       "      <td>...</td>\n",
       "      <td>0</td>\n",
       "      <td>0</td>\n",
       "      <td>0</td>\n",
       "      <td>0</td>\n",
       "      <td>1</td>\n",
       "      <td>0</td>\n",
       "      <td>0</td>\n",
       "      <td>0</td>\n",
       "      <td>17 reg</td>\n",
       "      <td>3</td>\n",
       "    </tr>\n",
       "    <tr>\n",
       "      <th>3</th>\n",
       "      <td>114.0</td>\n",
       "      <td>ULEZ</td>\n",
       "      <td>Hatchback</td>\n",
       "      <td>1.4</td>\n",
       "      <td>Petrol</td>\n",
       "      <td>10950</td>\n",
       "      <td>Audi A1 1.4 TFSI Sport 5dr</td>\n",
       "      <td>2.0</td>\n",
       "      <td>12174</td>\n",
       "      <td>Manual</td>\n",
       "      <td>...</td>\n",
       "      <td>0</td>\n",
       "      <td>0</td>\n",
       "      <td>0</td>\n",
       "      <td>0</td>\n",
       "      <td>0</td>\n",
       "      <td>0</td>\n",
       "      <td>0</td>\n",
       "      <td>0</td>\n",
       "      <td>67 reg</td>\n",
       "      <td>3</td>\n",
       "    </tr>\n",
       "    <tr>\n",
       "      <th>4</th>\n",
       "      <td>114.0</td>\n",
       "      <td>ULEZ</td>\n",
       "      <td>Hatchback</td>\n",
       "      <td>1.6</td>\n",
       "      <td>Diesel</td>\n",
       "      <td>58278</td>\n",
       "      <td>Audi A1 1.6 TDI Sport 3dr</td>\n",
       "      <td>2.0</td>\n",
       "      <td>9172</td>\n",
       "      <td>Manual</td>\n",
       "      <td>...</td>\n",
       "      <td>0</td>\n",
       "      <td>0</td>\n",
       "      <td>0</td>\n",
       "      <td>0</td>\n",
       "      <td>0</td>\n",
       "      <td>0</td>\n",
       "      <td>0</td>\n",
       "      <td>0</td>\n",
       "      <td>67 reg</td>\n",
       "      <td>3</td>\n",
       "    </tr>\n",
       "  </tbody>\n",
       "</table>\n",
       "<p>5 rows × 30 columns</p>\n",
       "</div>"
      ],
      "text/plain": [
       "     BHP  ULEZ       body  engine    fuel  mileage  \\\n",
       "0  123.0  ULEZ  Hatchback     1.4  Petrol    34414   \n",
       "1  114.0  ULEZ  Hatchback     1.4  Petrol    16773   \n",
       "2  114.0  ULEZ  Hatchback     1.6  Diesel    76922   \n",
       "3  114.0  ULEZ  Hatchback     1.4  Petrol    10950   \n",
       "4  114.0  ULEZ  Hatchback     1.6  Diesel    58278   \n",
       "\n",
       "                                                name  owners  price  \\\n",
       "0  Audi A1 1.4 TFSI SPORT 3d 123 BHP, SPORTS SEAT...     2.0   9980   \n",
       "1                         Audi A1 TFSI Sport 3dr 1.4     2.0  11500   \n",
       "2  Audi A1 1.6 TDI SPORT 3d 114 BHP PARKING SENSO...     2.0   8599   \n",
       "3                         Audi A1 1.4 TFSI Sport 5dr     2.0  12174   \n",
       "4                          Audi A1 1.6 TDI Sport 3dr     2.0   9172   \n",
       "\n",
       "  transmission  ...  bluetooth leather sportback  performance  parking  gti  \\\n",
       "0       Manual  ...          0       0         0            0        1    0   \n",
       "1       Manual  ...          0       0         0            0        0    0   \n",
       "2       Manual  ...          0       0         0            0        1    0   \n",
       "3       Manual  ...          0       0         0            0        0    0   \n",
       "4       Manual  ...          0       0         0            0        0    0   \n",
       "\n",
       "   gtd  gte  year_reg  age  \n",
       "0    0    0    17 reg    3  \n",
       "1    0    0    67 reg    3  \n",
       "2    0    0    17 reg    3  \n",
       "3    0    0    67 reg    3  \n",
       "4    0    0    67 reg    3  \n",
       "\n",
       "[5 rows x 30 columns]"
      ]
     },
     "execution_count": 53,
     "metadata": {},
     "output_type": "execute_result"
    }
   ],
   "source": [
    "df_clean.head()"
   ]
  },
  {
   "cell_type": "code",
   "execution_count": 54,
   "metadata": {},
   "outputs": [
    {
     "name": "stdout",
     "output_type": "stream",
     "text": [
      "<class 'pandas.core.frame.DataFrame'>\n",
      "RangeIndex: 1233 entries, 0 to 1232\n",
      "Data columns (total 30 columns):\n",
      "BHP             1233 non-null float64\n",
      "ULEZ            1233 non-null object\n",
      "body            1233 non-null object\n",
      "engine          1233 non-null float64\n",
      "fuel            1233 non-null object\n",
      "mileage         1233 non-null int64\n",
      "name            1233 non-null object\n",
      "owners          1233 non-null float64\n",
      "price           1233 non-null int64\n",
      "transmission    1233 non-null object\n",
      "year            1233 non-null int64\n",
      "make            1233 non-null object\n",
      "model           1233 non-null object\n",
      "missing_BHP     1233 non-null int64\n",
      "se              1233 non-null int64\n",
      "s line          1233 non-null int64\n",
      "sport           1233 non-null int64\n",
      "m_sport         1233 non-null int64\n",
      "amg             1233 non-null int64\n",
      "sat_nav         1233 non-null int64\n",
      "bluetooth       1233 non-null int64\n",
      "leather         1233 non-null int64\n",
      "sportback       1233 non-null int64\n",
      "performance     1233 non-null int64\n",
      "parking         1233 non-null int64\n",
      "gti             1233 non-null int64\n",
      "gtd             1233 non-null int64\n",
      "gte             1233 non-null int64\n",
      "year_reg        1233 non-null object\n",
      "age             1233 non-null int64\n",
      "dtypes: float64(3), int64(19), object(8)\n",
      "memory usage: 289.1+ KB\n"
     ]
    }
   ],
   "source": [
    "df_clean.info()"
   ]
  },
  {
   "cell_type": "code",
   "execution_count": 55,
   "metadata": {},
   "outputs": [
    {
     "data": {
      "text/html": [
       "<div>\n",
       "<style scoped>\n",
       "    .dataframe tbody tr th:only-of-type {\n",
       "        vertical-align: middle;\n",
       "    }\n",
       "\n",
       "    .dataframe tbody tr th {\n",
       "        vertical-align: top;\n",
       "    }\n",
       "\n",
       "    .dataframe thead th {\n",
       "        text-align: right;\n",
       "    }\n",
       "</style>\n",
       "<table border=\"1\" class=\"dataframe\">\n",
       "  <thead>\n",
       "    <tr style=\"text-align: right;\">\n",
       "      <th></th>\n",
       "      <th>BHP</th>\n",
       "      <th>engine</th>\n",
       "      <th>mileage</th>\n",
       "      <th>owners</th>\n",
       "      <th>price</th>\n",
       "      <th>year</th>\n",
       "      <th>missing_BHP</th>\n",
       "      <th>se</th>\n",
       "      <th>s line</th>\n",
       "      <th>sport</th>\n",
       "      <th>...</th>\n",
       "      <th>sat_nav</th>\n",
       "      <th>bluetooth</th>\n",
       "      <th>leather</th>\n",
       "      <th>sportback</th>\n",
       "      <th>performance</th>\n",
       "      <th>parking</th>\n",
       "      <th>gti</th>\n",
       "      <th>gtd</th>\n",
       "      <th>gte</th>\n",
       "      <th>age</th>\n",
       "    </tr>\n",
       "  </thead>\n",
       "  <tbody>\n",
       "    <tr>\n",
       "      <th>count</th>\n",
       "      <td>1233.000000</td>\n",
       "      <td>1233.000000</td>\n",
       "      <td>1233.000000</td>\n",
       "      <td>1233.000000</td>\n",
       "      <td>1233.000000</td>\n",
       "      <td>1233.000000</td>\n",
       "      <td>1233.000000</td>\n",
       "      <td>1233.000000</td>\n",
       "      <td>1233.000000</td>\n",
       "      <td>1233.000000</td>\n",
       "      <td>...</td>\n",
       "      <td>1233.000000</td>\n",
       "      <td>1233.000000</td>\n",
       "      <td>1233.000000</td>\n",
       "      <td>1233.000000</td>\n",
       "      <td>1233.000000</td>\n",
       "      <td>1233.000000</td>\n",
       "      <td>1233.000000</td>\n",
       "      <td>1233.000000</td>\n",
       "      <td>1233.000000</td>\n",
       "      <td>1233.000000</td>\n",
       "    </tr>\n",
       "    <tr>\n",
       "      <th>mean</th>\n",
       "      <td>148.409311</td>\n",
       "      <td>1.616139</td>\n",
       "      <td>19593.000000</td>\n",
       "      <td>2.000811</td>\n",
       "      <td>17200.058394</td>\n",
       "      <td>2018.022709</td>\n",
       "      <td>0.313058</td>\n",
       "      <td>0.265207</td>\n",
       "      <td>0.071371</td>\n",
       "      <td>0.248986</td>\n",
       "      <td>...</td>\n",
       "      <td>0.171127</td>\n",
       "      <td>0.023520</td>\n",
       "      <td>0.018654</td>\n",
       "      <td>0.052717</td>\n",
       "      <td>0.011354</td>\n",
       "      <td>0.010543</td>\n",
       "      <td>0.016221</td>\n",
       "      <td>0.019465</td>\n",
       "      <td>0.017032</td>\n",
       "      <td>1.977291</td>\n",
       "    </tr>\n",
       "    <tr>\n",
       "      <th>std</th>\n",
       "      <td>51.538445</td>\n",
       "      <td>0.429369</td>\n",
       "      <td>13701.411563</td>\n",
       "      <td>0.028479</td>\n",
       "      <td>5072.432386</td>\n",
       "      <td>1.071837</td>\n",
       "      <td>0.463926</td>\n",
       "      <td>0.441622</td>\n",
       "      <td>0.257547</td>\n",
       "      <td>0.432601</td>\n",
       "      <td>...</td>\n",
       "      <td>0.376773</td>\n",
       "      <td>0.151609</td>\n",
       "      <td>0.135354</td>\n",
       "      <td>0.223559</td>\n",
       "      <td>0.105993</td>\n",
       "      <td>0.102180</td>\n",
       "      <td>0.126374</td>\n",
       "      <td>0.138208</td>\n",
       "      <td>0.129442</td>\n",
       "      <td>1.071837</td>\n",
       "    </tr>\n",
       "    <tr>\n",
       "      <th>min</th>\n",
       "      <td>68.000000</td>\n",
       "      <td>0.000000</td>\n",
       "      <td>10.000000</td>\n",
       "      <td>2.000000</td>\n",
       "      <td>5995.000000</td>\n",
       "      <td>2017.000000</td>\n",
       "      <td>0.000000</td>\n",
       "      <td>0.000000</td>\n",
       "      <td>0.000000</td>\n",
       "      <td>0.000000</td>\n",
       "      <td>...</td>\n",
       "      <td>0.000000</td>\n",
       "      <td>0.000000</td>\n",
       "      <td>0.000000</td>\n",
       "      <td>0.000000</td>\n",
       "      <td>0.000000</td>\n",
       "      <td>0.000000</td>\n",
       "      <td>0.000000</td>\n",
       "      <td>0.000000</td>\n",
       "      <td>0.000000</td>\n",
       "      <td>0.000000</td>\n",
       "    </tr>\n",
       "    <tr>\n",
       "      <th>25%</th>\n",
       "      <td>118.000000</td>\n",
       "      <td>1.300000</td>\n",
       "      <td>10665.000000</td>\n",
       "      <td>2.000000</td>\n",
       "      <td>13599.000000</td>\n",
       "      <td>2017.000000</td>\n",
       "      <td>0.000000</td>\n",
       "      <td>0.000000</td>\n",
       "      <td>0.000000</td>\n",
       "      <td>0.000000</td>\n",
       "      <td>...</td>\n",
       "      <td>0.000000</td>\n",
       "      <td>0.000000</td>\n",
       "      <td>0.000000</td>\n",
       "      <td>0.000000</td>\n",
       "      <td>0.000000</td>\n",
       "      <td>0.000000</td>\n",
       "      <td>0.000000</td>\n",
       "      <td>0.000000</td>\n",
       "      <td>0.000000</td>\n",
       "      <td>1.000000</td>\n",
       "    </tr>\n",
       "    <tr>\n",
       "      <th>50%</th>\n",
       "      <td>134.000000</td>\n",
       "      <td>1.500000</td>\n",
       "      <td>16805.000000</td>\n",
       "      <td>2.000000</td>\n",
       "      <td>16275.000000</td>\n",
       "      <td>2018.000000</td>\n",
       "      <td>0.000000</td>\n",
       "      <td>0.000000</td>\n",
       "      <td>0.000000</td>\n",
       "      <td>0.000000</td>\n",
       "      <td>...</td>\n",
       "      <td>0.000000</td>\n",
       "      <td>0.000000</td>\n",
       "      <td>0.000000</td>\n",
       "      <td>0.000000</td>\n",
       "      <td>0.000000</td>\n",
       "      <td>0.000000</td>\n",
       "      <td>0.000000</td>\n",
       "      <td>0.000000</td>\n",
       "      <td>0.000000</td>\n",
       "      <td>2.000000</td>\n",
       "    </tr>\n",
       "    <tr>\n",
       "      <th>75%</th>\n",
       "      <td>158.000000</td>\n",
       "      <td>2.000000</td>\n",
       "      <td>26179.000000</td>\n",
       "      <td>2.000000</td>\n",
       "      <td>20300.000000</td>\n",
       "      <td>2019.000000</td>\n",
       "      <td>1.000000</td>\n",
       "      <td>1.000000</td>\n",
       "      <td>0.000000</td>\n",
       "      <td>0.000000</td>\n",
       "      <td>...</td>\n",
       "      <td>0.000000</td>\n",
       "      <td>0.000000</td>\n",
       "      <td>0.000000</td>\n",
       "      <td>0.000000</td>\n",
       "      <td>0.000000</td>\n",
       "      <td>0.000000</td>\n",
       "      <td>0.000000</td>\n",
       "      <td>0.000000</td>\n",
       "      <td>0.000000</td>\n",
       "      <td>3.000000</td>\n",
       "    </tr>\n",
       "    <tr>\n",
       "      <th>max</th>\n",
       "      <td>469.000000</td>\n",
       "      <td>4.000000</td>\n",
       "      <td>124395.000000</td>\n",
       "      <td>3.000000</td>\n",
       "      <td>53995.000000</td>\n",
       "      <td>2020.000000</td>\n",
       "      <td>1.000000</td>\n",
       "      <td>1.000000</td>\n",
       "      <td>1.000000</td>\n",
       "      <td>1.000000</td>\n",
       "      <td>...</td>\n",
       "      <td>1.000000</td>\n",
       "      <td>1.000000</td>\n",
       "      <td>1.000000</td>\n",
       "      <td>1.000000</td>\n",
       "      <td>1.000000</td>\n",
       "      <td>1.000000</td>\n",
       "      <td>1.000000</td>\n",
       "      <td>1.000000</td>\n",
       "      <td>1.000000</td>\n",
       "      <td>3.000000</td>\n",
       "    </tr>\n",
       "  </tbody>\n",
       "</table>\n",
       "<p>8 rows × 22 columns</p>\n",
       "</div>"
      ],
      "text/plain": [
       "               BHP       engine        mileage       owners         price  \\\n",
       "count  1233.000000  1233.000000    1233.000000  1233.000000   1233.000000   \n",
       "mean    148.409311     1.616139   19593.000000     2.000811  17200.058394   \n",
       "std      51.538445     0.429369   13701.411563     0.028479   5072.432386   \n",
       "min      68.000000     0.000000      10.000000     2.000000   5995.000000   \n",
       "25%     118.000000     1.300000   10665.000000     2.000000  13599.000000   \n",
       "50%     134.000000     1.500000   16805.000000     2.000000  16275.000000   \n",
       "75%     158.000000     2.000000   26179.000000     2.000000  20300.000000   \n",
       "max     469.000000     4.000000  124395.000000     3.000000  53995.000000   \n",
       "\n",
       "              year  missing_BHP           se       s line        sport  ...  \\\n",
       "count  1233.000000  1233.000000  1233.000000  1233.000000  1233.000000  ...   \n",
       "mean   2018.022709     0.313058     0.265207     0.071371     0.248986  ...   \n",
       "std       1.071837     0.463926     0.441622     0.257547     0.432601  ...   \n",
       "min    2017.000000     0.000000     0.000000     0.000000     0.000000  ...   \n",
       "25%    2017.000000     0.000000     0.000000     0.000000     0.000000  ...   \n",
       "50%    2018.000000     0.000000     0.000000     0.000000     0.000000  ...   \n",
       "75%    2019.000000     1.000000     1.000000     0.000000     0.000000  ...   \n",
       "max    2020.000000     1.000000     1.000000     1.000000     1.000000  ...   \n",
       "\n",
       "           sat_nav    bluetooth      leather    sportback  performance  \\\n",
       "count  1233.000000  1233.000000  1233.000000  1233.000000  1233.000000   \n",
       "mean      0.171127     0.023520     0.018654     0.052717     0.011354   \n",
       "std       0.376773     0.151609     0.135354     0.223559     0.105993   \n",
       "min       0.000000     0.000000     0.000000     0.000000     0.000000   \n",
       "25%       0.000000     0.000000     0.000000     0.000000     0.000000   \n",
       "50%       0.000000     0.000000     0.000000     0.000000     0.000000   \n",
       "75%       0.000000     0.000000     0.000000     0.000000     0.000000   \n",
       "max       1.000000     1.000000     1.000000     1.000000     1.000000   \n",
       "\n",
       "           parking          gti          gtd          gte          age  \n",
       "count  1233.000000  1233.000000  1233.000000  1233.000000  1233.000000  \n",
       "mean      0.010543     0.016221     0.019465     0.017032     1.977291  \n",
       "std       0.102180     0.126374     0.138208     0.129442     1.071837  \n",
       "min       0.000000     0.000000     0.000000     0.000000     0.000000  \n",
       "25%       0.000000     0.000000     0.000000     0.000000     1.000000  \n",
       "50%       0.000000     0.000000     0.000000     0.000000     2.000000  \n",
       "75%       0.000000     0.000000     0.000000     0.000000     3.000000  \n",
       "max       1.000000     1.000000     1.000000     1.000000     3.000000  \n",
       "\n",
       "[8 rows x 22 columns]"
      ]
     },
     "execution_count": 55,
     "metadata": {},
     "output_type": "execute_result"
    }
   ],
   "source": [
    "df_clean.describe()"
   ]
  },
  {
   "cell_type": "code",
   "execution_count": 56,
   "metadata": {},
   "outputs": [
    {
     "data": {
      "text/plain": [
       "BHP             0\n",
       "ULEZ            0\n",
       "body            0\n",
       "engine          0\n",
       "fuel            0\n",
       "mileage         0\n",
       "name            0\n",
       "owners          0\n",
       "price           0\n",
       "transmission    0\n",
       "year            0\n",
       "make            0\n",
       "model           0\n",
       "missing_BHP     0\n",
       "se              0\n",
       "s line          0\n",
       "sport           0\n",
       "m_sport         0\n",
       "amg             0\n",
       "sat_nav         0\n",
       "bluetooth       0\n",
       "leather         0\n",
       "sportback       0\n",
       "performance     0\n",
       "parking         0\n",
       "gti             0\n",
       "gtd             0\n",
       "gte             0\n",
       "year_reg        0\n",
       "age             0\n",
       "dtype: int64"
      ]
     },
     "execution_count": 56,
     "metadata": {},
     "output_type": "execute_result"
    }
   ],
   "source": [
    "df_clean.isna().sum()"
   ]
  },
  {
   "cell_type": "code",
   "execution_count": 57,
   "metadata": {},
   "outputs": [],
   "source": [
    "df_clean.to_csv(\"autotrader_prices_cleaned.csv\", index=False)"
   ]
  }
 ],
 "metadata": {
  "kernelspec": {
   "display_name": "Python 3",
   "language": "python",
   "name": "python3"
  },
  "language_info": {
   "codemirror_mode": {
    "name": "ipython",
    "version": 3
   },
   "file_extension": ".py",
   "mimetype": "text/x-python",
   "name": "python",
   "nbconvert_exporter": "python",
   "pygments_lexer": "ipython3",
   "version": "3.7.3"
  }
 },
 "nbformat": 4,
 "nbformat_minor": 2
}
